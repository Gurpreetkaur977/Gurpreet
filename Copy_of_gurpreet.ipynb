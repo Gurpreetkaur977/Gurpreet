{
  "nbformat": 4,
  "nbformat_minor": 0,
  "metadata": {
    "colab": {
      "provenance": [],
      "include_colab_link": true
    },
    "kernelspec": {
      "name": "python3",
      "display_name": "Python 3"
    },
    "language_info": {
      "name": "python"
    }
  },
  "cells": [
    {
      "cell_type": "markdown",
      "metadata": {
        "id": "view-in-github",
        "colab_type": "text"
      },
      "source": [
        "<a href=\"https://colab.research.google.com/github/Gurpreetkaur977/Gurpreet/blob/main/Copy_of_gurpreet.ipynb\" target=\"_parent\"><img src=\"https://colab.research.google.com/assets/colab-badge.svg\" alt=\"Open In Colab\"/></a>"
      ]
    },
    {
      "cell_type": "markdown",
      "source": [
        "##Assignment **1**"
      ],
      "metadata": {
        "id": "YI3PCWNDanOc"
      }
    },
    {
      "cell_type": "code",
      "source": [],
      "metadata": {
        "id": "VyxUXQr4_W2E"
      },
      "execution_count": null,
      "outputs": []
    },
    {
      "cell_type": "markdown",
      "source": [],
      "metadata": {
        "id": "ihI8BBUr_bHL"
      }
    },
    {
      "cell_type": "markdown",
      "source": [
        "## 1.Create variables to store your name (string), age (integer), and course (string). Print all of them using a single print() statement."
      ],
      "metadata": {
        "id": "uiquEIrDk4K6"
      }
    },
    {
      "cell_type": "code",
      "source": [
        "name=\"gurpreet kaur\"\n",
        "age=19\n",
        "course=\"b.Tech\"\n",
        "print(name,age,course)\n"
      ],
      "metadata": {
        "colab": {
          "base_uri": "https://localhost:8080/"
        },
        "id": "9eRTG6oUk_QQ",
        "outputId": "88bfbb70-61f9-4433-89fa-8b7897d841a6"
      },
      "execution_count": null,
      "outputs": [
        {
          "output_type": "stream",
          "name": "stdout",
          "text": [
            "gurpreet kaur 19 b.Tech\n"
          ]
        }
      ]
    },
    {
      "cell_type": "markdown",
      "source": [],
      "metadata": {
        "id": "dfyJaszXa56b"
      }
    },
    {
      "cell_type": "markdown",
      "source": [
        "###  2.Write a program to swap two numbers without using a third variable. Example: a = 4, b = 9."
      ],
      "metadata": {
        "id": "jv-q6vKRloT_"
      }
    },
    {
      "cell_type": "code",
      "source": [
        "a=4\n",
        "b=9\n",
        "a,b=b,a\n",
        "print(a,b)"
      ],
      "metadata": {
        "colab": {
          "base_uri": "https://localhost:8080/"
        },
        "id": "PQxizUGmlvFi",
        "outputId": "db15752e-9f83-485d-8b8c-5c38d2cdba34"
      },
      "execution_count": null,
      "outputs": [
        {
          "output_type": "stream",
          "name": "stdout",
          "text": [
            "9 4\n"
          ]
        }
      ]
    },
    {
      "cell_type": "markdown",
      "source": [
        "### 3.Take two numbers from the user and display:\n",
        "• Sum\n",
        "• Difference\n",
        "• Product\n",
        "• Quotient\n",
        "• Remainder"
      ],
      "metadata": {
        "id": "ZTqsvBCAl56w"
      }
    },
    {
      "cell_type": "code",
      "source": [
        "a=12\n",
        "b=4\n",
        "print(a+b)\n",
        "print(a-b)\n",
        "print(a*b)\n",
        "print(a/b)\n",
        "print(a%b)\n",
        "\n",
        "\n"
      ],
      "metadata": {
        "colab": {
          "base_uri": "https://localhost:8080/"
        },
        "id": "pkZrfQ5cmATc",
        "outputId": "62207f4c-b189-47fc-8b3a-cd8a677b3d9f"
      },
      "execution_count": null,
      "outputs": [
        {
          "output_type": "stream",
          "name": "stdout",
          "text": [
            "16\n",
            "8\n",
            "48\n",
            "3.0\n",
            "0\n"
          ]
        }
      ]
    },
    {
      "cell_type": "markdown",
      "source": [
        "#### 4.Take marks of 5 subjects and calculate the total and percentage\n"
      ],
      "metadata": {
        "id": "kFxW3fxcm6OX"
      }
    },
    {
      "cell_type": "code",
      "source": [
        "english=80\n",
        "punjabi=80\n",
        "maths=79\n",
        "science=79\n",
        "hindi=80\n",
        "total=english+punjabi+maths+science+hindi\n",
        "print(total/400*100)"
      ],
      "metadata": {
        "colab": {
          "base_uri": "https://localhost:8080/"
        },
        "id": "vbr0pmELnE6R",
        "outputId": "f06cdfa6-c97e-4ae9-9e0a-925bb9127964"
      },
      "execution_count": null,
      "outputs": [
        {
          "output_type": "stream",
          "name": "stdout",
          "text": [
            "99.5\n"
          ]
        }
      ]
    },
    {
      "cell_type": "markdown",
      "source": [],
      "metadata": {
        "id": "RljbvOmlbwbW"
      }
    },
    {
      "cell_type": "markdown",
      "source": [
        "### 5.Start with x = 10. Then:\n",
        "• Add 5 using +=\n",
        "• Multiply by 2 using *=\n",
        "• Subtract 4 using -=\n",
        "• Divide by 2 using /=\n",
        "Print the value after each operation."
      ],
      "metadata": {
        "id": "xH2QsK97nyIl"
      }
    },
    {
      "cell_type": "code",
      "source": [
        "x=10\n",
        "x+=2\n",
        "print(x)\n",
        "x=10\n",
        "x*=2\n",
        "print(x)\n",
        "x=10\n",
        "x-=4\n",
        "print(x)\n",
        "x=10\n",
        "x/=2\n",
        "print(x)\n",
        "\n",
        "\n",
        "\n"
      ],
      "metadata": {
        "colab": {
          "base_uri": "https://localhost:8080/"
        },
        "id": "5A7bmMICn5XZ",
        "outputId": "a2049286-b6b4-4220-f1be-ed2bdd57ddd9"
      },
      "execution_count": null,
      "outputs": [
        {
          "output_type": "stream",
          "name": "stdout",
          "text": [
            "12\n",
            "20\n",
            "6\n",
            "5.0\n"
          ]
        }
      ]
    },
    {
      "cell_type": "markdown",
      "source": [],
      "metadata": {
        "id": "UYAA1uprb6Zl"
      }
    },
    {
      "cell_type": "markdown",
      "source": [
        "### 6.Write a program that compares two numbers and prints:\n",
        "• Whether they are equal\n",
        "• Whether the first is greater\n",
        "• Whether the second is greater"
      ],
      "metadata": {
        "id": "TZ5Xslwfoy8G"
      }
    },
    {
      "cell_type": "code",
      "source": [
        "a=24\n",
        "b=18\n",
        "print(a==b)\n",
        "print(a>b)\n",
        "print(a<b)"
      ],
      "metadata": {
        "colab": {
          "base_uri": "https://localhost:8080/"
        },
        "id": "ZWYYzagqo43U",
        "outputId": "cb7a3065-77a6-4fb2-bef0-6c5fffa06153"
      },
      "execution_count": null,
      "outputs": [
        {
          "output_type": "stream",
          "name": "stdout",
          "text": [
            "False\n",
            "True\n",
            "False\n"
          ]
        }
      ]
    },
    {
      "cell_type": "markdown",
      "source": [],
      "metadata": {
        "id": "dx5shAUacECr"
      }
    },
    {
      "cell_type": "markdown",
      "source": [
        "#### 7.Write a program that compares two numbers and prints:\n",
        "• Whether they are equal\n",
        "• Whether the first is greater\n",
        "• Whether the second is greater\n",
        "\n"
      ],
      "metadata": {
        "id": "CivI974XpLCk"
      }
    },
    {
      "cell_type": "code",
      "source": [
        "is_raining= True\n",
        "have_umbrella=False\n",
        "print(is_raining and have_umbrella)\n",
        "print(is_raining or have_umbrella)\n",
        "\n"
      ],
      "metadata": {
        "colab": {
          "base_uri": "https://localhost:8080/"
        },
        "id": "KeqU4xiQpS0X",
        "outputId": "c8f2e004-5faf-4780-c504-0556c60db35b"
      },
      "execution_count": null,
      "outputs": [
        {
          "output_type": "stream",
          "name": "stdout",
          "text": [
            "False\n",
            "True\n"
          ]
        }
      ]
    },
    {
      "cell_type": "markdown",
      "source": [],
      "metadata": {
        "id": "-sE5x0uGcOGT"
      }
    },
    {
      "cell_type": "markdown",
      "source": [
        "### 8.Create two identical lists and compare them using:\n",
        "• ==\n",
        "• is\n",
        "Print and explain the result."
      ],
      "metadata": {
        "id": "RrCBkugkp_Rd"
      }
    },
    {
      "cell_type": "code",
      "source": [
        "l1=[12,45,56,34,15]\n",
        "l2=[12,45,56,34,15]\n",
        "print(l1==l2)\n",
        "print(l1 is l2)"
      ],
      "metadata": {
        "colab": {
          "base_uri": "https://localhost:8080/"
        },
        "id": "m2g1EwRPqEOx",
        "outputId": "a32d6879-02f4-42ea-a85b-81309e35efe9"
      },
      "execution_count": null,
      "outputs": [
        {
          "output_type": "stream",
          "name": "stdout",
          "text": [
            "True\n",
            "False\n"
          ]
        }
      ]
    },
    {
      "cell_type": "markdown",
      "source": [],
      "metadata": {
        "id": "Qyinvv7WcYSB"
      }
    },
    {
      "cell_type": "markdown",
      "source": [
        "### 9.Take two numbers and show the result of:\n",
        "• Bitwise AND (&)\n",
        "• Bitwise OR (|)\n",
        "• Bitwise XOR (^)"
      ],
      "metadata": {
        "id": "KwXsnB2VM8Yz"
      }
    },
    {
      "cell_type": "code",
      "source": [
        "n1=1011\n",
        "n2=1110\n",
        "print(n1 & n2)\n",
        "print(n1 | n2)\n",
        "print(n1 ^ n2)"
      ],
      "metadata": {
        "colab": {
          "base_uri": "https://localhost:8080/"
        },
        "id": "lYeJttAWNEBw",
        "outputId": "e963b9ff-8508-4d3e-f87b-c6151bcc2b1f"
      },
      "execution_count": null,
      "outputs": [
        {
          "output_type": "stream",
          "name": "stdout",
          "text": [
            "82\n",
            "2039\n",
            "1957\n"
          ]
        }
      ]
    },
    {
      "cell_type": "markdown",
      "source": [],
      "metadata": {
        "id": "gXJgPJDNckml"
      }
    },
    {
      "cell_type": "markdown",
      "source": [
        "#### 10.Take user input for an integer and a float. Add them and print:\n",
        "• Their types using type()\n",
        "• Their sum as an integer\n"
      ],
      "metadata": {
        "id": "b7M9d-BsPQxZ"
      }
    },
    {
      "cell_type": "code",
      "source": [
        "a=5\n",
        "n=float(a)\n",
        "print(n)\n",
        "print(type(n))"
      ],
      "metadata": {
        "colab": {
          "base_uri": "https://localhost:8080/"
        },
        "id": "cI87O5-MPTYZ",
        "outputId": "4a0b931f-46cb-4ac7-8cf5-b4f524f0cd1e"
      },
      "execution_count": null,
      "outputs": [
        {
          "output_type": "stream",
          "name": "stdout",
          "text": [
            "5.0\n",
            "<class 'float'>\n"
          ]
        }
      ]
    },
    {
      "cell_type": "markdown",
      "source": [
        "##Assignment 2"
      ],
      "metadata": {
        "id": "Y5dvDPPkdItM"
      }
    },
    {
      "cell_type": "markdown",
      "source": [
        "## 1. WAP to print number 1 to 10 but stop the loop when number reach 9"
      ],
      "metadata": {
        "id": "2IobCmr36lhn"
      }
    },
    {
      "cell_type": "code",
      "source": [
        "count=0\n",
        "while (count<10):\n",
        "  print(count)\n",
        "  count=count+1\n"
      ],
      "metadata": {
        "colab": {
          "base_uri": "https://localhost:8080/"
        },
        "id": "k49KpCJY7eSs",
        "outputId": "8eb40378-2d5a-41db-f37d-35591147771c"
      },
      "execution_count": null,
      "outputs": [
        {
          "output_type": "stream",
          "name": "stdout",
          "text": [
            "0\n",
            "1\n",
            "2\n",
            "3\n",
            "4\n",
            "5\n",
            "6\n",
            "7\n",
            "8\n",
            "9\n"
          ]
        }
      ]
    },
    {
      "cell_type": "markdown",
      "source": [
        "## 2.WAP that keep asking the user to enter the number and stop when the user enter a negative number"
      ],
      "metadata": {
        "id": "8AEQgcXC7ulv"
      }
    },
    {
      "cell_type": "code",
      "source": [
        "while True:\n",
        "  r=int(input(\"enter the number=\"))\n",
        "  if (r>0):\n",
        "    print(\"number is positive\")\n",
        "  else:\n",
        "    print(\"number is negative\")\n",
        "    break"
      ],
      "metadata": {
        "colab": {
          "base_uri": "https://localhost:8080/"
        },
        "id": "QjChhZGe7z6e",
        "outputId": "f11dd4da-921f-4412-a175-83d718f80e78"
      },
      "execution_count": null,
      "outputs": [
        {
          "output_type": "stream",
          "name": "stdout",
          "text": [
            "enter the number=67\n",
            "number is positive\n",
            "enter the number=-6\n",
            "number is negative\n"
          ]
        }
      ]
    },
    {
      "cell_type": "markdown",
      "source": [],
      "metadata": {
        "id": "qatiakLy-bYd"
      }
    },
    {
      "cell_type": "markdown",
      "source": [
        "3.WAP to find first even number in a list using a for loop and break"
      ],
      "metadata": {
        "id": "WKRQ8kZV7_nW"
      }
    },
    {
      "cell_type": "code",
      "source": [
        "L=[1,3,5,6,3,78,89,88,78,76,99,55,33]\n",
        "for i in range (len(L)):\n",
        "  if (L[i]%2==0):\n",
        "    print(\"first even number is \",L[i])\n",
        "    break\n"
      ],
      "metadata": {
        "colab": {
          "base_uri": "https://localhost:8080/"
        },
        "id": "3sPjX1mT8FqO",
        "outputId": "0f230f59-f504-49e3-dbf9-405ec48f9083"
      },
      "execution_count": null,
      "outputs": [
        {
          "output_type": "stream",
          "name": "stdout",
          "text": [
            "first even number is  6\n"
          ]
        }
      ]
    },
    {
      "cell_type": "markdown",
      "source": [
        "## 4. keep adding number onwords until total sum exceeds 25 print last sum and digit"
      ],
      "metadata": {
        "id": "n6_vgpJL8N-j"
      }
    },
    {
      "cell_type": "code",
      "source": [
        "sum=0\n",
        "for i in range(0,50):\n",
        "  sum+=i\n",
        "  if sum<25:\n",
        "    print(\"last sum=\",sum)\n",
        "    print(\"last digit =\",i)"
      ],
      "metadata": {
        "colab": {
          "base_uri": "https://localhost:8080/"
        },
        "id": "45ghuOVA8d0m",
        "outputId": "9ca3394c-6077-4785-c955-11935c1d749c"
      },
      "execution_count": null,
      "outputs": [
        {
          "output_type": "stream",
          "name": "stdout",
          "text": [
            "last sum= 0\n",
            "last digit = 0\n",
            "last sum= 1\n",
            "last digit = 1\n",
            "last sum= 3\n",
            "last digit = 2\n",
            "last sum= 6\n",
            "last digit = 3\n",
            "last sum= 10\n",
            "last digit = 4\n",
            "last sum= 15\n",
            "last digit = 5\n",
            "last sum= 21\n",
            "last digit = 6\n"
          ]
        }
      ]
    },
    {
      "cell_type": "markdown",
      "source": [
        "## 5.keep asking the user to guess the password until they guess admin123 . use while and break"
      ],
      "metadata": {
        "id": "ml1eC9i08kqC"
      }
    },
    {
      "cell_type": "code",
      "source": [
        "while True:\n",
        "  x=input(\"enter the password:\")\n",
        "  if (x==\"admin123\"):\n",
        "    print(\"correct pass\")\n",
        "    break\n",
        "  else:\n",
        "    print(\"wrong pass\")\n"
      ],
      "metadata": {
        "colab": {
          "base_uri": "https://localhost:8080/"
        },
        "id": "6O9A-wGn81Uo",
        "outputId": "cd5756f6-0d9c-4104-cd0c-071be45488db"
      },
      "execution_count": null,
      "outputs": [
        {
          "output_type": "stream",
          "name": "stdout",
          "text": [
            "enter the password:6785\n",
            "wrong pass\n",
            "enter the password:admin123\n",
            "correct pass\n"
          ]
        }
      ]
    }
  ]
}