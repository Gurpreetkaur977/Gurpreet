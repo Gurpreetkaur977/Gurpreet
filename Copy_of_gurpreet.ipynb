{
  "nbformat": 4,
  "nbformat_minor": 0,
  "metadata": {
    "colab": {
      "provenance": [],
      "include_colab_link": true
    },
    "kernelspec": {
      "name": "python3",
      "display_name": "Python 3"
    },
    "language_info": {
      "name": "python"
    }
  },
  "cells": [
    {
      "cell_type": "markdown",
      "metadata": {
        "id": "view-in-github",
        "colab_type": "text"
      },
      "source": [
        "<a href=\"https://colab.research.google.com/github/Gurpreetkaur977/Gurpreet/blob/main/Copy_of_gurpreet.ipynb\" target=\"_parent\"><img src=\"https://colab.research.google.com/assets/colab-badge.svg\" alt=\"Open In Colab\"/></a>"
      ]
    },
    {
      "cell_type": "markdown",
      "source": [
        "##Assignment **1**"
      ],
      "metadata": {
        "id": "YI3PCWNDanOc"
      }
    },
    {
      "cell_type": "markdown",
      "source": [
        "## 1.Create variables to store your name (string), age (integer), and course (string). Print all of them using a single print() statement."
      ],
      "metadata": {
        "id": "uiquEIrDk4K6"
      }
    },
    {
      "cell_type": "code",
      "source": [
        "name=\"gurpreet kaur\"\n",
        "age=19\n",
        "course=\"b.Tech\"\n",
        "print(name,age,course)\n"
      ],
      "metadata": {
        "colab": {
          "base_uri": "https://localhost:8080/"
        },
        "id": "9eRTG6oUk_QQ",
        "outputId": "88bfbb70-61f9-4433-89fa-8b7897d841a6"
      },
      "execution_count": null,
      "outputs": [
        {
          "output_type": "stream",
          "name": "stdout",
          "text": [
            "gurpreet kaur 19 b.Tech\n"
          ]
        }
      ]
    },
    {
      "cell_type": "markdown",
      "source": [
        "###  2.Write a program to swap two numbers without using a third variable. Example: a = 4, b = 9."
      ],
      "metadata": {
        "id": "jv-q6vKRloT_"
      }
    },
    {
      "cell_type": "code",
      "source": [
        "a=4\n",
        "b=9\n",
        "a,b=b,a\n",
        "print(a,b)"
      ],
      "metadata": {
        "colab": {
          "base_uri": "https://localhost:8080/"
        },
        "id": "PQxizUGmlvFi",
        "outputId": "db15752e-9f83-485d-8b8c-5c38d2cdba34"
      },
      "execution_count": null,
      "outputs": [
        {
          "output_type": "stream",
          "name": "stdout",
          "text": [
            "9 4\n"
          ]
        }
      ]
    },
    {
      "cell_type": "markdown",
      "source": [
        "### 3.Take two numbers from the user and display:\n",
        "• Sum\n",
        "• Difference\n",
        "• Product\n",
        "• Quotient\n",
        "• Remainder"
      ],
      "metadata": {
        "id": "ZTqsvBCAl56w"
      }
    },
    {
      "cell_type": "code",
      "source": [
        "a=12\n",
        "b=4\n",
        "print(a+b)\n",
        "print(a-b)\n",
        "print(a*b)\n",
        "print(a/b)\n",
        "print(a%b)\n",
        "\n",
        "\n"
      ],
      "metadata": {
        "colab": {
          "base_uri": "https://localhost:8080/"
        },
        "id": "pkZrfQ5cmATc",
        "outputId": "62207f4c-b189-47fc-8b3a-cd8a677b3d9f"
      },
      "execution_count": null,
      "outputs": [
        {
          "output_type": "stream",
          "name": "stdout",
          "text": [
            "16\n",
            "8\n",
            "48\n",
            "3.0\n",
            "0\n"
          ]
        }
      ]
    },
    {
      "cell_type": "markdown",
      "source": [
        "#### 4.Take marks of 5 subjects and calculate the total and percentage\n"
      ],
      "metadata": {
        "id": "kFxW3fxcm6OX"
      }
    },
    {
      "cell_type": "code",
      "source": [
        "english=80\n",
        "punjabi=80\n",
        "maths=79\n",
        "science=79\n",
        "hindi=80\n",
        "total=english+punjabi+maths+science+hindi\n",
        "print(total/400*100)"
      ],
      "metadata": {
        "colab": {
          "base_uri": "https://localhost:8080/"
        },
        "id": "vbr0pmELnE6R",
        "outputId": "f06cdfa6-c97e-4ae9-9e0a-925bb9127964"
      },
      "execution_count": null,
      "outputs": [
        {
          "output_type": "stream",
          "name": "stdout",
          "text": [
            "99.5\n"
          ]
        }
      ]
    },
    {
      "cell_type": "markdown",
      "source": [
        "### 5.Start with x = 10. Then:\n",
        "• Add 5 using +=\n",
        "• Multiply by 2 using *=\n",
        "• Subtract 4 using -=\n",
        "• Divide by 2 using /=\n",
        "Print the value after each operation."
      ],
      "metadata": {
        "id": "xH2QsK97nyIl"
      }
    },
    {
      "cell_type": "code",
      "source": [
        "x=10\n",
        "x+=2\n",
        "print(x)\n",
        "x=10\n",
        "x*=2\n",
        "print(x)\n",
        "x=10\n",
        "x-=4\n",
        "print(x)\n",
        "x=10\n",
        "x/=2\n",
        "print(x)\n",
        "\n",
        "\n",
        "\n"
      ],
      "metadata": {
        "colab": {
          "base_uri": "https://localhost:8080/"
        },
        "id": "5A7bmMICn5XZ",
        "outputId": "a2049286-b6b4-4220-f1be-ed2bdd57ddd9"
      },
      "execution_count": null,
      "outputs": [
        {
          "output_type": "stream",
          "name": "stdout",
          "text": [
            "12\n",
            "20\n",
            "6\n",
            "5.0\n"
          ]
        }
      ]
    },
    {
      "cell_type": "markdown",
      "source": [
        "### 6.Write a program that compares two numbers and prints:\n",
        "• Whether they are equal\n",
        "• Whether the first is greater\n",
        "• Whether the second is greater"
      ],
      "metadata": {
        "id": "TZ5Xslwfoy8G"
      }
    },
    {
      "cell_type": "code",
      "source": [
        "a=24\n",
        "b=18\n",
        "print(a==b)\n",
        "print(a>b)\n",
        "print(a<b)"
      ],
      "metadata": {
        "colab": {
          "base_uri": "https://localhost:8080/"
        },
        "id": "ZWYYzagqo43U",
        "outputId": "cb7a3065-77a6-4fb2-bef0-6c5fffa06153"
      },
      "execution_count": null,
      "outputs": [
        {
          "output_type": "stream",
          "name": "stdout",
          "text": [
            "False\n",
            "True\n",
            "False\n"
          ]
        }
      ]
    },
    {
      "cell_type": "markdown",
      "source": [
        "#### 7.Write a program that compares two numbers and prints:\n",
        "• Whether they are equal\n",
        "• Whether the first is greater\n",
        "• Whether the second is greater\n",
        "\n"
      ],
      "metadata": {
        "id": "CivI974XpLCk"
      }
    },
    {
      "cell_type": "code",
      "source": [
        "is_raining= True\n",
        "have_umbrella=False\n",
        "print(is_raining and have_umbrella)\n",
        "print(is_raining or have_umbrella)\n",
        "\n"
      ],
      "metadata": {
        "colab": {
          "base_uri": "https://localhost:8080/"
        },
        "id": "KeqU4xiQpS0X",
        "outputId": "c8f2e004-5faf-4780-c504-0556c60db35b"
      },
      "execution_count": null,
      "outputs": [
        {
          "output_type": "stream",
          "name": "stdout",
          "text": [
            "False\n",
            "True\n"
          ]
        }
      ]
    },
    {
      "cell_type": "markdown",
      "source": [
        "### 8.Create two identical lists and compare them using:\n",
        "• ==\n",
        "• is\n",
        "Print and explain the result."
      ],
      "metadata": {
        "id": "RrCBkugkp_Rd"
      }
    },
    {
      "cell_type": "code",
      "source": [
        "l1=[12,45,56,34,15]\n",
        "l2=[12,45,56,34,15]\n",
        "print(l1==l2)\n",
        "print(l1 is l2)"
      ],
      "metadata": {
        "colab": {
          "base_uri": "https://localhost:8080/"
        },
        "id": "m2g1EwRPqEOx",
        "outputId": "a32d6879-02f4-42ea-a85b-81309e35efe9"
      },
      "execution_count": null,
      "outputs": [
        {
          "output_type": "stream",
          "name": "stdout",
          "text": [
            "True\n",
            "False\n"
          ]
        }
      ]
    },
    {
      "cell_type": "markdown",
      "source": [
        "### 9.Take two numbers and show the result of:\n",
        "• Bitwise AND (&)\n",
        "• Bitwise OR (|)\n",
        "• Bitwise XOR (^)"
      ],
      "metadata": {
        "id": "KwXsnB2VM8Yz"
      }
    },
    {
      "cell_type": "code",
      "source": [
        "n1=1011\n",
        "n2=1110\n",
        "print(n1 & n2)\n",
        "print(n1 | n2)\n",
        "print(n1 ^ n2)"
      ],
      "metadata": {
        "colab": {
          "base_uri": "https://localhost:8080/"
        },
        "id": "lYeJttAWNEBw",
        "outputId": "e963b9ff-8508-4d3e-f87b-c6151bcc2b1f"
      },
      "execution_count": null,
      "outputs": [
        {
          "output_type": "stream",
          "name": "stdout",
          "text": [
            "82\n",
            "2039\n",
            "1957\n"
          ]
        }
      ]
    },
    {
      "cell_type": "markdown",
      "source": [
        "#### 10.Take user input for an integer and a float. Add them and print:\n",
        "• Their types using type()\n",
        "• Their sum as an integer\n"
      ],
      "metadata": {
        "id": "b7M9d-BsPQxZ"
      }
    },
    {
      "cell_type": "code",
      "source": [
        "a=5\n",
        "n=float(a)\n",
        "print(n)\n",
        "print(type(n))"
      ],
      "metadata": {
        "colab": {
          "base_uri": "https://localhost:8080/"
        },
        "id": "cI87O5-MPTYZ",
        "outputId": "4a0b931f-46cb-4ac7-8cf5-b4f524f0cd1e"
      },
      "execution_count": null,
      "outputs": [
        {
          "output_type": "stream",
          "name": "stdout",
          "text": [
            "5.0\n",
            "<class 'float'>\n"
          ]
        }
      ]
    },
    {
      "cell_type": "markdown",
      "source": [
        "##Assignment 2"
      ],
      "metadata": {
        "id": "Y5dvDPPkdItM"
      }
    },
    {
      "cell_type": "markdown",
      "source": [
        "## 1. WAP to print number 1 to 10 but stop the loop when number reach 9"
      ],
      "metadata": {
        "id": "2IobCmr36lhn"
      }
    },
    {
      "cell_type": "code",
      "source": [
        "count=0\n",
        "while (count<10):\n",
        "  print(count)\n",
        "  count=count+1\n"
      ],
      "metadata": {
        "colab": {
          "base_uri": "https://localhost:8080/"
        },
        "id": "k49KpCJY7eSs",
        "outputId": "8eb40378-2d5a-41db-f37d-35591147771c"
      },
      "execution_count": null,
      "outputs": [
        {
          "output_type": "stream",
          "name": "stdout",
          "text": [
            "0\n",
            "1\n",
            "2\n",
            "3\n",
            "4\n",
            "5\n",
            "6\n",
            "7\n",
            "8\n",
            "9\n"
          ]
        }
      ]
    },
    {
      "cell_type": "markdown",
      "source": [
        "## 2.WAP that keep asking the user to enter the number and stop when the user enter a negative number"
      ],
      "metadata": {
        "id": "8AEQgcXC7ulv"
      }
    },
    {
      "cell_type": "code",
      "source": [
        "while True:\n",
        "  r=int(input(\"enter the number=\"))\n",
        "  if (r>0):\n",
        "    print(\"number is positive\")\n",
        "  else:\n",
        "    print(\"number is negative\")\n",
        "    break"
      ],
      "metadata": {
        "colab": {
          "base_uri": "https://localhost:8080/"
        },
        "id": "QjChhZGe7z6e",
        "outputId": "f11dd4da-921f-4412-a175-83d718f80e78"
      },
      "execution_count": null,
      "outputs": [
        {
          "output_type": "stream",
          "name": "stdout",
          "text": [
            "enter the number=67\n",
            "number is positive\n",
            "enter the number=-6\n",
            "number is negative\n"
          ]
        }
      ]
    },
    {
      "cell_type": "markdown",
      "source": [
        "3.WAP to find first even number in a list using a for loop and break"
      ],
      "metadata": {
        "id": "WKRQ8kZV7_nW"
      }
    },
    {
      "cell_type": "code",
      "source": [
        "L=[1,3,5,6,3,78,89,88,78,76,99,55,33]\n",
        "for i in range (len(L)):\n",
        "  if (L[i]%2==0):\n",
        "    print(\"first even number is \",L[i])\n",
        "    break\n"
      ],
      "metadata": {
        "colab": {
          "base_uri": "https://localhost:8080/"
        },
        "id": "3sPjX1mT8FqO",
        "outputId": "0f230f59-f504-49e3-dbf9-405ec48f9083"
      },
      "execution_count": null,
      "outputs": [
        {
          "output_type": "stream",
          "name": "stdout",
          "text": [
            "first even number is  6\n"
          ]
        }
      ]
    },
    {
      "cell_type": "markdown",
      "source": [
        "## 4. keep adding number onwords until total sum exceeds 25 print last sum and digit"
      ],
      "metadata": {
        "id": "n6_vgpJL8N-j"
      }
    },
    {
      "cell_type": "code",
      "source": [
        "sum=0\n",
        "for i in range(0,50):\n",
        "  sum+=i\n",
        "  if sum<25:\n",
        "    print(\"last sum=\",sum)\n",
        "    print(\"last digit =\",i)"
      ],
      "metadata": {
        "colab": {
          "base_uri": "https://localhost:8080/"
        },
        "id": "45ghuOVA8d0m",
        "outputId": "9ca3394c-6077-4785-c955-11935c1d749c"
      },
      "execution_count": null,
      "outputs": [
        {
          "output_type": "stream",
          "name": "stdout",
          "text": [
            "last sum= 0\n",
            "last digit = 0\n",
            "last sum= 1\n",
            "last digit = 1\n",
            "last sum= 3\n",
            "last digit = 2\n",
            "last sum= 6\n",
            "last digit = 3\n",
            "last sum= 10\n",
            "last digit = 4\n",
            "last sum= 15\n",
            "last digit = 5\n",
            "last sum= 21\n",
            "last digit = 6\n"
          ]
        }
      ]
    },
    {
      "cell_type": "markdown",
      "source": [
        "## 5.keep asking the user to guess the password until they guess admin123 . use while and break"
      ],
      "metadata": {
        "id": "ml1eC9i08kqC"
      }
    },
    {
      "cell_type": "code",
      "source": [
        "while True:\n",
        "  x=input(\"enter the password:\")\n",
        "  if (x==\"admin123\"):\n",
        "    print(\"correct pass\")\n",
        "    break\n",
        "  else:\n",
        "    print(\"wrong pass\")\n"
      ],
      "metadata": {
        "colab": {
          "base_uri": "https://localhost:8080/"
        },
        "id": "6O9A-wGn81Uo",
        "outputId": "cd5756f6-0d9c-4104-cd0c-071be45488db"
      },
      "execution_count": null,
      "outputs": [
        {
          "output_type": "stream",
          "name": "stdout",
          "text": [
            "enter the password:6785\n",
            "wrong pass\n",
            "enter the password:admin123\n",
            "correct pass\n"
          ]
        }
      ]
    },
    {
      "cell_type": "markdown",
      "source": [
        "## 6. Print the multiples of 7 using while loop stop if value is greater than 100\n"
      ],
      "metadata": {
        "id": "YA2qXyItEHvN"
      }
    },
    {
      "cell_type": "code",
      "source": [
        "count=0\n",
        "while (count<100):\n",
        "  print(count)\n",
        "  count+=7"
      ],
      "metadata": {
        "colab": {
          "base_uri": "https://localhost:8080/"
        },
        "outputId": "3ef2f166-cdae-4a44-b2ab-dc466049d96c",
        "id": "Ccazq8IgEJqr"
      },
      "execution_count": null,
      "outputs": [
        {
          "output_type": "stream",
          "name": "stdout",
          "text": [
            "0\n",
            "7\n",
            "14\n",
            "21\n",
            "28\n",
            "35\n",
            "42\n",
            "49\n",
            "56\n",
            "63\n",
            "70\n",
            "77\n",
            "84\n",
            "91\n",
            "98\n"
          ]
        }
      ]
    },
    {
      "cell_type": "markdown",
      "source": [
        "## 7. Give a number, print each digit until zero is found"
      ],
      "metadata": {
        "id": "TcOl6k0A9Nhm"
      }
    },
    {
      "cell_type": "code",
      "source": [
        "y=input(\"enter the number=\")\n",
        "for i in y:\n",
        "    if i==\"0\":\n",
        "      print(\"zero is found\")\n",
        "      break\n",
        "    print(i)"
      ],
      "metadata": {
        "colab": {
          "base_uri": "https://localhost:8080/"
        },
        "id": "bXP-8NJo9Sbc",
        "outputId": "b303f0f9-edc2-452e-851d-38029fd4052a"
      },
      "execution_count": null,
      "outputs": [
        {
          "output_type": "stream",
          "name": "stdout",
          "text": [
            "enter the number=2540978640\n",
            "2\n",
            "5\n",
            "4\n",
            "zero is found\n"
          ]
        }
      ]
    },
    {
      "cell_type": "code",
      "source": [
        "for i in range(1,20):\n",
        "  n=input(\"enter the value =\")\n",
        "  if n==\"0\":\n",
        "    print(\"zero is found\")\n",
        "    break\n",
        "  print(i)\n",
        "3"
      ],
      "metadata": {
        "id": "Sh9ZqPwX9hL3",
        "colab": {
          "base_uri": "https://localhost:8080/"
        },
        "outputId": "d8143406-1f0a-4267-b5ee-cd5c72148004"
      },
      "execution_count": null,
      "outputs": [
        {
          "output_type": "stream",
          "name": "stdout",
          "text": [
            "enter the value =3\n",
            "1\n",
            "enter the value =6\n",
            "2\n",
            "enter the value =9\n",
            "3\n",
            "enter the value =0\n",
            "zero is found\n"
          ]
        }
      ]
    },
    {
      "cell_type": "markdown",
      "source": [
        "#### **Assignment 3**"
      ],
      "metadata": {
        "id": "gOV2DxA6z0cI"
      }
    },
    {
      "cell_type": "markdown",
      "source": [
        "### 1. Take a sentence and reverse the order of its words. Example: \"I love Python\" → \"Python love I\""
      ],
      "metadata": {
        "id": "NSYa3X8X0E8K"
      }
    },
    {
      "cell_type": "code",
      "source": [
        "sentence=\"i love python\"\n",
        "words=sentence.split()\n",
        "words.reverse()\n",
        "reversed_sentence=' '.join(words)\n",
        "print(reversed_sentence)"
      ],
      "metadata": {
        "colab": {
          "base_uri": "https://localhost:8080/"
        },
        "id": "alz43TDe0gSL",
        "outputId": "836ca455-c183-4f5a-f809-2ad458ae65a5"
      },
      "execution_count": null,
      "outputs": [
        {
          "output_type": "stream",
          "name": "stdout",
          "text": [
            "python love i\n"
          ]
        }
      ]
    },
    {
      "cell_type": "markdown",
      "source": [
        "### 2. Given a string, count consonants (non-vowel letters, ignoring case). Example: \"Hello World\" →\n",
        "7 (H, l, l, W, r, l, d)."
      ],
      "metadata": {
        "id": "NiNMKQ7o2O7U"
      }
    },
    {
      "cell_type": "code",
      "source": [
        "x=input(\"enter a string: \")\n",
        "vowels='aeiouAEIOU'\n",
        "consonants=[i for i in x if i.isalpha() and i not in vowels]\n",
        "count=len(consonants)\n",
        "print(f\"{count}({','.join(consonants)})\")\n"
      ],
      "metadata": {
        "colab": {
          "base_uri": "https://localhost:8080/"
        },
        "id": "mWZVnwRw2V7h",
        "outputId": "ba522ab7-8d4f-4440-831e-a4a3df46e14d"
      },
      "execution_count": null,
      "outputs": [
        {
          "output_type": "stream",
          "name": "stdout",
          "text": [
            "enter a string: hello world\n",
            "7(h,l,l,w,r,l,d)\n"
          ]
        }
      ]
    },
    {
      "cell_type": "markdown",
      "source": [
        "### 3.Check if two strings are anagrams (same characters, same frequency, ignoring case).\n",
        "Example: \"Listen\", \"Silent\" → \"Anagram\", \"Hello\", \"World\" → \"Not Anagram\"."
      ],
      "metadata": {
        "id": "Y6cMIMbF4By9"
      }
    },
    {
      "cell_type": "code",
      "source": [
        "s1=\"listen\"\n",
        "s2=\"silent\"\n",
        "s1_sorted=sorted(s1.lower())\n",
        "s2_sorted=sorted(s2.lower())\n",
        "if s1_sorted==s2_sorted:\n",
        "  print(\"anagram\")\n",
        "else:\n",
        "  print(\"not anagram\")\n",
        "\n",
        "\n"
      ],
      "metadata": {
        "colab": {
          "base_uri": "https://localhost:8080/"
        },
        "id": "7bQVIHTY4Hi6",
        "outputId": "e02c85a2-eae5-48e4-bc50-7597f04fe486"
      },
      "execution_count": null,
      "outputs": [
        {
          "output_type": "stream",
          "name": "stdout",
          "text": [
            "anagram\n"
          ]
        }
      ]
    },
    {
      "cell_type": "markdown",
      "source": [
        "### 4. Find the first character in a string that appears only once (case-sensitive). Example: \"swiss\" →\n",
        "\"w\", \"programming\" → \"r\".\n"
      ],
      "metadata": {
        "id": "oYDgRUEd5xaR"
      }
    },
    {
      "cell_type": "code",
      "source": [
        "string=\"swiss\"\n",
        "for ch in string:\n",
        "  if string.count(ch)==1:\n",
        "    print(ch)\n",
        "    break"
      ],
      "metadata": {
        "colab": {
          "base_uri": "https://localhost:8080/"
        },
        "id": "BRcGAN6Y5-Ct",
        "outputId": "9768ed0a-0b48-4a1b-ce1e-2608a2492c47"
      },
      "execution_count": null,
      "outputs": [
        {
          "output_type": "stream",
          "name": "stdout",
          "text": [
            "w\n"
          ]
        }
      ]
    },
    {
      "cell_type": "markdown",
      "source": [
        "### 5.Compress a string by replacing repeated characters with the character and count. Example:\n",
        "\"aaabbc\" → \"a3b2c1\". If compressed string isn’t shorter, return original."
      ],
      "metadata": {
        "id": "LBX0g0BE6WBi"
      }
    },
    {
      "cell_type": "code",
      "source": [
        "s=\"aaabbc\"\n",
        "compressed=\"\"\n",
        "i=0\n",
        "while i<len(s):\n",
        "  count=1\n",
        "  while i+1<len(s) and s[i]==s[i+1]:\n",
        "    count+=1\n",
        "    i+=1\n",
        "  compressed+=s[i]+str(count)\n",
        "  i+=1\n",
        "if len(compressed)<len(s):\n",
        "    print(compressed)\n",
        "else:\n",
        "    print(s)"
      ],
      "metadata": {
        "colab": {
          "base_uri": "https://localhost:8080/"
        },
        "id": "5bot-5cf6iOR",
        "outputId": "cb660d27-af18-4e81-9188-2c8f109124b3"
      },
      "execution_count": null,
      "outputs": [
        {
          "output_type": "stream",
          "name": "stdout",
          "text": [
            "aaabbc\n"
          ]
        }
      ]
    },
    {
      "cell_type": "markdown",
      "source": [
        "### 6.Find the longest substring in a string that is a palindrome (case-sensitive). Example: \"babad\" →\n",
        "\"bab\" (or \"aba\"), \"cbbd\" → \"bb\". If multiple exist, return the first."
      ],
      "metadata": {
        "id": "G7FIBhwx8fyt"
      }
    },
    {
      "cell_type": "code",
      "source": [
        "s=\"babab\"\n",
        "max_len=0\n",
        "result=\"\"\n",
        "for i in range(len(s)):\n",
        "  for j in range(i+1,len(s)+1):\n",
        "    substr=s[i:j]\n",
        "    if substr==substr[::-1] and len(substr)>max_len:\n",
        "      result=substr\n",
        "      max_len=len(substr)\n",
        "      print(result)"
      ],
      "metadata": {
        "colab": {
          "base_uri": "https://localhost:8080/"
        },
        "id": "sV2rWW_y8ovQ",
        "outputId": "5ceed716-67f5-49bb-d2ec-f67f421e81b3"
      },
      "execution_count": null,
      "outputs": [
        {
          "output_type": "stream",
          "name": "stdout",
          "text": [
            "b\n",
            "bab\n",
            "babab\n"
          ]
        }
      ]
    },
    {
      "cell_type": "markdown",
      "source": [
        "### 7.Given a string containing only '(', ')', '{', '}', '[', ']', check if the sequence is valid (properly nested\n",
        "and closed). Example: \"({[]})\" → \"Valid\", \"(]\" → \"Invalid\".\n"
      ],
      "metadata": {
        "id": "I8hMzV9V9rEC"
      }
    },
    {
      "cell_type": "code",
      "source": [
        "s=\"({[]})\"\n",
        "stack=[]\n",
        "mapping={')':'(','}':'{',']':'['}\n",
        "valid=True\n",
        "for ch in s:\n",
        "  if ch in mapping.values():\n",
        "    stack.append(ch)\n",
        "  elif ch in mapping:\n",
        "    if not stack or stack.pop()!=mapping[ch]:\n",
        "      valid=False\n",
        "      break\n",
        "if stack:\n",
        "    valid=False\n",
        "print(\"valid\" if valid else\"invalid\")\n"
      ],
      "metadata": {
        "colab": {
          "base_uri": "https://localhost:8080/"
        },
        "id": "PNb-huQs9yzw",
        "outputId": "36f2fc67-3792-4947-860e-c2aa913f4501"
      },
      "execution_count": null,
      "outputs": [
        {
          "output_type": "stream",
          "name": "stdout",
          "text": [
            "valid\n"
          ]
        }
      ]
    },
    {
      "cell_type": "markdown",
      "source": [
        "### 8. Given a start word, end word, and a list of valid words, find the minimum number of steps to\n",
        "transform the start word to the end word by changing one letter at a time, where each\n",
        "intermediate word must be in the list. All words are same length, lowercase. Example:\n",
        "start=\"hit\", end=\"cog\", wordList=[\"hot\",\"dot\",\"dog\",\"lot\",\"log\",\"cog\"] → 5 (hit → hot → dot → dog →\n",
        "cog). Return 0 if impossible."
      ],
      "metadata": {
        "id": "NF6HNHuQ_uKp"
      }
    },
    {
      "cell_type": "code",
      "source": [
        "from collections import deque\n",
        "\n",
        "start=\"hit\"\n",
        "end=\"cog\"\n",
        "wordList=[\"hot\",\"dot\",\"dog\",\"lot\",\"log\",\"cog\"]\n",
        "wordSet=set(wordList)\n",
        "queue=deque([(start,1)])\n",
        "while queue:\n",
        "  word,steps=queue.popleft()\n",
        "  if word==end:\n",
        "    print(steps)\n",
        "    break\n",
        "  for i in range(len(word)):\n",
        "    for ch in 'abcdefghijklmnopqrstuvwxyz':\n",
        "      next_word=word[:i]+ ch + word[i+1:]\n",
        "      if next_word in wordSet:\n",
        "        wordSet.remove(next_word)\n",
        "        queue.append((next_word,steps+1))\n",
        "else:\n",
        "  print(0)\n",
        "end=\"cog\"\n",
        "wordList=[\"hot\",\"dot\",\"dog\",\"lot\",\"log\",\"cog\"]\n",
        "wordSet=set(wordList)\n",
        "queue=deque([(start,1)])\n",
        "while queue:\n",
        "  word,steps=queue.popleft()\n",
        "  if word==end:\n",
        "    print(steps)\n",
        "    break\n",
        "  for i in range(len(word)):\n",
        "    for ch in 'abcdefghijklmnopqrstuvwxyz':\n",
        "      next_word=word[:i]+ ch + word[i+1:] # Corrected variable name 'c' to 'ch'\n",
        "      if next_word in wordSet:\n",
        "        wordSet.remove(next_word)\n",
        "        queue.append((next_word,steps+1))\n",
        "else:\n",
        "  print(0)\n",
        "\n"
      ],
      "metadata": {
        "colab": {
          "base_uri": "https://localhost:8080/"
        },
        "id": "_W_8g6Vh_0tx",
        "outputId": "f9c3827f-bb9c-4016-fd17-177b325be96e"
      },
      "execution_count": null,
      "outputs": [
        {
          "output_type": "stream",
          "name": "stdout",
          "text": [
            "5\n",
            "5\n"
          ]
        }
      ]
    },
    {
      "cell_type": "markdown",
      "source": [
        "#### **Assignment.4**"
      ],
      "metadata": {
        "id": "8sUXf427SLIZ"
      }
    },
    {
      "cell_type": "markdown",
      "source": [
        "### 1. Create a dictionary of 5 students with their names as keys and marks as values. Print all\n",
        "the keys and values."
      ],
      "metadata": {
        "id": "u8uaGizSSYeP"
      }
    },
    {
      "cell_type": "code",
      "source": [
        "# Creating a dictionary of students with their marks\n",
        "students = {\n",
        "    \"khusi\": 85,\n",
        "    \"arsh\": 92,\n",
        "    \"Amrit\": 78,\n",
        "    \"gur\": 88,\n",
        "    \"prabh\": 95\n",
        "}\n",
        "print(students)\n"
      ],
      "metadata": {
        "id": "vBIndCVmSWBV",
        "colab": {
          "base_uri": "https://localhost:8080/"
        },
        "outputId": "cc53b87b-2085-465e-c10c-3fe7eb0b0e00"
      },
      "execution_count": null,
      "outputs": [
        {
          "output_type": "stream",
          "name": "stdout",
          "text": [
            "{'khusi': 85, 'arsh': 92, 'Amrit': 78, 'gur': 88, 'prabh': 95}\n"
          ]
        }
      ]
    },
    {
      "cell_type": "markdown",
      "source": [
        "### 2. Write a program to count the frequency of each character in a given string using a\n",
        "dictionary.\n"
      ],
      "metadata": {
        "id": "GFzn0YNfr3t7"
      }
    },
    {
      "cell_type": "code",
      "source": [
        "x=input(\"enter the string=\")\n",
        "frequency={}\n",
        "for i in x:\n",
        "  if i in frequency:\n",
        "    frequency[i]+=1\n",
        "  else:\n",
        "      frequency[i]=1\n",
        "  print(frequency)"
      ],
      "metadata": {
        "colab": {
          "base_uri": "https://localhost:8080/"
        },
        "id": "qKUaD2ocsAto",
        "outputId": "a5c06464-cd02-4dc1-85fb-09845069caf3"
      },
      "execution_count": null,
      "outputs": [
        {
          "output_type": "stream",
          "name": "stdout",
          "text": [
            "enter the string=\"hello world\"\n",
            "{'\"': 1}\n",
            "{'\"': 1, 'h': 1}\n",
            "{'\"': 1, 'h': 1, 'e': 1}\n",
            "{'\"': 1, 'h': 1, 'e': 1, 'l': 1}\n",
            "{'\"': 1, 'h': 1, 'e': 1, 'l': 2}\n",
            "{'\"': 1, 'h': 1, 'e': 1, 'l': 2, 'o': 1}\n",
            "{'\"': 1, 'h': 1, 'e': 1, 'l': 2, 'o': 1, ' ': 1}\n",
            "{'\"': 1, 'h': 1, 'e': 1, 'l': 2, 'o': 1, ' ': 1, 'w': 1}\n",
            "{'\"': 1, 'h': 1, 'e': 1, 'l': 2, 'o': 2, ' ': 1, 'w': 1}\n",
            "{'\"': 1, 'h': 1, 'e': 1, 'l': 2, 'o': 2, ' ': 1, 'w': 1, 'r': 1}\n",
            "{'\"': 1, 'h': 1, 'e': 1, 'l': 3, 'o': 2, ' ': 1, 'w': 1, 'r': 1}\n",
            "{'\"': 1, 'h': 1, 'e': 1, 'l': 3, 'o': 2, ' ': 1, 'w': 1, 'r': 1, 'd': 1}\n",
            "{'\"': 2, 'h': 1, 'e': 1, 'l': 3, 'o': 2, ' ': 1, 'w': 1, 'r': 1, 'd': 1}\n"
          ]
        }
      ]
    },
    {
      "cell_type": "markdown",
      "source": [
        "### 3. Create a dictionary with names as keys and ages as values. Print the name(s) of the oldest\n",
        "person(s).\n",
        "\n"
      ],
      "metadata": {
        "id": "H_47oTi2uo6t"
      }
    },
    {
      "cell_type": "code",
      "source": [
        "dict_ages={\"gur\":21, \"khushi\":18.5,\"jeet\":37,\"preet\":40,\"reet\":16.5}\n",
        "oldest_people=max(dict_ages.values())\n",
        "print(\"oldest people is:\")\n",
        "for i,j in dict_ages.items():\n",
        " if j==oldest_people:\n",
        "  print(i)\n"
      ],
      "metadata": {
        "colab": {
          "base_uri": "https://localhost:8080/"
        },
        "id": "qZES3C77ut-L",
        "outputId": "6c9332c5-1c60-456b-adad-f72a2d19b2b4"
      },
      "execution_count": null,
      "outputs": [
        {
          "output_type": "stream",
          "name": "stdout",
          "text": [
            "oldest people is:\n",
            "preet\n"
          ]
        }
      ]
    },
    {
      "cell_type": "markdown",
      "source": [
        "### 4. Merge two dictionaries and print the merged dictionary."
      ],
      "metadata": {
        "id": "zM1BeplOAeb-"
      }
    },
    {
      "cell_type": "code",
      "source": [
        "dict1={'gur':21,'khushi':18.5,'jeet':37,'preet':40,'reet':16.5}\n",
        "dict2={'s1':'s','k1':'k','s2':'s','s3':'s','j1':'j'}\n",
        "print(\"dict1:\",dict1)\n",
        "print(\"dict2:\",dict2)\n",
        "dict1.update(dict2)\n",
        "print(\"after merging:\",dict1)"
      ],
      "metadata": {
        "colab": {
          "base_uri": "https://localhost:8080/"
        },
        "id": "2XFwQ3_AAjWR",
        "outputId": "0c7a8c0d-8782-420b-fb02-6bbbb97ed9bc"
      },
      "execution_count": null,
      "outputs": [
        {
          "output_type": "stream",
          "name": "stdout",
          "text": [
            "dict1: {'gur': 21, 'khushi': 18.5, 'jeet': 37, 'preet': 40, 'reet': 16.5}\n",
            "dict2: {'s1': 's', 'k1': 'k', 's2': 's', 's3': 's', 'j1': 'j'}\n",
            "after merging: {'gur': 21, 'khushi': 18.5, 'jeet': 37, 'preet': 40, 'reet': 16.5, 's1': 's', 'k1': 'k', 's2': 's', 's3': 's', 'j1': 'j'}\n"
          ]
        }
      ]
    },
    {
      "cell_type": "markdown",
      "source": [
        "### 5. Create a dictionary where the keys are numbers between 1 and 10, and the values are\n",
        "their squares"
      ],
      "metadata": {
        "id": "jfK47HF9CxhP"
      }
    },
    {
      "cell_type": "code",
      "source": [
        "dict={}\n",
        "for i in range(1,11):\n",
        "  dict[i]=i*i\n",
        "\n",
        "print(dict)"
      ],
      "metadata": {
        "colab": {
          "base_uri": "https://localhost:8080/"
        },
        "id": "eaWrXSgyC-CZ",
        "outputId": "9be16377-b4a9-44be-92e8-cef1ccab59a9"
      },
      "execution_count": null,
      "outputs": [
        {
          "output_type": "stream",
          "name": "stdout",
          "text": [
            "{1: 1, 2: 4, 3: 9, 4: 16, 5: 25, 6: 36, 7: 49, 8: 64, 9: 81, 10: 100}\n"
          ]
        }
      ]
    },
    {
      "cell_type": "markdown",
      "source": [
        "### 6. Write a program that inverts a dictionary (i.e., swaps keys and values). Assume all values\n",
        "are unique."
      ],
      "metadata": {
        "id": "Mb4Rf3TRDlR_"
      }
    },
    {
      "cell_type": "code",
      "source": [
        "dict={'a':1,'b':2,'c':3,'d':4,'e':5}\n",
        "\n",
        "dict_i={}\n",
        "\n",
        "for key,value in dict.items():\n",
        "  dict_i[value]=key\n",
        "\n",
        "print(\"initial:\",dict)\n",
        "print(\"invrted:\",dict_i)"
      ],
      "metadata": {
        "colab": {
          "base_uri": "https://localhost:8080/"
        },
        "id": "kPaSdHAmDqLp",
        "outputId": "fb7253b7-1803-4951-aa56-f0e2f48329f2"
      },
      "execution_count": null,
      "outputs": [
        {
          "output_type": "stream",
          "name": "stdout",
          "text": [
            "initial: {'a': 1, 'b': 2, 'c': 3, 'd': 4, 'e': 5}\n",
            "invrted: {1: 'a', 2: 'b', 3: 'c', 4: 'd', 5: 'e'}\n"
          ]
        }
      ]
    },
    {
      "cell_type": "markdown",
      "source": [
        "### 7. Given a nested dictionary of students and their subject-wise marks, calculate and print\n",
        "the average marks for each student.\n"
      ],
      "metadata": {
        "id": "5mXguV9mEvGy"
      }
    },
    {
      "cell_type": "code",
      "source": [
        "dict_students={'jeet':{'maths':85,'english':90,'science':85,'punjabi':96},\n",
        "              'khushi':{'maths':99,'english':99,'science':98,'punjabi':98},\n",
        "              'reet':{'maths':85,'english':95,'science':90,'punjabi':96},\n",
        "              'deepu':{'maths':88,'english':92,'science':85,'punjabi':96}}\n",
        "\n",
        "for name,marks in dict_students.items():\n",
        "  total_marks=sum(marks.values())\n",
        "  avg_marks=total_marks/len(marks)\n",
        "  print(name,avg_marks)\n",
        "\n",
        "for name,marks in dict_students.items():\n",
        "  total_marks=sum(marks.values())\n",
        "  avg_marks=total_marks/len(marks)\n",
        "  print(name,avg_marks)\n"
      ],
      "metadata": {
        "colab": {
          "base_uri": "https://localhost:8080/"
        },
        "id": "dVr8nAr3E88t",
        "outputId": "84e80461-f1cf-4808-982d-90da2e9a9792"
      },
      "execution_count": null,
      "outputs": [
        {
          "output_type": "stream",
          "name": "stdout",
          "text": [
            "jeet 89.0\n",
            "khushi 98.5\n",
            "reet 91.5\n",
            "deepu 90.25\n",
            "jeet 89.0\n",
            "khushi 98.5\n",
            "reet 91.5\n",
            "deepu 90.25\n"
          ]
        }
      ]
    },
    {
      "cell_type": "markdown",
      "source": [
        "### 8. Write a program to group words by their length from a list using a dictionary."
      ],
      "metadata": {
        "id": "-_E4TDwDIAfU"
      }
    },
    {
      "cell_type": "code",
      "source": [
        "a=input(\"enter the word seperated by space(without comma): \")\n",
        "\n",
        "\n",
        "word=a.split()\n",
        "length={}\n",
        "for i in word:\n",
        "  l=len(i)\n",
        "  if l in length:\n",
        "    length[l].append(i)\n",
        "  else:\n",
        "    length[l]=[i]\n",
        "print(length)\n",
        "\n"
      ],
      "metadata": {
        "colab": {
          "base_uri": "https://localhost:8080/"
        },
        "id": "ry0WWtf8IMFM",
        "outputId": "e3d22374-888f-41ab-ecc2-9789998d943d"
      },
      "execution_count": null,
      "outputs": [
        {
          "output_type": "stream",
          "name": "stdout",
          "text": [
            "enter the word seperated by space(without comma): apple banana watermelon\n",
            "{5: ['apple'], 6: ['banana'], 10: ['watermelon']}\n"
          ]
        }
      ]
    },
    {
      "cell_type": "markdown",
      "source": [
        "### 10. Create a program that takes a list of tuples (name, score) and builds a dictionary\n",
        "where each name is a key, and the value is a list of all their scores. Then calculate and print\n",
        "each person's average score."
      ],
      "metadata": {
        "id": "-1-Sm6sKKT4d"
      }
    },
    {
      "cell_type": "code",
      "source": [
        "people=[('sam',85),\n",
        "        ('khushi',90), # Added missing comma\n",
        "        ('sukh',98),   # Added missing comma\n",
        "        ('sarb',92),   # Added missing comma\n",
        "        ('jagg',88)]\n",
        "# Removed the incorrect indentation from the line below\n",
        "person_scores={}\n",
        "for name,score in people:\n",
        "  if name in person_scores: # Changed variable name from dict to person_scores\n",
        "    person_scores[name].append(score) # Changed variable name from dict to person_scores\n",
        "  else:\n",
        "    person_scores[name]=[score] # Changed variable name from dict to person_scores\n",
        "\n",
        "for name,scores_list in person_scores.items(): # Changed variable name from dict to person_scores and score to scores_list\n",
        "    avg_score=sum(scores_list)/len(scores_list) # Changed variable name from score to scores_list\n",
        "    print(name,avg_score)\n",
        "\n"
      ],
      "metadata": {
        "colab": {
          "base_uri": "https://localhost:8080/"
        },
        "outputId": "53951c2b-24de-45d5-a1b3-0cbd7c300dcd",
        "id": "haKZyezaJtKT"
      },
      "execution_count": null,
      "outputs": [
        {
          "output_type": "stream",
          "name": "stdout",
          "text": [
            "sam 85.0\n",
            "khushi 90.0\n",
            "sukh 98.0\n",
            "sarb 92.0\n",
            "jagg 88.0\n"
          ]
        }
      ]
    },
    {
      "cell_type": "markdown",
      "source": [
        "### **Assignment.5**"
      ],
      "metadata": {
        "id": "4DVBBnaCsVIg"
      }
    },
    {
      "cell_type": "markdown",
      "source": [
        "### 1.WAP to make a pyramid."
      ],
      "metadata": {
        "id": "lio6FlQNshuY"
      }
    },
    {
      "cell_type": "code",
      "source": [
        "people=[('jeet',85),\n",
        "        ('khushi',90), # Added missing comma\n",
        "        ('sukh',98),   # Added missing comma\n",
        "        ('reet',92),   # Added missing comma\n",
        "        ('preet',88)]\n",
        "# Removed the incorrect indentation from the line below\n",
        "person_scores={}\n",
        "for name,score in people:\n",
        "  if name in person_scores: # Changed variable name from dict to person_scores\n",
        "    person_scores[name].append(score) # Changed variable name from dict to person_scores\n",
        "  else:\n",
        "    person_scores[name]=[score] # Changed variable name from dict to person_scores\n",
        "\n",
        "for name,scores_list in person_scores.items(): # Changed variable name from dict to person_scores and score to scores_list\n",
        "    avg_score=sum(scores_list)/len(scores_list) # Changed variable name from score to scores_list\n",
        "    print(name,avg_score)\n",
        "\n"
      ],
      "metadata": {
        "colab": {
          "base_uri": "https://localhost:8080/"
        },
        "id": "VOWuQP41KaS7",
        "outputId": "f893a84c-98a3-4023-f6ab-d8dfac3b363d"
      },
      "execution_count": null,
      "outputs": [
        {
          "output_type": "stream",
          "name": "stdout",
          "text": [
            "jeet 85.0\n",
            "khushi 90.0\n",
            "sukh 98.0\n",
            "reet 92.0\n",
            "preet 88.0\n"
          ]
        }
      ]
    },
    {
      "cell_type": "markdown",
      "source": [
        "## **Assignment.5**"
      ],
      "metadata": {
        "id": "h1Dln6MCWRfX"
      }
    },
    {
      "cell_type": "markdown",
      "source": [
        "### 1.WAP to make a pyramid."
      ],
      "metadata": {
        "id": "BYUD8vemWXf9"
      }
    },
    {
      "cell_type": "code",
      "source": [
        "def pyramid(n,current=1):\n",
        "    if current > n :\n",
        "        return\n",
        "    spaces=' ' * (n-current)\n",
        "    stars='*'*(2*current-1)\n",
        "    print(spaces+stars)\n",
        "    pyramid(n,current+1)\n",
        "n=int(input(\"enter no.of lines:\"))\n",
        "pyramid(n)"
      ],
      "metadata": {
        "colab": {
          "base_uri": "https://localhost:8080/"
        },
        "id": "kzI1fFXttHOd",
        "outputId": "75e640eb-6695-4249-d23b-a3c7069e9367"
      },
      "execution_count": null,
      "outputs": [
        {
          "output_type": "stream",
          "name": "stdout",
          "text": [
            "enter no.of lines:5\n",
            "    *\n",
            "   ***\n",
            "  *****\n",
            " *******\n",
            "*********\n"
          ]
        }
      ]
    },
    {
      "cell_type": "markdown",
      "source": [
        "### 2.WAP to generate a pattern like star.\n",
        "### *\n",
        "### **\n",
        "### ***\n",
        "### ****\n"
      ],
      "metadata": {
        "id": "HEbzmzLlwSi2"
      }
    },
    {
      "cell_type": "code",
      "source": [
        "def pattern(n,current=1):\n",
        "  if (current > n):\n",
        "   return\n",
        "  print('*'* current)\n",
        "  pattern(n,current+1)\n",
        "n=int(input(\"enter no.of lines:\"))\n",
        "print(pattern(n))"
      ],
      "metadata": {
        "colab": {
          "base_uri": "https://localhost:8080/"
        },
        "id": "s9FP_OeVwoUh",
        "outputId": "21ce35be-ac66-48c7-f9e9-1e6382494308"
      },
      "execution_count": null,
      "outputs": [
        {
          "output_type": "stream",
          "name": "stdout",
          "text": [
            "enter no.of lines:4\n",
            "*\n",
            "**\n",
            "***\n",
            "****\n",
            "None\n"
          ]
        }
      ]
    },
    {
      "cell_type": "markdown",
      "source": [
        "### 3.WAP to draw square pattern like star."
      ],
      "metadata": {
        "id": "xurEKKiA3xp8"
      }
    },
    {
      "cell_type": "code",
      "source": [
        "def square_pattern(n):\n",
        "  for i in range(n):\n",
        "    print(\" * \" * n)\n",
        "\n",
        "size=int(input(\"enter the size of square:\"))\n",
        "square_pattern(size)"
      ],
      "metadata": {
        "colab": {
          "base_uri": "https://localhost:8080/"
        },
        "id": "W7cyPNWr4VON",
        "outputId": "7d51dc04-2c0f-493b-cf9a-91d795b66b89"
      },
      "execution_count": null,
      "outputs": [
        {
          "output_type": "stream",
          "name": "stdout",
          "text": [
            "enter the size of square:5\n",
            " *  *  *  *  * \n",
            " *  *  *  *  * \n",
            " *  *  *  *  * \n",
            " *  *  *  *  * \n",
            " *  *  *  *  * \n"
          ]
        }
      ]
    },
    {
      "cell_type": "markdown",
      "source": [
        "### 4.WAP to draw a circular pattern like star."
      ],
      "metadata": {
        "id": "IQdbgeeVBOrt"
      }
    },
    {
      "cell_type": "code",
      "source": [
        "import math\n",
        "radius=int(input(\"enter the radius of circle:\"))\n",
        "for i in range(-radius,radius+1):\n",
        "  for j in range(-radius,radius+1):\n",
        "    if abs(i**2+j**2-radius**2)<radius:\n",
        "      print(\"*\",end=\"\")\n",
        "    else:\n",
        "      print(\" \",end=\"\")\n",
        "  print()"
      ],
      "metadata": {
        "colab": {
          "base_uri": "https://localhost:8080/"
        },
        "id": "rdL4Loo3BZi4",
        "outputId": "57a77f42-033b-405e-8f63-d3fc01ba93d3"
      },
      "execution_count": null,
      "outputs": [
        {
          "output_type": "stream",
          "name": "stdout",
          "text": [
            "enter the radius of circle:6\n",
            "    *****    \n",
            "  **     **  \n",
            " **       ** \n",
            " *         * \n",
            "*           *\n",
            "*           *\n",
            "*           *\n",
            "*           *\n",
            "*           *\n",
            " *         * \n",
            " **       ** \n",
            "  **     **  \n",
            "    *****    \n"
          ]
        }
      ]
    },
    {
      "cell_type": "markdown",
      "source": [
        "### 5.WAP to draw a rectangular pattern like star."
      ],
      "metadata": {
        "id": "4q0HFNZEEgR1"
      }
    },
    {
      "cell_type": "code",
      "source": [
        "rows=int(input(\"enter the number of rows:\"))\n",
        "colms=int(input(\"enter the number of colms:\"))\n",
        "for i in range(rows):\n",
        "  print(\"*\"*colms)"
      ],
      "metadata": {
        "colab": {
          "base_uri": "https://localhost:8080/"
        },
        "id": "99rzq7t9E6A9",
        "outputId": "d2543294-de27-4752-edd9-7530a0ab1a91"
      },
      "execution_count": null,
      "outputs": [
        {
          "output_type": "stream",
          "name": "stdout",
          "text": [
            "enter the number of rows:5\n",
            "enter the number of colms:7\n",
            "*******\n",
            "*******\n",
            "*******\n",
            "*******\n",
            "*******\n"
          ]
        }
      ]
    },
    {
      "cell_type": "markdown",
      "source": [
        "### **Assignment.6**"
      ],
      "metadata": {
        "id": "-mmGGcZ4M6NP"
      }
    },
    {
      "cell_type": "markdown",
      "source": [
        "### 1.write a program to create a tuple with different data types and print its type."
      ],
      "metadata": {
        "id": "ZyFyUfjMsgiC"
      }
    },
    {
      "cell_type": "code",
      "source": [
        "data=('hello world',13,1.3,True)\n",
        "print(data)\n",
        "print(type(data))"
      ],
      "metadata": {
        "id": "81BrnSb3NJ5i",
        "colab": {
          "base_uri": "https://localhost:8080/"
        },
        "outputId": "d0c252a2-3bc2-428f-cdf7-2c139b8e7210"
      },
      "execution_count": null,
      "outputs": [
        {
          "output_type": "stream",
          "name": "stdout",
          "text": [
            "('hello world', 13, 1.3, True)\n",
            "<class 'tuple'>\n"
          ]
        }
      ]
    },
    {
      "cell_type": "markdown",
      "source": [
        "### 2.Given a tuple t=(10,20,30,40,50),write a program to access the second last element."
      ],
      "metadata": {
        "id": "D0-PW67CtlH5"
      }
    },
    {
      "cell_type": "code",
      "source": [
        "t=(10,20,30,40,50)\n",
        "second_last_element=t[-2]\n",
        "print(\"second last element of given tuple is:\",second_last_element)"
      ],
      "metadata": {
        "colab": {
          "base_uri": "https://localhost:8080/"
        },
        "id": "oQiwWCtLuI8K",
        "outputId": "174d0a6f-1b3a-4772-bed8-500c87f297eb"
      },
      "execution_count": null,
      "outputs": [
        {
          "output_type": "stream",
          "name": "stdout",
          "text": [
            "second last element of given tuple is: 40\n"
          ]
        }
      ]
    },
    {
      "cell_type": "markdown",
      "source": [
        "### 3.. Write a program to count the number of times a given element appears in a tuple."
      ],
      "metadata": {
        "id": "jZT0Bz-qGaRk"
      }
    },
    {
      "cell_type": "code",
      "source": [
        "tuple=(1,2,5,6,5,3,5,8,4,1,9,1,2,0,6,3,4,14)\n",
        "t=tuple.count(5)\n",
        "print(t)"
      ],
      "metadata": {
        "colab": {
          "base_uri": "https://localhost:8080/"
        },
        "id": "KfIG3G0IHdtv",
        "outputId": "cf031610-e886-4130-ac79-4333f3d3f876"
      },
      "execution_count": null,
      "outputs": [
        {
          "output_type": "stream",
          "name": "stdout",
          "text": [
            "3\n"
          ]
        }
      ]
    },
    {
      "cell_type": "markdown",
      "source": [
        "###  4. Write a program to convert a tuple of strings into a single string. Example: ('Python', 'is', 'fun') -->\n",
        " 'Python is fun'"
      ],
      "metadata": {
        "id": "ifD-RQVzIeiV"
      }
    },
    {
      "cell_type": "code",
      "source": [
        "tuple_of_strings=('python','is','fun')\n",
        "single_string=' '.join(tuple_of_strings)\n",
        "print(single_string)"
      ],
      "metadata": {
        "colab": {
          "base_uri": "https://localhost:8080/"
        },
        "id": "MZSFUSQUIksk",
        "outputId": "675bf440-5ed7-452c-8710-c9628625f10d"
      },
      "execution_count": null,
      "outputs": [
        {
          "output_type": "stream",
          "name": "stdout",
          "text": [
            "python is fun\n"
          ]
        }
      ]
    },
    {
      "cell_type": "markdown",
      "source": [
        "###  5. Write a Python program to find the index of an element in a tuple."
      ],
      "metadata": {
        "id": "isK8Cs6xJs1R"
      }
    },
    {
      "cell_type": "code",
      "source": [
        "my_tuple=(1,2,3,4,5,6,7,8,9,10)\n",
        "t=my_tuple.index(4)\n",
        "print(t)"
      ],
      "metadata": {
        "colab": {
          "base_uri": "https://localhost:8080/"
        },
        "id": "oPCWWw6rJyYt",
        "outputId": "ef0e62f8-a9d7-4eed-cb6e-7dc2ca97e42e"
      },
      "execution_count": null,
      "outputs": [
        {
          "output_type": "stream",
          "name": "stdout",
          "text": [
            "3\n"
          ]
        }
      ]
    },
    {
      "cell_type": "markdown",
      "source": [
        "###  Set Questions:\n",
        " 6. Write a Python program to create two sets and perform union, intersection, and difference\n",
        " operations."
      ],
      "metadata": {
        "id": "vhodlOMjKMNR"
      }
    },
    {
      "cell_type": "code",
      "source": [
        "set1={10,20,30,40,50}\n",
        "set2={10,40,30,55,80}\n",
        "union=set1.union(set2)\n",
        "print(\"union:\",union)\n",
        "intersection=set1.intersection(set2)\n",
        "print(\"intersection:\",intersection)\n",
        "difference=set1.difference(set2)\n",
        "print(\"difference:\",difference)"
      ],
      "metadata": {
        "colab": {
          "base_uri": "https://localhost:8080/"
        },
        "id": "KJDlgU9AKRt-",
        "outputId": "3cd832d4-da41-4260-d335-41415ece9dda"
      },
      "execution_count": null,
      "outputs": [
        {
          "output_type": "stream",
          "name": "stdout",
          "text": [
            "union: {40, 10, 80, 50, 20, 55, 30}\n",
            "intersection: {40, 10, 30}\n",
            "difference: {50, 20}\n"
          ]
        }
      ]
    },
    {
      "cell_type": "markdown",
      "source": [
        "###  7. Write a program to check if a given element is present in a set or not."
      ],
      "metadata": {
        "id": "4Z2Blpa9LQUi"
      }
    },
    {
      "cell_type": "code",
      "source": [
        "set1={10,20,30,40,50}\n",
        "element=int(input(\"enter the element\"))\n",
        "if element in set1:\n",
        "  print(\"element is present in set1\")\n",
        "else:\n",
        "  print(\"element is not present in set1\")"
      ],
      "metadata": {
        "colab": {
          "base_uri": "https://localhost:8080/"
        },
        "id": "PWobkDTeLUlU",
        "outputId": "9fd4b347-964f-4a7d-b5af-2dac8bf9dfae"
      },
      "execution_count": null,
      "outputs": [
        {
          "output_type": "stream",
          "name": "stdout",
          "text": [
            "enter the element66\n",
            "element is not present in set1\n"
          ]
        }
      ]
    },
    {
      "cell_type": "markdown",
      "source": [
        "###  8. Write a program to remove duplicate elements from a list using a set."
      ],
      "metadata": {
        "id": "HPDYCroBMA_H"
      }
    },
    {
      "cell_type": "code",
      "source": [
        "my_list=[10,20,40,80,10,20,30,50,60]\n",
        "unique=list(set(my_list))\n",
        "print(unique)"
      ],
      "metadata": {
        "id": "op6KA8dHPqqZ",
        "colab": {
          "base_uri": "https://localhost:8080/"
        },
        "outputId": "d6570f83-562e-4741-c7a4-4a4a4a068776"
      },
      "execution_count": null,
      "outputs": [
        {
          "output_type": "stream",
          "name": "stdout",
          "text": [
            "[40, 10, 80, 50, 20, 60, 30]\n"
          ]
        }
      ]
    },
    {
      "cell_type": "markdown",
      "source": [
        "###  9. Write a Python program to find the symmetric difference between two sets.\n"
      ],
      "metadata": {
        "id": "6i-p4q9iPr2q"
      }
    },
    {
      "cell_type": "code",
      "source": [
        "set1={'blue','black','green','grey'}\n",
        "set2={'orange','grey','black','pink'}\n",
        "symmetric_difference=set1.symmetric_difference(set2)\n",
        "print(symmetric_difference)"
      ],
      "metadata": {
        "id": "CxkJxNxXPxNk",
        "colab": {
          "base_uri": "https://localhost:8080/"
        },
        "outputId": "a158b028-10b1-44d5-bddf-5095ac1722da"
      },
      "execution_count": null,
      "outputs": [
        {
          "output_type": "stream",
          "name": "stdout",
          "text": [
            "{'green', 'pink', 'orange', 'blue'}\n"
          ]
        }
      ]
    },
    {
      "cell_type": "markdown",
      "source": [
        "###  10. Given a list of numbers, write a Python program to find all unique elements using sets."
      ],
      "metadata": {
        "id": "8zw1q3mbvsyO"
      }
    },
    {
      "cell_type": "code",
      "source": [
        "list=[2,9,8,4,5,6,8,9,10,4,1,2,3,4,5,6,7,8,9,10]\n",
        "unique=set(list)\n",
        "print(\"unique elements:\",unique)"
      ],
      "metadata": {
        "colab": {
          "base_uri": "https://localhost:8080/"
        },
        "id": "ON3dcFtVvy_t",
        "outputId": "42320365-e3d1-4315-b5ea-ce0ab0e92ced"
      },
      "execution_count": null,
      "outputs": [
        {
          "output_type": "stream",
          "name": "stdout",
          "text": [
            "unique elements: {1, 2, 3, 4, 5, 6, 7, 8, 9, 10}\n"
          ]
        }
      ]
    },
    {
      "cell_type": "markdown",
      "source": [
        "### **Assignment.7**"
      ],
      "metadata": {
        "id": "T9tkpMnow0Dm"
      }
    },
    {
      "cell_type": "markdown",
      "source": [
        "###  1. Write a function to find the factorial of a number using recursion."
      ],
      "metadata": {
        "id": "U7SWX0NQw7pF"
      }
    },
    {
      "cell_type": "code",
      "source": [
        "def factorial(n):\n",
        "  if n<0:\n",
        "      return \"facorial is not defined for negative numbers\"\n",
        "  elif n==0 or n==1:\n",
        "      return 1\n",
        "  else:\n",
        "      result=1\n",
        "      for i in range(2,n+1):\n",
        "          result*=i\n",
        "      return result\n",
        "n=int(input(\"enter the number:\"))\n",
        "print(factorial(n))\n"
      ],
      "metadata": {
        "colab": {
          "base_uri": "https://localhost:8080/"
        },
        "id": "uJFPG5dSw68j",
        "outputId": "3807f9eb-0653-46a0-fcb5-8eb7d5700460"
      },
      "execution_count": null,
      "outputs": [
        {
          "output_type": "stream",
          "name": "stdout",
          "text": [
            "enter the number:6\n",
            "720\n"
          ]
        }
      ]
    },
    {
      "cell_type": "markdown",
      "source": [
        "###  2. Write a function that checks whether a number is prime or not."
      ],
      "metadata": {
        "id": "hwf1yl9-yRv9"
      }
    },
    {
      "cell_type": "code",
      "source": [
        "def is_prime(n):\n",
        "    if n<=1:\n",
        "        return False\n",
        "    for i in range(2,int(n**0.5+1)):\n",
        "        if n%i==0:\n",
        "            return False\n",
        "    return True\n",
        "n=int(input(\"enter the number:\"))\n",
        "print(is_prime(n))"
      ],
      "metadata": {
        "colab": {
          "base_uri": "https://localhost:8080/"
        },
        "id": "64hmP8NwyiN_",
        "outputId": "ce1670bb-9eb7-4574-8b45-c788f1ea7582"
      },
      "execution_count": null,
      "outputs": [
        {
          "output_type": "stream",
          "name": "stdout",
          "text": [
            "enter the number:10\n",
            "False\n"
          ]
        }
      ]
    },
    {
      "cell_type": "markdown",
      "source": [
        "###  3. Create a function that takes a string as input and returns the number of vowels in it."
      ],
      "metadata": {
        "id": "pZEezDkd0t_y"
      }
    },
    {
      "cell_type": "code",
      "source": [
        "def count_vowels(s):\n",
        "  vowels='aeiouAEIOU'\n",
        "  count=0\n",
        "  for char in s:\n",
        "    if char in vowels:\n",
        "      count+=1\n",
        "  return count\n",
        "x=input(\"enter the string:\")\n",
        "print(count_vowels(x))"
      ],
      "metadata": {
        "colab": {
          "base_uri": "https://localhost:8080/"
        },
        "id": "fU0Y7gf10ycC",
        "outputId": "6ea5a108-41f0-45f8-ed48-ef2bb21982df"
      },
      "execution_count": null,
      "outputs": [
        {
          "output_type": "stream",
          "name": "stdout",
          "text": [
            "enter the string:hello world\n",
            "3\n"
          ]
        }
      ]
    },
    {
      "cell_type": "markdown",
      "source": [
        "###  4. Write a function that accepts a list of numbers and returns the maximum and minimum values."
      ],
      "metadata": {
        "id": "idoizWhz3hOD"
      }
    },
    {
      "cell_type": "code",
      "source": [
        "def max_min(number):\n",
        "  h=max(number)\n",
        "  l=min(number)\n",
        "  return h,l\n",
        "s=list(map(int,input(\"enter the number:\").split(',')))\n",
        "h,l=max_min(s)\n",
        "print(\"maximum value is:\",h)\n",
        "print(\"minimum value is:\",l)\n"
      ],
      "metadata": {
        "colab": {
          "base_uri": "https://localhost:8080/"
        },
        "id": "t1NC_akS3mGf",
        "outputId": "f4d6917b-ae0b-46da-d530-632ba25b71dc"
      },
      "execution_count": null,
      "outputs": [
        {
          "output_type": "stream",
          "name": "stdout",
          "text": [
            "enter the number:1,2,3,5,10,41,15,26,0\n",
            "maximum value is: 41\n",
            "minimum value is: 0\n"
          ]
        }
      ]
    },
    {
      "cell_type": "markdown",
      "source": [
        "###  5. Write a Python function to calculate the nth Fibonacci number using recursion.\n"
      ],
      "metadata": {
        "id": "Xr-65aI-61XZ"
      }
    },
    {
      "cell_type": "code",
      "source": [
        "def fibonacci(f):\n",
        "  if f<=0:\n",
        "    return \"enter the positive number\"\n",
        "  elif f==1:\n",
        "    return 0\n",
        "  elif f==2:\n",
        "    return 1\n",
        "  else: # Indent the rest of the code to be part of the else block\n",
        "    a,b=0,1\n",
        "    for _ in range (3, f): # Changed range upper limit to f as range is exclusive\n",
        "      a,b=b,a+b\n",
        "    return b\n",
        "x=int(input(\"enter the number:\"))\n",
        "print(fibonacci(x))"
      ],
      "metadata": {
        "colab": {
          "base_uri": "https://localhost:8080/"
        },
        "id": "RMdkNQHv66Qf",
        "outputId": "738418a0-fa20-44ef-d33f-d466c3e91504"
      },
      "execution_count": null,
      "outputs": [
        {
          "output_type": "stream",
          "name": "stdout",
          "text": [
            "enter the number:13\n",
            "89\n"
          ]
        }
      ]
    },
    {
      "cell_type": "markdown",
      "source": [
        "###  6. Create a function that accepts two numbers and returns their greatest common divisor (GCD)."
      ],
      "metadata": {
        "id": "BqWM7s1yOzlj"
      }
    },
    {
      "cell_type": "code",
      "source": [
        "def number(a,b):\n",
        "  while b !=0:\n",
        "    a,b=b,a%b\n",
        "  return a\n"
      ],
      "metadata": {
        "id": "IjWBvAP-O4wy"
      },
      "execution_count": 1,
      "outputs": []
    },
    {
      "cell_type": "markdown",
      "source": [
        "###  7. Write a function that takes a list and returns a new list with only unique elements."
      ],
      "metadata": {
        "id": "RCtH_58BPM0M"
      }
    },
    {
      "cell_type": "code",
      "source": [
        "def unique_elements(my_list):\n",
        "  return list(set(my_list))\n",
        "list1 = list(input(\"enter a list seperated by a comma(,):\").split(','))\n",
        "print(f\"unique elements are:{unique_elements(list1)}\")\n",
        "\n"
      ],
      "metadata": {
        "colab": {
          "base_uri": "https://localhost:8080/"
        },
        "id": "_DVRxsgAPWuu",
        "outputId": "57464d2b-4f6f-423c-b500-61f50327984c"
      },
      "execution_count": 3,
      "outputs": [
        {
          "output_type": "stream",
          "name": "stdout",
          "text": [
            "enter a list seperated by a comma(,):1,22,32,4,56,24\n",
            "unique elements are:['22', '4', '24', '1', '32', '56']\n"
          ]
        }
      ]
    },
    {
      "cell_type": "markdown",
      "source": [
        "###  8. Write a function to count the frequency of each word in a given string."
      ],
      "metadata": {
        "id": "mzjBYTexSA4V"
      }
    },
    {
      "cell_type": "code",
      "source": [
        "def word_frequency(string):\n",
        "    words = string.split()\n",
        "    frequency = {}\n",
        "    for word in words:\n",
        "        word = word.lower()\n",
        "        frequency[word] = frequency.get(word,0)+1\n",
        "    return frequency\n",
        "x = input(\"enter the string seperated by a space:\")\n",
        "print(word_frequency(x))"
      ],
      "metadata": {
        "colab": {
          "base_uri": "https://localhost:8080/"
        },
        "id": "dd5HWUKcSGar",
        "outputId": "dfaab55b-9677-41cb-f31c-71cab9382bd0"
      },
      "execution_count": 2,
      "outputs": [
        {
          "output_type": "stream",
          "name": "stdout",
          "text": [
            "enter the string seperated by a space:hi i am gurpreet\n",
            "{'hi': 1, 'i': 1, 'am': 1, 'gurpreet': 1}\n"
          ]
        }
      ]
    },
    {
      "cell_type": "markdown",
      "source": [
        "###  9. Write a function that takes a number and returns True if it is a palindrome, otherwise False."
      ],
      "metadata": {
        "id": "EJjG4IpLUAQm"
      }
    },
    {
      "cell_type": "code",
      "source": [
        "def is_palindrome(number):\n",
        "  return str(number)==str(number)[::-1]\n",
        "num=int(input(\"enter the number:\"))\n",
        "print(is_palindrome(num))\n",
        "\n",
        "\n",
        "def is_palindrome(num):\n",
        "  s=str(num)\n",
        "  return s==s[::-1]\n",
        "  number=int(input(\"enter the number:\"))\n",
        "  print(is_palindrome(number))"
      ],
      "metadata": {
        "colab": {
          "base_uri": "https://localhost:8080/"
        },
        "id": "9KQp4zcjUaml",
        "outputId": "1383968c-199f-44b5-bc6d-6651b51ceff6"
      },
      "execution_count": null,
      "outputs": [
        {
          "output_type": "stream",
          "name": "stdout",
          "text": [
            "enter the number:130\n",
            "False\n"
          ]
        }
      ]
    },
    {
      "cell_type": "markdown",
      "source": [
        "###  10. Create a function that takes a temperature in Celsius and returns it in Fahrenheit."
      ],
      "metadata": {
        "id": "1wbBRxiMVGWl"
      }
    },
    {
      "cell_type": "code",
      "source": [
        "def celsius_to_fahrenheit(celsius):\n",
        "    return ((celsius*9/5)+32)\n",
        "temp=int(input(\"enter the temperature:\"))\n",
        "print(\"fahrenheit is:\",celsius_to_fahrenheit(temp))"
      ],
      "metadata": {
        "colab": {
          "base_uri": "https://localhost:8080/"
        },
        "id": "Btw5MK46Vo8Y",
        "outputId": "1ea15b10-65f4-4bd8-fbf2-46bbac6d3e55"
      },
      "execution_count": null,
      "outputs": [
        {
          "output_type": "stream",
          "name": "stdout",
          "text": [
            "enter the temperature:38\n",
            "fahrenheit is: 100.4\n"
          ]
        }
      ]
    },
    {
      "cell_type": "markdown",
      "source": [
        "## **Assignment.8**"
      ],
      "metadata": {
        "id": "PDj1_FtvW-Hz"
      }
    },
    {
      "cell_type": "markdown",
      "source": [
        "###  1. Write a Python program to create a new text file and write the text 'Hello, File Handling!' to it."
      ],
      "metadata": {
        "id": "b6_sakYlX9L5"
      }
    },
    {
      "cell_type": "markdown",
      "source": [
        "## **Assignment.9**"
      ],
      "metadata": {
        "id": "VoKeDeNqarYn"
      }
    },
    {
      "cell_type": "markdown",
      "source": [
        "###  1. Create a NumPy array with values from 1 to 10. Print the shape, dimension, and data type of the\n",
        " array."
      ],
      "metadata": {
        "id": "eB-vYuNObB6P"
      }
    },
    {
      "cell_type": "code",
      "source": [
        "import numpy as np\n",
        "array=np.arange(1,11)\n",
        "print(array)\n",
        "print(\"shape:\",array.shape)\n",
        "print(\"dimension:\",array.ndim)\n",
        "print(\"data type:\",array.dtype)"
      ],
      "metadata": {
        "colab": {
          "base_uri": "https://localhost:8080/"
        },
        "id": "kc1n7b4dcqB0",
        "outputId": "de356a8e-f137-4509-c934-876a10e0b3b5"
      },
      "execution_count": null,
      "outputs": [
        {
          "output_type": "stream",
          "name": "stdout",
          "text": [
            "[ 1  2  3  4  5  6  7  8  9 10]\n",
            "shape: (10,)\n",
            "dimension: 1\n",
            "data type: int64\n"
          ]
        }
      ]
    },
    {
      "cell_type": "markdown",
      "source": [
        "###  2. Create a 3x3 NumPy array of all zeros and another of all ones. Then create a 3x3 identity matrix."
      ],
      "metadata": {
        "id": "sWFLY0xnc4v5"
      }
    },
    {
      "cell_type": "code",
      "source": [
        "arr_zero = np.zeros((3,3))\n",
        "print(\"3*3 matrix of zeros:\")\n",
        "print(arr_zero)\n",
        "\n",
        "arr_one = np.ones((3,3))\n",
        "print(\"\\n3*3 matrix of ones:\")\n",
        "print(arr_one)\n",
        "\n",
        "arr_identity = np.identity(3)\n",
        "print(\"\\n3*3 identity matrix:\")\n",
        "print(arr_identity)"
      ],
      "metadata": {
        "colab": {
          "base_uri": "https://localhost:8080/"
        },
        "id": "ciOWaXS9c8x-",
        "outputId": "2d774c92-8f2a-4a8f-c549-8c76e99144cf"
      },
      "execution_count": null,
      "outputs": [
        {
          "output_type": "stream",
          "name": "stdout",
          "text": [
            "3*3 matrix of zeros:\n",
            "[[0. 0. 0.]\n",
            " [0. 0. 0.]\n",
            " [0. 0. 0.]]\n",
            "\n",
            "3*3 matrix of ones:\n",
            "[[1. 1. 1.]\n",
            " [1. 1. 1.]\n",
            " [1. 1. 1.]]\n",
            "\n",
            "3*3 identity matrix:\n",
            "[[1. 0. 0.]\n",
            " [0. 1. 0.]\n",
            " [0. 0. 1.]]\n"
          ]
        }
      ]
    },
    {
      "cell_type": "markdown",
      "source": [
        "###  3. Generate an array of 15 random integers between 10 and 100 using np.random.randint. Reshape\n",
        " it into a 3x5 matrix and print it."
      ],
      "metadata": {
        "id": "LHEXnRU8eO0T"
      }
    },
    {
      "cell_type": "code",
      "source": [
        "arr = np.random.randint(10,100,15)\n",
        "print(f\"15 random integers between 10 and 100:\")\n",
        "print(\"\\nreshaped to 3*5 matrix:\")\n",
        "print(arr.reshape(3,5))"
      ],
      "metadata": {
        "colab": {
          "base_uri": "https://localhost:8080/"
        },
        "id": "q5scXEdqeTzi",
        "outputId": "01f7452a-a6d2-4eee-a93c-c744d79dc7e6"
      },
      "execution_count": null,
      "outputs": [
        {
          "output_type": "stream",
          "name": "stdout",
          "text": [
            "15 random integers between 10 and 100:\n",
            "\n",
            "reshaped to 3*5 matrix:\n",
            "[[64 82 14 20 25]\n",
            " [89 67 94 73 65]\n",
            " [70 72 23 16 69]]\n"
          ]
        }
      ]
    },
    {
      "cell_type": "markdown",
      "source": [
        "###  4. Create a NumPy array from 1 to 20. Extract every 3rd element starting from index 1 using slicing."
      ],
      "metadata": {
        "id": "b_8qrAb-ewRR"
      }
    },
    {
      "cell_type": "code",
      "source": [
        "arr = np.arange(1,21)\n",
        "print(\"array from 1 to 20:\")\n",
        "print(arr)\n",
        "print(\"\\nevery 3rd element starting from index 1:\")\n",
        "print(arr[1::3])"
      ],
      "metadata": {
        "colab": {
          "base_uri": "https://localhost:8080/"
        },
        "id": "5w7hVMjIe1aY",
        "outputId": "d1bfd8f5-7d06-40d3-e214-954320486f58"
      },
      "execution_count": null,
      "outputs": [
        {
          "output_type": "stream",
          "name": "stdout",
          "text": [
            "array from 1 to 20:\n",
            "[ 1  2  3  4  5  6  7  8  9 10 11 12 13 14 15 16 17 18 19 20]\n",
            "\n",
            "every 3rd element starting from index 1:\n",
            "[ 2  5  8 11 14 17 20]\n"
          ]
        }
      ]
    },
    {
      "cell_type": "markdown",
      "source": [
        "###  5. Create two arrays: a = np.array([2, 4, 6, 8]) and b = np.array([1, 3, 5, 7]). Perform element-wise\n",
        " ### addition, multiplication, and compare which elements in a are greater than in b."
      ],
      "metadata": {
        "id": "CoL0vEWsfFcx"
      }
    },
    {
      "cell_type": "code",
      "source": [
        "x = np.array([2,4,6,8])\n",
        "y = np.array([1,3,5,7])\n",
        "print(f\"addition:{x+y}\")\n",
        "print(f\"multiplication:{x*y}\")\n",
        "print(f\"comparison:{x>y}\")"
      ],
      "metadata": {
        "colab": {
          "base_uri": "https://localhost:8080/"
        },
        "id": "TNDz9EdkfNJi",
        "outputId": "47f41b0d-9eae-47b4-c1fe-7e66b0d1a8f0"
      },
      "execution_count": null,
      "outputs": [
        {
          "output_type": "stream",
          "name": "stdout",
          "text": [
            "addition:[ 3  7 11 15]\n",
            "multiplication:[ 2 12 30 56]\n",
            "comparison:[ True  True  True  True]\n"
          ]
        }
      ]
    },
    {
      "cell_type": "markdown",
      "source": [
        "###  6. Create a NumPy array with 20 random values (0 to 1) using np.random.rand(). Find the mean,\n",
        " median, standard deviation, min, and max."
      ],
      "metadata": {
        "id": "jitMhLGpf8SR"
      }
    },
    {
      "cell_type": "code",
      "source": [
        "a = np.random.rand(20)\n",
        "print(f\"array with 20 random values:,{a}\\n\")\n",
        "print(f\"mean:{np.mean(a)}\")\n",
        "print(f\"median:{np.median(a)}\")\n",
        "print(f\"standard deviation:{np.std(a)}\")\n",
        "print(f\"min:{np.min(a)}\")"
      ],
      "metadata": {
        "colab": {
          "base_uri": "https://localhost:8080/"
        },
        "id": "7AwQthHtgIg4",
        "outputId": "1c3ea634-d128-4e45-bdaa-a0b5b84372e8"
      },
      "execution_count": null,
      "outputs": [
        {
          "output_type": "stream",
          "name": "stdout",
          "text": [
            "array with 20 random values:,[0.72912974 0.05490176 0.51844881 0.13723325 0.65542367 0.8348365\n",
            " 0.76958829 0.11920385 0.02331491 0.51457812 0.84884891 0.8535944\n",
            " 0.55357556 0.22360884 0.89729577 0.27517868 0.90544317 0.29009981\n",
            " 0.25672837 0.55206068]\n",
            "\n",
            "mean:0.5006546538175286\n",
            "median:0.5352547453582335\n",
            "standard deviation:0.2973760519306185\n",
            "min:0.023314905342001868\n"
          ]
        }
      ]
    },
    {
      "cell_type": "markdown",
      "source": [
        "### 7. Given: arr = np.array([[3, 5], [7, 9]]). Find the sum across rows and columns using axis."
      ],
      "metadata": {
        "id": "S4_GVl7vgqrn"
      }
    },
    {
      "cell_type": "code",
      "source": [
        "arr = np.array([[3,5],[7,9]])\n",
        "print(f\"sum across rows:{np.sum(arr,axis=1)}\")\n",
        "print(f\"sum across columns:{np.sum(arr,axis=0)}\")"
      ],
      "metadata": {
        "colab": {
          "base_uri": "https://localhost:8080/"
        },
        "id": "uW8QNMNZgvy7",
        "outputId": "92e9a42a-2e0c-471d-f9bb-b4b358753f1a"
      },
      "execution_count": null,
      "outputs": [
        {
          "output_type": "stream",
          "name": "stdout",
          "text": [
            "sum across rows:[ 8 16]\n",
            "sum across columns:[10 14]\n"
          ]
        }
      ]
    },
    {
      "cell_type": "markdown",
      "source": [
        "###  8. Create a NumPy array of numbers from 10 to 30. Filter and print only the even numbers using\n",
        " boolean indexing."
      ],
      "metadata": {
        "id": "lRzhG8usg3x5"
      }
    },
    {
      "cell_type": "code",
      "source": [
        "arr = np.arange(10,31)\n",
        "print(f\"array of numbers from 10 to 30:{arr}\")\n",
        "print(f\"even numbers:{arr[arr%2==0]}\")"
      ],
      "metadata": {
        "colab": {
          "base_uri": "https://localhost:8080/"
        },
        "id": "jnqY7ab1g77h",
        "outputId": "a8221406-72aa-4fbf-a31b-7f4c4bce99c2"
      },
      "execution_count": null,
      "outputs": [
        {
          "output_type": "stream",
          "name": "stdout",
          "text": [
            "array of numbers from 10 to 30:[10 11 12 13 14 15 16 17 18 19 20 21 22 23 24 25 26 27 28 29 30]\n",
            "even numbers:[10 12 14 16 18 20 22 24 26 28 30]\n"
          ]
        }
      ]
    },
    {
      "cell_type": "markdown",
      "source": [
        "###  9. Generate an array of 10 random integers from 1 to 100. Replace all elements greater than 50 with-1."
      ],
      "metadata": {
        "id": "XYMBVaERhUMA"
      }
    },
    {
      "cell_type": "code",
      "source": [
        "arr = np.random.randint(1,101,10)\n",
        "print(f\"array of 10 random integers from 1 to 100:{arr}\")\n",
        "arr[arr>50]=-1\n",
        "print(f\"replacing all elements greater than 50 with -1:{arr}\")"
      ],
      "metadata": {
        "colab": {
          "base_uri": "https://localhost:8080/"
        },
        "id": "q4uz_kpFhYKt",
        "outputId": "66385ddd-bd99-491b-df3b-55ba73e1bea8"
      },
      "execution_count": null,
      "outputs": [
        {
          "output_type": "stream",
          "name": "stdout",
          "text": [
            "array of 10 random integers from 1 to 100:[16  7  1 57  2 29  1 53 12 10]\n",
            "replacing all elements greater than 50 with -1:[16  7  1 -1  2 29  1 -1 12 10]\n"
          ]
        }
      ]
    },
    {
      "cell_type": "markdown",
      "source": [
        "###  10. Create two arrays: x = np.array([[1, 2], [3, 4]]) and y = np.array([[5, 6], [7, 8]]). Stack them\n",
        " vertically and horizontally, then flatten the result into a 1D array."
      ],
      "metadata": {
        "id": "b1jN-o1Rhtrz"
      }
    },
    {
      "cell_type": "code",
      "source": [
        "x = np.array([[1,2],[3,4]])\n",
        "y = np.array([[5,6],[7,8]])\n",
        "\n",
        "v_arr = np.vstack((x,y))\n",
        "print(f\"vertically stacked array:{v_arr}\")\n",
        "\n",
        "h_arr = np.hstack((x,y))\n",
        "print(f\"horizontally stacked array:{h_arr}\")\n",
        "\n",
        "fv_arr = v_arr.flatten()\n",
        "print(f\"flattened vertically stacked array:{fv_arr}\")\n",
        "\n",
        "fh_arr = h_arr.flatten()\n",
        "print(f\"flattened horizontally stacked array:{fh_arr}\")\n"
      ],
      "metadata": {
        "colab": {
          "base_uri": "https://localhost:8080/"
        },
        "id": "olmZsm4Ch1Hq",
        "outputId": "05156d74-e0e3-490c-bbaf-50b065cb9c49"
      },
      "execution_count": null,
      "outputs": [
        {
          "output_type": "stream",
          "name": "stdout",
          "text": [
            "vertically stacked array:[[1 2]\n",
            " [3 4]\n",
            " [5 6]\n",
            " [7 8]]\n",
            "horizontally stacked array:[[1 2 5 6]\n",
            " [3 4 7 8]]\n",
            "flattened vertically stacked array:[1 2 3 4 5 6 7 8]\n",
            "flattened horizontally stacked array:[1 2 5 6 3 4 7 8]\n"
          ]
        }
      ]
    },
    {
      "cell_type": "markdown",
      "source": [
        "### **Assignment.10**"
      ],
      "metadata": {
        "id": "P-NmNv3A4Xgk"
      }
    },
    {
      "cell_type": "markdown",
      "source": [
        "### 1. Load the dataset and display the first 10 rows."
      ],
      "metadata": {
        "id": "M8bnI3vI4lP8"
      }
    },
    {
      "cell_type": "code",
      "source": [
        "import pandas as pd\n",
        "import numpy as np"
      ],
      "metadata": {
        "id": "udUmM2UsDrGf"
      },
      "execution_count": null,
      "outputs": []
    },
    {
      "cell_type": "code",
      "source": [
        "from google.colab import drive\n",
        "\n",
        "drive.mount('/content/drive')\n",
        "\n",
        "df =pd.read_csv('/content/drive/MyDrive/assignment11.csv')\n",
        "df.head(10)"
      ],
      "metadata": {
        "colab": {
          "base_uri": "https://localhost:8080/",
          "height": 401
        },
        "id": "C7aq1I50ApMW",
        "outputId": "2e4a60ad-292c-49df-91dd-4a16a67b90c8"
      },
      "execution_count": null,
      "outputs": [
        {
          "output_type": "stream",
          "name": "stdout",
          "text": [
            "Drive already mounted at /content/drive; to attempt to forcibly remount, call drive.mount(\"/content/drive\", force_remount=True).\n"
          ]
        },
        {
          "output_type": "execute_result",
          "data": {
            "text/plain": [
              "   carat        cut color clarity  depth  table  price     x     y     z\n",
              "0   0.23      Ideal     E     SI2   61.5   55.0    326  3.95  3.98  2.43\n",
              "1   0.21    Premium     E     SI1   59.8   61.0    326  3.89  3.84  2.31\n",
              "2   0.23       Good     E     VS1   56.9   65.0    327  4.05  4.07  2.31\n",
              "3   0.29    Premium     I     VS2   62.4   58.0    334  4.20  4.23  2.63\n",
              "4   0.31       Good     J     SI2   63.3   58.0    335  4.34  4.35  2.75\n",
              "5   0.24  Very Good     J    VVS2   62.8   57.0    336  3.94  3.96  2.48\n",
              "6   0.24  Very Good     I    VVS1   62.3   57.0    336  3.95  3.98  2.47\n",
              "7   0.26  Very Good     H     SI1   61.9   55.0    337  4.07  4.11  2.53\n",
              "8   0.22       Fair     E     VS2   65.1   61.0    337  3.87  3.78  2.49\n",
              "9   0.23  Very Good     H     VS1   59.4   61.0    338  4.00  4.05  2.39"
            ],
            "text/html": [
              "\n",
              "  <div id=\"df-db08b924-01bf-4f61-bb0d-f94f2671d19f\" class=\"colab-df-container\">\n",
              "    <div>\n",
              "<style scoped>\n",
              "    .dataframe tbody tr th:only-of-type {\n",
              "        vertical-align: middle;\n",
              "    }\n",
              "\n",
              "    .dataframe tbody tr th {\n",
              "        vertical-align: top;\n",
              "    }\n",
              "\n",
              "    .dataframe thead th {\n",
              "        text-align: right;\n",
              "    }\n",
              "</style>\n",
              "<table border=\"1\" class=\"dataframe\">\n",
              "  <thead>\n",
              "    <tr style=\"text-align: right;\">\n",
              "      <th></th>\n",
              "      <th>carat</th>\n",
              "      <th>cut</th>\n",
              "      <th>color</th>\n",
              "      <th>clarity</th>\n",
              "      <th>depth</th>\n",
              "      <th>table</th>\n",
              "      <th>price</th>\n",
              "      <th>x</th>\n",
              "      <th>y</th>\n",
              "      <th>z</th>\n",
              "    </tr>\n",
              "  </thead>\n",
              "  <tbody>\n",
              "    <tr>\n",
              "      <th>0</th>\n",
              "      <td>0.23</td>\n",
              "      <td>Ideal</td>\n",
              "      <td>E</td>\n",
              "      <td>SI2</td>\n",
              "      <td>61.5</td>\n",
              "      <td>55.0</td>\n",
              "      <td>326</td>\n",
              "      <td>3.95</td>\n",
              "      <td>3.98</td>\n",
              "      <td>2.43</td>\n",
              "    </tr>\n",
              "    <tr>\n",
              "      <th>1</th>\n",
              "      <td>0.21</td>\n",
              "      <td>Premium</td>\n",
              "      <td>E</td>\n",
              "      <td>SI1</td>\n",
              "      <td>59.8</td>\n",
              "      <td>61.0</td>\n",
              "      <td>326</td>\n",
              "      <td>3.89</td>\n",
              "      <td>3.84</td>\n",
              "      <td>2.31</td>\n",
              "    </tr>\n",
              "    <tr>\n",
              "      <th>2</th>\n",
              "      <td>0.23</td>\n",
              "      <td>Good</td>\n",
              "      <td>E</td>\n",
              "      <td>VS1</td>\n",
              "      <td>56.9</td>\n",
              "      <td>65.0</td>\n",
              "      <td>327</td>\n",
              "      <td>4.05</td>\n",
              "      <td>4.07</td>\n",
              "      <td>2.31</td>\n",
              "    </tr>\n",
              "    <tr>\n",
              "      <th>3</th>\n",
              "      <td>0.29</td>\n",
              "      <td>Premium</td>\n",
              "      <td>I</td>\n",
              "      <td>VS2</td>\n",
              "      <td>62.4</td>\n",
              "      <td>58.0</td>\n",
              "      <td>334</td>\n",
              "      <td>4.20</td>\n",
              "      <td>4.23</td>\n",
              "      <td>2.63</td>\n",
              "    </tr>\n",
              "    <tr>\n",
              "      <th>4</th>\n",
              "      <td>0.31</td>\n",
              "      <td>Good</td>\n",
              "      <td>J</td>\n",
              "      <td>SI2</td>\n",
              "      <td>63.3</td>\n",
              "      <td>58.0</td>\n",
              "      <td>335</td>\n",
              "      <td>4.34</td>\n",
              "      <td>4.35</td>\n",
              "      <td>2.75</td>\n",
              "    </tr>\n",
              "    <tr>\n",
              "      <th>5</th>\n",
              "      <td>0.24</td>\n",
              "      <td>Very Good</td>\n",
              "      <td>J</td>\n",
              "      <td>VVS2</td>\n",
              "      <td>62.8</td>\n",
              "      <td>57.0</td>\n",
              "      <td>336</td>\n",
              "      <td>3.94</td>\n",
              "      <td>3.96</td>\n",
              "      <td>2.48</td>\n",
              "    </tr>\n",
              "    <tr>\n",
              "      <th>6</th>\n",
              "      <td>0.24</td>\n",
              "      <td>Very Good</td>\n",
              "      <td>I</td>\n",
              "      <td>VVS1</td>\n",
              "      <td>62.3</td>\n",
              "      <td>57.0</td>\n",
              "      <td>336</td>\n",
              "      <td>3.95</td>\n",
              "      <td>3.98</td>\n",
              "      <td>2.47</td>\n",
              "    </tr>\n",
              "    <tr>\n",
              "      <th>7</th>\n",
              "      <td>0.26</td>\n",
              "      <td>Very Good</td>\n",
              "      <td>H</td>\n",
              "      <td>SI1</td>\n",
              "      <td>61.9</td>\n",
              "      <td>55.0</td>\n",
              "      <td>337</td>\n",
              "      <td>4.07</td>\n",
              "      <td>4.11</td>\n",
              "      <td>2.53</td>\n",
              "    </tr>\n",
              "    <tr>\n",
              "      <th>8</th>\n",
              "      <td>0.22</td>\n",
              "      <td>Fair</td>\n",
              "      <td>E</td>\n",
              "      <td>VS2</td>\n",
              "      <td>65.1</td>\n",
              "      <td>61.0</td>\n",
              "      <td>337</td>\n",
              "      <td>3.87</td>\n",
              "      <td>3.78</td>\n",
              "      <td>2.49</td>\n",
              "    </tr>\n",
              "    <tr>\n",
              "      <th>9</th>\n",
              "      <td>0.23</td>\n",
              "      <td>Very Good</td>\n",
              "      <td>H</td>\n",
              "      <td>VS1</td>\n",
              "      <td>59.4</td>\n",
              "      <td>61.0</td>\n",
              "      <td>338</td>\n",
              "      <td>4.00</td>\n",
              "      <td>4.05</td>\n",
              "      <td>2.39</td>\n",
              "    </tr>\n",
              "  </tbody>\n",
              "</table>\n",
              "</div>\n",
              "    <div class=\"colab-df-buttons\">\n",
              "\n",
              "  <div class=\"colab-df-container\">\n",
              "    <button class=\"colab-df-convert\" onclick=\"convertToInteractive('df-db08b924-01bf-4f61-bb0d-f94f2671d19f')\"\n",
              "            title=\"Convert this dataframe to an interactive table.\"\n",
              "            style=\"display:none;\">\n",
              "\n",
              "  <svg xmlns=\"http://www.w3.org/2000/svg\" height=\"24px\" viewBox=\"0 -960 960 960\">\n",
              "    <path d=\"M120-120v-720h720v720H120Zm60-500h600v-160H180v160Zm220 220h160v-160H400v160Zm0 220h160v-160H400v160ZM180-400h160v-160H180v160Zm440 0h160v-160H620v160ZM180-180h160v-160H180v160Zm440 0h160v-160H620v160Z\"/>\n",
              "  </svg>\n",
              "    </button>\n",
              "\n",
              "  <style>\n",
              "    .colab-df-container {\n",
              "      display:flex;\n",
              "      gap: 12px;\n",
              "    }\n",
              "\n",
              "    .colab-df-convert {\n",
              "      background-color: #E8F0FE;\n",
              "      border: none;\n",
              "      border-radius: 50%;\n",
              "      cursor: pointer;\n",
              "      display: none;\n",
              "      fill: #1967D2;\n",
              "      height: 32px;\n",
              "      padding: 0 0 0 0;\n",
              "      width: 32px;\n",
              "    }\n",
              "\n",
              "    .colab-df-convert:hover {\n",
              "      background-color: #E2EBFA;\n",
              "      box-shadow: 0px 1px 2px rgba(60, 64, 67, 0.3), 0px 1px 3px 1px rgba(60, 64, 67, 0.15);\n",
              "      fill: #174EA6;\n",
              "    }\n",
              "\n",
              "    .colab-df-buttons div {\n",
              "      margin-bottom: 4px;\n",
              "    }\n",
              "\n",
              "    [theme=dark] .colab-df-convert {\n",
              "      background-color: #3B4455;\n",
              "      fill: #D2E3FC;\n",
              "    }\n",
              "\n",
              "    [theme=dark] .colab-df-convert:hover {\n",
              "      background-color: #434B5C;\n",
              "      box-shadow: 0px 1px 3px 1px rgba(0, 0, 0, 0.15);\n",
              "      filter: drop-shadow(0px 1px 2px rgba(0, 0, 0, 0.3));\n",
              "      fill: #FFFFFF;\n",
              "    }\n",
              "  </style>\n",
              "\n",
              "    <script>\n",
              "      const buttonEl =\n",
              "        document.querySelector('#df-db08b924-01bf-4f61-bb0d-f94f2671d19f button.colab-df-convert');\n",
              "      buttonEl.style.display =\n",
              "        google.colab.kernel.accessAllowed ? 'block' : 'none';\n",
              "\n",
              "      async function convertToInteractive(key) {\n",
              "        const element = document.querySelector('#df-db08b924-01bf-4f61-bb0d-f94f2671d19f');\n",
              "        const dataTable =\n",
              "          await google.colab.kernel.invokeFunction('convertToInteractive',\n",
              "                                                    [key], {});\n",
              "        if (!dataTable) return;\n",
              "\n",
              "        const docLinkHtml = 'Like what you see? Visit the ' +\n",
              "          '<a target=\"_blank\" href=https://colab.research.google.com/notebooks/data_table.ipynb>data table notebook</a>'\n",
              "          + ' to learn more about interactive tables.';\n",
              "        element.innerHTML = '';\n",
              "        dataTable['output_type'] = 'display_data';\n",
              "        await google.colab.output.renderOutput(dataTable, element);\n",
              "        const docLink = document.createElement('div');\n",
              "        docLink.innerHTML = docLinkHtml;\n",
              "        element.appendChild(docLink);\n",
              "      }\n",
              "    </script>\n",
              "  </div>\n",
              "\n",
              "\n",
              "    <div id=\"df-e209938a-ba27-43a8-8230-ecb8224c566e\">\n",
              "      <button class=\"colab-df-quickchart\" onclick=\"quickchart('df-e209938a-ba27-43a8-8230-ecb8224c566e')\"\n",
              "                title=\"Suggest charts\"\n",
              "                style=\"display:none;\">\n",
              "\n",
              "<svg xmlns=\"http://www.w3.org/2000/svg\" height=\"24px\"viewBox=\"0 0 24 24\"\n",
              "     width=\"24px\">\n",
              "    <g>\n",
              "        <path d=\"M19 3H5c-1.1 0-2 .9-2 2v14c0 1.1.9 2 2 2h14c1.1 0 2-.9 2-2V5c0-1.1-.9-2-2-2zM9 17H7v-7h2v7zm4 0h-2V7h2v10zm4 0h-2v-4h2v4z\"/>\n",
              "    </g>\n",
              "</svg>\n",
              "      </button>\n",
              "\n",
              "<style>\n",
              "  .colab-df-quickchart {\n",
              "      --bg-color: #E8F0FE;\n",
              "      --fill-color: #1967D2;\n",
              "      --hover-bg-color: #E2EBFA;\n",
              "      --hover-fill-color: #174EA6;\n",
              "      --disabled-fill-color: #AAA;\n",
              "      --disabled-bg-color: #DDD;\n",
              "  }\n",
              "\n",
              "  [theme=dark] .colab-df-quickchart {\n",
              "      --bg-color: #3B4455;\n",
              "      --fill-color: #D2E3FC;\n",
              "      --hover-bg-color: #434B5C;\n",
              "      --hover-fill-color: #FFFFFF;\n",
              "      --disabled-bg-color: #3B4455;\n",
              "      --disabled-fill-color: #666;\n",
              "  }\n",
              "\n",
              "  .colab-df-quickchart {\n",
              "    background-color: var(--bg-color);\n",
              "    border: none;\n",
              "    border-radius: 50%;\n",
              "    cursor: pointer;\n",
              "    display: none;\n",
              "    fill: var(--fill-color);\n",
              "    height: 32px;\n",
              "    padding: 0;\n",
              "    width: 32px;\n",
              "  }\n",
              "\n",
              "  .colab-df-quickchart:hover {\n",
              "    background-color: var(--hover-bg-color);\n",
              "    box-shadow: 0 1px 2px rgba(60, 64, 67, 0.3), 0 1px 3px 1px rgba(60, 64, 67, 0.15);\n",
              "    fill: var(--button-hover-fill-color);\n",
              "  }\n",
              "\n",
              "  .colab-df-quickchart-complete:disabled,\n",
              "  .colab-df-quickchart-complete:disabled:hover {\n",
              "    background-color: var(--disabled-bg-color);\n",
              "    fill: var(--disabled-fill-color);\n",
              "    box-shadow: none;\n",
              "  }\n",
              "\n",
              "  .colab-df-spinner {\n",
              "    border: 2px solid var(--fill-color);\n",
              "    border-color: transparent;\n",
              "    border-bottom-color: var(--fill-color);\n",
              "    animation:\n",
              "      spin 1s steps(1) infinite;\n",
              "  }\n",
              "\n",
              "  @keyframes spin {\n",
              "    0% {\n",
              "      border-color: transparent;\n",
              "      border-bottom-color: var(--fill-color);\n",
              "      border-left-color: var(--fill-color);\n",
              "    }\n",
              "    20% {\n",
              "      border-color: transparent;\n",
              "      border-left-color: var(--fill-color);\n",
              "      border-top-color: var(--fill-color);\n",
              "    }\n",
              "    30% {\n",
              "      border-color: transparent;\n",
              "      border-left-color: var(--fill-color);\n",
              "      border-top-color: var(--fill-color);\n",
              "      border-right-color: var(--fill-color);\n",
              "    }\n",
              "    40% {\n",
              "      border-color: transparent;\n",
              "      border-right-color: var(--fill-color);\n",
              "      border-top-color: var(--fill-color);\n",
              "    }\n",
              "    60% {\n",
              "      border-color: transparent;\n",
              "      border-right-color: var(--fill-color);\n",
              "    }\n",
              "    80% {\n",
              "      border-color: transparent;\n",
              "      border-right-color: var(--fill-color);\n",
              "      border-bottom-color: var(--fill-color);\n",
              "    }\n",
              "    90% {\n",
              "      border-color: transparent;\n",
              "      border-bottom-color: var(--fill-color);\n",
              "    }\n",
              "  }\n",
              "</style>\n",
              "\n",
              "      <script>\n",
              "        async function quickchart(key) {\n",
              "          const quickchartButtonEl =\n",
              "            document.querySelector('#' + key + ' button');\n",
              "          quickchartButtonEl.disabled = true;  // To prevent multiple clicks.\n",
              "          quickchartButtonEl.classList.add('colab-df-spinner');\n",
              "          try {\n",
              "            const charts = await google.colab.kernel.invokeFunction(\n",
              "                'suggestCharts', [key], {});\n",
              "          } catch (error) {\n",
              "            console.error('Error during call to suggestCharts:', error);\n",
              "          }\n",
              "          quickchartButtonEl.classList.remove('colab-df-spinner');\n",
              "          quickchartButtonEl.classList.add('colab-df-quickchart-complete');\n",
              "        }\n",
              "        (() => {\n",
              "          let quickchartButtonEl =\n",
              "            document.querySelector('#df-e209938a-ba27-43a8-8230-ecb8224c566e button');\n",
              "          quickchartButtonEl.style.display =\n",
              "            google.colab.kernel.accessAllowed ? 'block' : 'none';\n",
              "        })();\n",
              "      </script>\n",
              "    </div>\n",
              "\n",
              "    </div>\n",
              "  </div>\n"
            ],
            "application/vnd.google.colaboratory.intrinsic+json": {
              "type": "dataframe",
              "variable_name": "df",
              "summary": "{\n  \"name\": \"df\",\n  \"rows\": 50000,\n  \"fields\": [\n    {\n      \"column\": \"carat\",\n      \"properties\": {\n        \"dtype\": \"number\",\n        \"std\": 0.4751729878991273,\n        \"min\": 0.2,\n        \"max\": 5.01,\n        \"num_unique_values\": 272,\n        \"samples\": [\n          0.63,\n          1.54,\n          1.5\n        ],\n        \"semantic_type\": \"\",\n        \"description\": \"\"\n      }\n    },\n    {\n      \"column\": \"cut\",\n      \"properties\": {\n        \"dtype\": \"category\",\n        \"num_unique_values\": 5,\n        \"samples\": [\n          \"Premium\",\n          \"Fair\",\n          \"Good\"\n        ],\n        \"semantic_type\": \"\",\n        \"description\": \"\"\n      }\n    },\n    {\n      \"column\": \"color\",\n      \"properties\": {\n        \"dtype\": \"category\",\n        \"num_unique_values\": 7,\n        \"samples\": [\n          \"E\",\n          \"I\",\n          \"G\"\n        ],\n        \"semantic_type\": \"\",\n        \"description\": \"\"\n      }\n    },\n    {\n      \"column\": \"clarity\",\n      \"properties\": {\n        \"dtype\": \"category\",\n        \"num_unique_values\": 8,\n        \"samples\": [\n          \"SI1\",\n          \"VVS1\",\n          \"SI2\"\n        ],\n        \"semantic_type\": \"\",\n        \"description\": \"\"\n      }\n    },\n    {\n      \"column\": \"depth\",\n      \"properties\": {\n        \"dtype\": \"number\",\n        \"std\": 1.4310875319819645,\n        \"min\": 43.0,\n        \"max\": 79.0,\n        \"num_unique_values\": 181,\n        \"samples\": [\n          61.0,\n          59.2,\n          70.2\n        ],\n        \"semantic_type\": \"\",\n        \"description\": \"\"\n      }\n    },\n    {\n      \"column\": \"table\",\n      \"properties\": {\n        \"dtype\": \"number\",\n        \"std\": 2.232091739999323,\n        \"min\": 43.0,\n        \"max\": 95.0,\n        \"num_unique_values\": 126,\n        \"samples\": [\n          58.5,\n          68.0,\n          63.3\n        ],\n        \"semantic_type\": \"\",\n        \"description\": \"\"\n      }\n    },\n    {\n      \"column\": \"price\",\n      \"properties\": {\n        \"dtype\": \"number\",\n        \"std\": 3997,\n        \"min\": 326,\n        \"max\": 18823,\n        \"num_unique_values\": 11297,\n        \"samples\": [\n          6910,\n          14182,\n          2714\n        ],\n        \"semantic_type\": \"\",\n        \"description\": \"\"\n      }\n    },\n    {\n      \"column\": \"x\",\n      \"properties\": {\n        \"dtype\": \"number\",\n        \"std\": 1.1230773250858357,\n        \"min\": 0.0,\n        \"max\": 10.74,\n        \"num_unique_values\": 553,\n        \"samples\": [\n          5.02,\n          5.53,\n          9.51\n        ],\n        \"semantic_type\": \"\",\n        \"description\": \"\"\n      }\n    },\n    {\n      \"column\": \"y\",\n      \"properties\": {\n        \"dtype\": \"number\",\n        \"std\": 1.1455791612679045,\n        \"min\": 0.0,\n        \"max\": 58.9,\n        \"num_unique_values\": 551,\n        \"samples\": [\n          5.33,\n          5.58,\n          4.57\n        ],\n        \"semantic_type\": \"\",\n        \"description\": \"\"\n      }\n    },\n    {\n      \"column\": \"z\",\n      \"properties\": {\n        \"dtype\": \"number\",\n        \"std\": 0.7070647096794844,\n        \"min\": 0.0,\n        \"max\": 31.8,\n        \"num_unique_values\": 371,\n        \"samples\": [\n          5.48,\n          2.69,\n          2.7\n        ],\n        \"semantic_type\": \"\",\n        \"description\": \"\"\n      }\n    }\n  ]\n}"
            }
          },
          "metadata": {},
          "execution_count": 12
        }
      ]
    },
    {
      "cell_type": "code",
      "source": [
        "from google.colab import drive\n",
        "drive.mount('/content/drive')"
      ],
      "metadata": {
        "colab": {
          "base_uri": "https://localhost:8080/"
        },
        "id": "h8ATaaAxD28o",
        "outputId": "ccba0278-33e6-4b49-e544-a1961fbdecab"
      },
      "execution_count": null,
      "outputs": [
        {
          "output_type": "stream",
          "name": "stdout",
          "text": [
            "Drive already mounted at /content/drive; to attempt to forcibly remount, call drive.mount(\"/content/drive\", force_remount=True).\n"
          ]
        }
      ]
    },
    {
      "cell_type": "markdown",
      "source": [],
      "metadata": {
        "id": "FK9DXJNQN-I9"
      }
    },
    {
      "cell_type": "markdown",
      "source": [
        "###  2. Check the shape and column names of the dataset."
      ],
      "metadata": {
        "id": "ZB9krutXCgH5"
      }
    },
    {
      "cell_type": "code",
      "source": [
        "df.shape"
      ],
      "metadata": {
        "id": "7FlE2G2nCkRp",
        "colab": {
          "base_uri": "https://localhost:8080/"
        },
        "outputId": "b15916c9-03d9-487d-a02c-eb75356a65ec"
      },
      "execution_count": null,
      "outputs": [
        {
          "output_type": "execute_result",
          "data": {
            "text/plain": [
              "(50000, 10)"
            ]
          },
          "metadata": {},
          "execution_count": 14
        }
      ]
    },
    {
      "cell_type": "code",
      "source": [
        "df.columns"
      ],
      "metadata": {
        "colab": {
          "base_uri": "https://localhost:8080/"
        },
        "id": "PVEn2tuTEWxD",
        "outputId": "fd70a312-357e-4be2-da51-8b98dba7ee9b"
      },
      "execution_count": null,
      "outputs": [
        {
          "output_type": "execute_result",
          "data": {
            "text/plain": [
              "Index(['carat', 'cut', 'color', 'clarity', 'depth', 'table', 'price', 'x', 'y',\n",
              "       'z'],\n",
              "      dtype='object')"
            ]
          },
          "metadata": {},
          "execution_count": 15
        }
      ]
    },
    {
      "cell_type": "markdown",
      "source": [],
      "metadata": {
        "id": "6kLAztSBOD61"
      }
    },
    {
      "cell_type": "markdown",
      "source": [
        "###  3. Find and fill missing numeric values with their respective column means."
      ],
      "metadata": {
        "id": "Ly17CmkVEcW0"
      }
    },
    {
      "cell_type": "code",
      "source": [
        "df.loc[[3,7],\"price\"]= np.nan\n",
        "df\n",
        "\n",
        "\n"
      ],
      "metadata": {
        "id": "z0DOK9PqEhkS",
        "colab": {
          "base_uri": "https://localhost:8080/",
          "height": 423
        },
        "outputId": "48d972a5-ab22-4c91-861c-31bc7a9dbe15"
      },
      "execution_count": null,
      "outputs": [
        {
          "output_type": "execute_result",
          "data": {
            "text/plain": [
              "       carat        cut color clarity  depth  table   price     x     y     z\n",
              "0       0.23      Ideal     E     SI2   61.5   55.0   326.0  3.95  3.98  2.43\n",
              "1       0.21    Premium     E     SI1   59.8   61.0   326.0  3.89  3.84  2.31\n",
              "2       0.23       Good     E     VS1   56.9   65.0   327.0  4.05  4.07  2.31\n",
              "3       0.29    Premium     I     VS2   62.4   58.0     NaN  4.20  4.23  2.63\n",
              "4       0.31       Good     J     SI2   63.3   58.0   335.0  4.34  4.35  2.75\n",
              "...      ...        ...   ...     ...    ...    ...     ...   ...   ...   ...\n",
              "49995   0.72      Ideal     D     SI1   60.8   57.0  2757.0  5.75  5.76  3.50\n",
              "49996   0.72       Good     D     SI1   63.1   55.0  2757.0  5.69  5.75  3.61\n",
              "49997   0.70  Very Good     D     SI1   62.8   60.0  2757.0  5.66  5.68  3.56\n",
              "49998   0.86    Premium     H     SI2   61.0   58.0  2757.0  6.15  6.12  3.74\n",
              "49999   0.75      Ideal     D     SI2   62.2   55.0  2757.0  5.83  5.87  3.64\n",
              "\n",
              "[50000 rows x 10 columns]"
            ],
            "text/html": [
              "\n",
              "  <div id=\"df-6275596f-c6e8-4927-9804-a81e515e3918\" class=\"colab-df-container\">\n",
              "    <div>\n",
              "<style scoped>\n",
              "    .dataframe tbody tr th:only-of-type {\n",
              "        vertical-align: middle;\n",
              "    }\n",
              "\n",
              "    .dataframe tbody tr th {\n",
              "        vertical-align: top;\n",
              "    }\n",
              "\n",
              "    .dataframe thead th {\n",
              "        text-align: right;\n",
              "    }\n",
              "</style>\n",
              "<table border=\"1\" class=\"dataframe\">\n",
              "  <thead>\n",
              "    <tr style=\"text-align: right;\">\n",
              "      <th></th>\n",
              "      <th>carat</th>\n",
              "      <th>cut</th>\n",
              "      <th>color</th>\n",
              "      <th>clarity</th>\n",
              "      <th>depth</th>\n",
              "      <th>table</th>\n",
              "      <th>price</th>\n",
              "      <th>x</th>\n",
              "      <th>y</th>\n",
              "      <th>z</th>\n",
              "    </tr>\n",
              "  </thead>\n",
              "  <tbody>\n",
              "    <tr>\n",
              "      <th>0</th>\n",
              "      <td>0.23</td>\n",
              "      <td>Ideal</td>\n",
              "      <td>E</td>\n",
              "      <td>SI2</td>\n",
              "      <td>61.5</td>\n",
              "      <td>55.0</td>\n",
              "      <td>326.0</td>\n",
              "      <td>3.95</td>\n",
              "      <td>3.98</td>\n",
              "      <td>2.43</td>\n",
              "    </tr>\n",
              "    <tr>\n",
              "      <th>1</th>\n",
              "      <td>0.21</td>\n",
              "      <td>Premium</td>\n",
              "      <td>E</td>\n",
              "      <td>SI1</td>\n",
              "      <td>59.8</td>\n",
              "      <td>61.0</td>\n",
              "      <td>326.0</td>\n",
              "      <td>3.89</td>\n",
              "      <td>3.84</td>\n",
              "      <td>2.31</td>\n",
              "    </tr>\n",
              "    <tr>\n",
              "      <th>2</th>\n",
              "      <td>0.23</td>\n",
              "      <td>Good</td>\n",
              "      <td>E</td>\n",
              "      <td>VS1</td>\n",
              "      <td>56.9</td>\n",
              "      <td>65.0</td>\n",
              "      <td>327.0</td>\n",
              "      <td>4.05</td>\n",
              "      <td>4.07</td>\n",
              "      <td>2.31</td>\n",
              "    </tr>\n",
              "    <tr>\n",
              "      <th>3</th>\n",
              "      <td>0.29</td>\n",
              "      <td>Premium</td>\n",
              "      <td>I</td>\n",
              "      <td>VS2</td>\n",
              "      <td>62.4</td>\n",
              "      <td>58.0</td>\n",
              "      <td>NaN</td>\n",
              "      <td>4.20</td>\n",
              "      <td>4.23</td>\n",
              "      <td>2.63</td>\n",
              "    </tr>\n",
              "    <tr>\n",
              "      <th>4</th>\n",
              "      <td>0.31</td>\n",
              "      <td>Good</td>\n",
              "      <td>J</td>\n",
              "      <td>SI2</td>\n",
              "      <td>63.3</td>\n",
              "      <td>58.0</td>\n",
              "      <td>335.0</td>\n",
              "      <td>4.34</td>\n",
              "      <td>4.35</td>\n",
              "      <td>2.75</td>\n",
              "    </tr>\n",
              "    <tr>\n",
              "      <th>...</th>\n",
              "      <td>...</td>\n",
              "      <td>...</td>\n",
              "      <td>...</td>\n",
              "      <td>...</td>\n",
              "      <td>...</td>\n",
              "      <td>...</td>\n",
              "      <td>...</td>\n",
              "      <td>...</td>\n",
              "      <td>...</td>\n",
              "      <td>...</td>\n",
              "    </tr>\n",
              "    <tr>\n",
              "      <th>49995</th>\n",
              "      <td>0.72</td>\n",
              "      <td>Ideal</td>\n",
              "      <td>D</td>\n",
              "      <td>SI1</td>\n",
              "      <td>60.8</td>\n",
              "      <td>57.0</td>\n",
              "      <td>2757.0</td>\n",
              "      <td>5.75</td>\n",
              "      <td>5.76</td>\n",
              "      <td>3.50</td>\n",
              "    </tr>\n",
              "    <tr>\n",
              "      <th>49996</th>\n",
              "      <td>0.72</td>\n",
              "      <td>Good</td>\n",
              "      <td>D</td>\n",
              "      <td>SI1</td>\n",
              "      <td>63.1</td>\n",
              "      <td>55.0</td>\n",
              "      <td>2757.0</td>\n",
              "      <td>5.69</td>\n",
              "      <td>5.75</td>\n",
              "      <td>3.61</td>\n",
              "    </tr>\n",
              "    <tr>\n",
              "      <th>49997</th>\n",
              "      <td>0.70</td>\n",
              "      <td>Very Good</td>\n",
              "      <td>D</td>\n",
              "      <td>SI1</td>\n",
              "      <td>62.8</td>\n",
              "      <td>60.0</td>\n",
              "      <td>2757.0</td>\n",
              "      <td>5.66</td>\n",
              "      <td>5.68</td>\n",
              "      <td>3.56</td>\n",
              "    </tr>\n",
              "    <tr>\n",
              "      <th>49998</th>\n",
              "      <td>0.86</td>\n",
              "      <td>Premium</td>\n",
              "      <td>H</td>\n",
              "      <td>SI2</td>\n",
              "      <td>61.0</td>\n",
              "      <td>58.0</td>\n",
              "      <td>2757.0</td>\n",
              "      <td>6.15</td>\n",
              "      <td>6.12</td>\n",
              "      <td>3.74</td>\n",
              "    </tr>\n",
              "    <tr>\n",
              "      <th>49999</th>\n",
              "      <td>0.75</td>\n",
              "      <td>Ideal</td>\n",
              "      <td>D</td>\n",
              "      <td>SI2</td>\n",
              "      <td>62.2</td>\n",
              "      <td>55.0</td>\n",
              "      <td>2757.0</td>\n",
              "      <td>5.83</td>\n",
              "      <td>5.87</td>\n",
              "      <td>3.64</td>\n",
              "    </tr>\n",
              "  </tbody>\n",
              "</table>\n",
              "<p>50000 rows × 10 columns</p>\n",
              "</div>\n",
              "    <div class=\"colab-df-buttons\">\n",
              "\n",
              "  <div class=\"colab-df-container\">\n",
              "    <button class=\"colab-df-convert\" onclick=\"convertToInteractive('df-6275596f-c6e8-4927-9804-a81e515e3918')\"\n",
              "            title=\"Convert this dataframe to an interactive table.\"\n",
              "            style=\"display:none;\">\n",
              "\n",
              "  <svg xmlns=\"http://www.w3.org/2000/svg\" height=\"24px\" viewBox=\"0 -960 960 960\">\n",
              "    <path d=\"M120-120v-720h720v720H120Zm60-500h600v-160H180v160Zm220 220h160v-160H400v160Zm0 220h160v-160H400v160ZM180-400h160v-160H180v160Zm440 0h160v-160H620v160ZM180-180h160v-160H180v160Zm440 0h160v-160H620v160Z\"/>\n",
              "  </svg>\n",
              "    </button>\n",
              "\n",
              "  <style>\n",
              "    .colab-df-container {\n",
              "      display:flex;\n",
              "      gap: 12px;\n",
              "    }\n",
              "\n",
              "    .colab-df-convert {\n",
              "      background-color: #E8F0FE;\n",
              "      border: none;\n",
              "      border-radius: 50%;\n",
              "      cursor: pointer;\n",
              "      display: none;\n",
              "      fill: #1967D2;\n",
              "      height: 32px;\n",
              "      padding: 0 0 0 0;\n",
              "      width: 32px;\n",
              "    }\n",
              "\n",
              "    .colab-df-convert:hover {\n",
              "      background-color: #E2EBFA;\n",
              "      box-shadow: 0px 1px 2px rgba(60, 64, 67, 0.3), 0px 1px 3px 1px rgba(60, 64, 67, 0.15);\n",
              "      fill: #174EA6;\n",
              "    }\n",
              "\n",
              "    .colab-df-buttons div {\n",
              "      margin-bottom: 4px;\n",
              "    }\n",
              "\n",
              "    [theme=dark] .colab-df-convert {\n",
              "      background-color: #3B4455;\n",
              "      fill: #D2E3FC;\n",
              "    }\n",
              "\n",
              "    [theme=dark] .colab-df-convert:hover {\n",
              "      background-color: #434B5C;\n",
              "      box-shadow: 0px 1px 3px 1px rgba(0, 0, 0, 0.15);\n",
              "      filter: drop-shadow(0px 1px 2px rgba(0, 0, 0, 0.3));\n",
              "      fill: #FFFFFF;\n",
              "    }\n",
              "  </style>\n",
              "\n",
              "    <script>\n",
              "      const buttonEl =\n",
              "        document.querySelector('#df-6275596f-c6e8-4927-9804-a81e515e3918 button.colab-df-convert');\n",
              "      buttonEl.style.display =\n",
              "        google.colab.kernel.accessAllowed ? 'block' : 'none';\n",
              "\n",
              "      async function convertToInteractive(key) {\n",
              "        const element = document.querySelector('#df-6275596f-c6e8-4927-9804-a81e515e3918');\n",
              "        const dataTable =\n",
              "          await google.colab.kernel.invokeFunction('convertToInteractive',\n",
              "                                                    [key], {});\n",
              "        if (!dataTable) return;\n",
              "\n",
              "        const docLinkHtml = 'Like what you see? Visit the ' +\n",
              "          '<a target=\"_blank\" href=https://colab.research.google.com/notebooks/data_table.ipynb>data table notebook</a>'\n",
              "          + ' to learn more about interactive tables.';\n",
              "        element.innerHTML = '';\n",
              "        dataTable['output_type'] = 'display_data';\n",
              "        await google.colab.output.renderOutput(dataTable, element);\n",
              "        const docLink = document.createElement('div');\n",
              "        docLink.innerHTML = docLinkHtml;\n",
              "        element.appendChild(docLink);\n",
              "      }\n",
              "    </script>\n",
              "  </div>\n",
              "\n",
              "\n",
              "    <div id=\"df-4bfc0b5f-cc1b-4fcc-9713-7a0052916e03\">\n",
              "      <button class=\"colab-df-quickchart\" onclick=\"quickchart('df-4bfc0b5f-cc1b-4fcc-9713-7a0052916e03')\"\n",
              "                title=\"Suggest charts\"\n",
              "                style=\"display:none;\">\n",
              "\n",
              "<svg xmlns=\"http://www.w3.org/2000/svg\" height=\"24px\"viewBox=\"0 0 24 24\"\n",
              "     width=\"24px\">\n",
              "    <g>\n",
              "        <path d=\"M19 3H5c-1.1 0-2 .9-2 2v14c0 1.1.9 2 2 2h14c1.1 0 2-.9 2-2V5c0-1.1-.9-2-2-2zM9 17H7v-7h2v7zm4 0h-2V7h2v10zm4 0h-2v-4h2v4z\"/>\n",
              "    </g>\n",
              "</svg>\n",
              "      </button>\n",
              "\n",
              "<style>\n",
              "  .colab-df-quickchart {\n",
              "      --bg-color: #E8F0FE;\n",
              "      --fill-color: #1967D2;\n",
              "      --hover-bg-color: #E2EBFA;\n",
              "      --hover-fill-color: #174EA6;\n",
              "      --disabled-fill-color: #AAA;\n",
              "      --disabled-bg-color: #DDD;\n",
              "  }\n",
              "\n",
              "  [theme=dark] .colab-df-quickchart {\n",
              "      --bg-color: #3B4455;\n",
              "      --fill-color: #D2E3FC;\n",
              "      --hover-bg-color: #434B5C;\n",
              "      --hover-fill-color: #FFFFFF;\n",
              "      --disabled-bg-color: #3B4455;\n",
              "      --disabled-fill-color: #666;\n",
              "  }\n",
              "\n",
              "  .colab-df-quickchart {\n",
              "    background-color: var(--bg-color);\n",
              "    border: none;\n",
              "    border-radius: 50%;\n",
              "    cursor: pointer;\n",
              "    display: none;\n",
              "    fill: var(--fill-color);\n",
              "    height: 32px;\n",
              "    padding: 0;\n",
              "    width: 32px;\n",
              "  }\n",
              "\n",
              "  .colab-df-quickchart:hover {\n",
              "    background-color: var(--hover-bg-color);\n",
              "    box-shadow: 0 1px 2px rgba(60, 64, 67, 0.3), 0 1px 3px 1px rgba(60, 64, 67, 0.15);\n",
              "    fill: var(--button-hover-fill-color);\n",
              "  }\n",
              "\n",
              "  .colab-df-quickchart-complete:disabled,\n",
              "  .colab-df-quickchart-complete:disabled:hover {\n",
              "    background-color: var(--disabled-bg-color);\n",
              "    fill: var(--disabled-fill-color);\n",
              "    box-shadow: none;\n",
              "  }\n",
              "\n",
              "  .colab-df-spinner {\n",
              "    border: 2px solid var(--fill-color);\n",
              "    border-color: transparent;\n",
              "    border-bottom-color: var(--fill-color);\n",
              "    animation:\n",
              "      spin 1s steps(1) infinite;\n",
              "  }\n",
              "\n",
              "  @keyframes spin {\n",
              "    0% {\n",
              "      border-color: transparent;\n",
              "      border-bottom-color: var(--fill-color);\n",
              "      border-left-color: var(--fill-color);\n",
              "    }\n",
              "    20% {\n",
              "      border-color: transparent;\n",
              "      border-left-color: var(--fill-color);\n",
              "      border-top-color: var(--fill-color);\n",
              "    }\n",
              "    30% {\n",
              "      border-color: transparent;\n",
              "      border-left-color: var(--fill-color);\n",
              "      border-top-color: var(--fill-color);\n",
              "      border-right-color: var(--fill-color);\n",
              "    }\n",
              "    40% {\n",
              "      border-color: transparent;\n",
              "      border-right-color: var(--fill-color);\n",
              "      border-top-color: var(--fill-color);\n",
              "    }\n",
              "    60% {\n",
              "      border-color: transparent;\n",
              "      border-right-color: var(--fill-color);\n",
              "    }\n",
              "    80% {\n",
              "      border-color: transparent;\n",
              "      border-right-color: var(--fill-color);\n",
              "      border-bottom-color: var(--fill-color);\n",
              "    }\n",
              "    90% {\n",
              "      border-color: transparent;\n",
              "      border-bottom-color: var(--fill-color);\n",
              "    }\n",
              "  }\n",
              "</style>\n",
              "\n",
              "      <script>\n",
              "        async function quickchart(key) {\n",
              "          const quickchartButtonEl =\n",
              "            document.querySelector('#' + key + ' button');\n",
              "          quickchartButtonEl.disabled = true;  // To prevent multiple clicks.\n",
              "          quickchartButtonEl.classList.add('colab-df-spinner');\n",
              "          try {\n",
              "            const charts = await google.colab.kernel.invokeFunction(\n",
              "                'suggestCharts', [key], {});\n",
              "          } catch (error) {\n",
              "            console.error('Error during call to suggestCharts:', error);\n",
              "          }\n",
              "          quickchartButtonEl.classList.remove('colab-df-spinner');\n",
              "          quickchartButtonEl.classList.add('colab-df-quickchart-complete');\n",
              "        }\n",
              "        (() => {\n",
              "          let quickchartButtonEl =\n",
              "            document.querySelector('#df-4bfc0b5f-cc1b-4fcc-9713-7a0052916e03 button');\n",
              "          quickchartButtonEl.style.display =\n",
              "            google.colab.kernel.accessAllowed ? 'block' : 'none';\n",
              "        })();\n",
              "      </script>\n",
              "    </div>\n",
              "\n",
              "  <div id=\"id_957639cc-7d1c-4d4f-856b-721a06fce80a\">\n",
              "    <style>\n",
              "      .colab-df-generate {\n",
              "        background-color: #E8F0FE;\n",
              "        border: none;\n",
              "        border-radius: 50%;\n",
              "        cursor: pointer;\n",
              "        display: none;\n",
              "        fill: #1967D2;\n",
              "        height: 32px;\n",
              "        padding: 0 0 0 0;\n",
              "        width: 32px;\n",
              "      }\n",
              "\n",
              "      .colab-df-generate:hover {\n",
              "        background-color: #E2EBFA;\n",
              "        box-shadow: 0px 1px 2px rgba(60, 64, 67, 0.3), 0px 1px 3px 1px rgba(60, 64, 67, 0.15);\n",
              "        fill: #174EA6;\n",
              "      }\n",
              "\n",
              "      [theme=dark] .colab-df-generate {\n",
              "        background-color: #3B4455;\n",
              "        fill: #D2E3FC;\n",
              "      }\n",
              "\n",
              "      [theme=dark] .colab-df-generate:hover {\n",
              "        background-color: #434B5C;\n",
              "        box-shadow: 0px 1px 3px 1px rgba(0, 0, 0, 0.15);\n",
              "        filter: drop-shadow(0px 1px 2px rgba(0, 0, 0, 0.3));\n",
              "        fill: #FFFFFF;\n",
              "      }\n",
              "    </style>\n",
              "    <button class=\"colab-df-generate\" onclick=\"generateWithVariable('df')\"\n",
              "            title=\"Generate code using this dataframe.\"\n",
              "            style=\"display:none;\">\n",
              "\n",
              "  <svg xmlns=\"http://www.w3.org/2000/svg\" height=\"24px\"viewBox=\"0 0 24 24\"\n",
              "       width=\"24px\">\n",
              "    <path d=\"M7,19H8.4L18.45,9,17,7.55,7,17.6ZM5,21V16.75L18.45,3.32a2,2,0,0,1,2.83,0l1.4,1.43a1.91,1.91,0,0,1,.58,1.4,1.91,1.91,0,0,1-.58,1.4L9.25,21ZM18.45,9,17,7.55Zm-12,3A5.31,5.31,0,0,0,4.9,8.1,5.31,5.31,0,0,0,1,6.5,5.31,5.31,0,0,0,4.9,4.9,5.31,5.31,0,0,0,6.5,1,5.31,5.31,0,0,0,8.1,4.9,5.31,5.31,0,0,0,12,6.5,5.46,5.46,0,0,0,6.5,12Z\"/>\n",
              "  </svg>\n",
              "    </button>\n",
              "    <script>\n",
              "      (() => {\n",
              "      const buttonEl =\n",
              "        document.querySelector('#id_957639cc-7d1c-4d4f-856b-721a06fce80a button.colab-df-generate');\n",
              "      buttonEl.style.display =\n",
              "        google.colab.kernel.accessAllowed ? 'block' : 'none';\n",
              "\n",
              "      buttonEl.onclick = () => {\n",
              "        google.colab.notebook.generateWithVariable('df');\n",
              "      }\n",
              "      })();\n",
              "    </script>\n",
              "  </div>\n",
              "\n",
              "    </div>\n",
              "  </div>\n"
            ],
            "application/vnd.google.colaboratory.intrinsic+json": {
              "type": "dataframe",
              "variable_name": "df",
              "summary": "{\n  \"name\": \"df\",\n  \"rows\": 50000,\n  \"fields\": [\n    {\n      \"column\": \"carat\",\n      \"properties\": {\n        \"dtype\": \"number\",\n        \"std\": 0.4751729878991273,\n        \"min\": 0.2,\n        \"max\": 5.01,\n        \"num_unique_values\": 272,\n        \"samples\": [\n          0.63,\n          1.54,\n          1.5\n        ],\n        \"semantic_type\": \"\",\n        \"description\": \"\"\n      }\n    },\n    {\n      \"column\": \"cut\",\n      \"properties\": {\n        \"dtype\": \"category\",\n        \"num_unique_values\": 5,\n        \"samples\": [\n          \"Premium\",\n          \"Fair\",\n          \"Good\"\n        ],\n        \"semantic_type\": \"\",\n        \"description\": \"\"\n      }\n    },\n    {\n      \"column\": \"color\",\n      \"properties\": {\n        \"dtype\": \"category\",\n        \"num_unique_values\": 7,\n        \"samples\": [\n          \"E\",\n          \"I\",\n          \"G\"\n        ],\n        \"semantic_type\": \"\",\n        \"description\": \"\"\n      }\n    },\n    {\n      \"column\": \"clarity\",\n      \"properties\": {\n        \"dtype\": \"category\",\n        \"num_unique_values\": 8,\n        \"samples\": [\n          \"SI1\",\n          \"VVS1\",\n          \"SI2\"\n        ],\n        \"semantic_type\": \"\",\n        \"description\": \"\"\n      }\n    },\n    {\n      \"column\": \"depth\",\n      \"properties\": {\n        \"dtype\": \"number\",\n        \"std\": 1.4310875319819645,\n        \"min\": 43.0,\n        \"max\": 79.0,\n        \"num_unique_values\": 181,\n        \"samples\": [\n          61.0,\n          59.2,\n          70.2\n        ],\n        \"semantic_type\": \"\",\n        \"description\": \"\"\n      }\n    },\n    {\n      \"column\": \"table\",\n      \"properties\": {\n        \"dtype\": \"number\",\n        \"std\": 2.232091739999323,\n        \"min\": 43.0,\n        \"max\": 95.0,\n        \"num_unique_values\": 126,\n        \"samples\": [\n          58.5,\n          68.0,\n          63.3\n        ],\n        \"semantic_type\": \"\",\n        \"description\": \"\"\n      }\n    },\n    {\n      \"column\": \"price\",\n      \"properties\": {\n        \"dtype\": \"number\",\n        \"std\": 3997.952892621651,\n        \"min\": 326.0,\n        \"max\": 18823.0,\n        \"num_unique_values\": 11296,\n        \"samples\": [\n          12341.0,\n          8964.0,\n          2714.0\n        ],\n        \"semantic_type\": \"\",\n        \"description\": \"\"\n      }\n    },\n    {\n      \"column\": \"x\",\n      \"properties\": {\n        \"dtype\": \"number\",\n        \"std\": 1.1230773250858357,\n        \"min\": 0.0,\n        \"max\": 10.74,\n        \"num_unique_values\": 553,\n        \"samples\": [\n          5.02,\n          5.53,\n          9.51\n        ],\n        \"semantic_type\": \"\",\n        \"description\": \"\"\n      }\n    },\n    {\n      \"column\": \"y\",\n      \"properties\": {\n        \"dtype\": \"number\",\n        \"std\": 1.1455791612679045,\n        \"min\": 0.0,\n        \"max\": 58.9,\n        \"num_unique_values\": 551,\n        \"samples\": [\n          5.33,\n          5.58,\n          4.57\n        ],\n        \"semantic_type\": \"\",\n        \"description\": \"\"\n      }\n    },\n    {\n      \"column\": \"z\",\n      \"properties\": {\n        \"dtype\": \"number\",\n        \"std\": 0.7070647096794844,\n        \"min\": 0.0,\n        \"max\": 31.8,\n        \"num_unique_values\": 371,\n        \"samples\": [\n          5.48,\n          2.69,\n          2.7\n        ],\n        \"semantic_type\": \"\",\n        \"description\": \"\"\n      }\n    }\n  ]\n}"
            }
          },
          "metadata": {},
          "execution_count": 16
        }
      ]
    },
    {
      "cell_type": "code",
      "source": [
        "df[\"price\"]=df[\"price\"].fillna(df[\"price\"].mean())\n",
        "df.head(8)"
      ],
      "metadata": {
        "colab": {
          "base_uri": "https://localhost:8080/",
          "height": 352
        },
        "id": "0Fd9_z81JdoE",
        "outputId": "93320223-8233-4f96-c286-d13ba878af33"
      },
      "execution_count": null,
      "outputs": [
        {
          "output_type": "execute_result",
          "data": {
            "text/plain": [
              "   carat        cut color clarity  depth  table        price     x     y     z\n",
              "0   0.23      Ideal     E     SI2   61.5   55.0   326.000000  3.95  3.98  2.43\n",
              "1   0.21    Premium     E     SI1   59.8   61.0   326.000000  3.89  3.84  2.31\n",
              "2   0.23       Good     E     VS1   56.9   65.0   327.000000  4.05  4.07  2.31\n",
              "3   0.29    Premium     I     VS2   62.4   58.0  3944.949818  4.20  4.23  2.63\n",
              "4   0.31       Good     J     SI2   63.3   58.0   335.000000  4.34  4.35  2.75\n",
              "5   0.24  Very Good     J    VVS2   62.8   57.0   336.000000  3.94  3.96  2.48\n",
              "6   0.24  Very Good     I    VVS1   62.3   57.0   336.000000  3.95  3.98  2.47\n",
              "7   0.26  Very Good     H     SI1   61.9   55.0  3944.949818  4.07  4.11  2.53"
            ],
            "text/html": [
              "\n",
              "  <div id=\"df-5bae878f-769b-4c17-a1dd-8292e6630423\" class=\"colab-df-container\">\n",
              "    <div>\n",
              "<style scoped>\n",
              "    .dataframe tbody tr th:only-of-type {\n",
              "        vertical-align: middle;\n",
              "    }\n",
              "\n",
              "    .dataframe tbody tr th {\n",
              "        vertical-align: top;\n",
              "    }\n",
              "\n",
              "    .dataframe thead th {\n",
              "        text-align: right;\n",
              "    }\n",
              "</style>\n",
              "<table border=\"1\" class=\"dataframe\">\n",
              "  <thead>\n",
              "    <tr style=\"text-align: right;\">\n",
              "      <th></th>\n",
              "      <th>carat</th>\n",
              "      <th>cut</th>\n",
              "      <th>color</th>\n",
              "      <th>clarity</th>\n",
              "      <th>depth</th>\n",
              "      <th>table</th>\n",
              "      <th>price</th>\n",
              "      <th>x</th>\n",
              "      <th>y</th>\n",
              "      <th>z</th>\n",
              "    </tr>\n",
              "  </thead>\n",
              "  <tbody>\n",
              "    <tr>\n",
              "      <th>0</th>\n",
              "      <td>0.23</td>\n",
              "      <td>Ideal</td>\n",
              "      <td>E</td>\n",
              "      <td>SI2</td>\n",
              "      <td>61.5</td>\n",
              "      <td>55.0</td>\n",
              "      <td>326.000000</td>\n",
              "      <td>3.95</td>\n",
              "      <td>3.98</td>\n",
              "      <td>2.43</td>\n",
              "    </tr>\n",
              "    <tr>\n",
              "      <th>1</th>\n",
              "      <td>0.21</td>\n",
              "      <td>Premium</td>\n",
              "      <td>E</td>\n",
              "      <td>SI1</td>\n",
              "      <td>59.8</td>\n",
              "      <td>61.0</td>\n",
              "      <td>326.000000</td>\n",
              "      <td>3.89</td>\n",
              "      <td>3.84</td>\n",
              "      <td>2.31</td>\n",
              "    </tr>\n",
              "    <tr>\n",
              "      <th>2</th>\n",
              "      <td>0.23</td>\n",
              "      <td>Good</td>\n",
              "      <td>E</td>\n",
              "      <td>VS1</td>\n",
              "      <td>56.9</td>\n",
              "      <td>65.0</td>\n",
              "      <td>327.000000</td>\n",
              "      <td>4.05</td>\n",
              "      <td>4.07</td>\n",
              "      <td>2.31</td>\n",
              "    </tr>\n",
              "    <tr>\n",
              "      <th>3</th>\n",
              "      <td>0.29</td>\n",
              "      <td>Premium</td>\n",
              "      <td>I</td>\n",
              "      <td>VS2</td>\n",
              "      <td>62.4</td>\n",
              "      <td>58.0</td>\n",
              "      <td>3944.949818</td>\n",
              "      <td>4.20</td>\n",
              "      <td>4.23</td>\n",
              "      <td>2.63</td>\n",
              "    </tr>\n",
              "    <tr>\n",
              "      <th>4</th>\n",
              "      <td>0.31</td>\n",
              "      <td>Good</td>\n",
              "      <td>J</td>\n",
              "      <td>SI2</td>\n",
              "      <td>63.3</td>\n",
              "      <td>58.0</td>\n",
              "      <td>335.000000</td>\n",
              "      <td>4.34</td>\n",
              "      <td>4.35</td>\n",
              "      <td>2.75</td>\n",
              "    </tr>\n",
              "    <tr>\n",
              "      <th>5</th>\n",
              "      <td>0.24</td>\n",
              "      <td>Very Good</td>\n",
              "      <td>J</td>\n",
              "      <td>VVS2</td>\n",
              "      <td>62.8</td>\n",
              "      <td>57.0</td>\n",
              "      <td>336.000000</td>\n",
              "      <td>3.94</td>\n",
              "      <td>3.96</td>\n",
              "      <td>2.48</td>\n",
              "    </tr>\n",
              "    <tr>\n",
              "      <th>6</th>\n",
              "      <td>0.24</td>\n",
              "      <td>Very Good</td>\n",
              "      <td>I</td>\n",
              "      <td>VVS1</td>\n",
              "      <td>62.3</td>\n",
              "      <td>57.0</td>\n",
              "      <td>336.000000</td>\n",
              "      <td>3.95</td>\n",
              "      <td>3.98</td>\n",
              "      <td>2.47</td>\n",
              "    </tr>\n",
              "    <tr>\n",
              "      <th>7</th>\n",
              "      <td>0.26</td>\n",
              "      <td>Very Good</td>\n",
              "      <td>H</td>\n",
              "      <td>SI1</td>\n",
              "      <td>61.9</td>\n",
              "      <td>55.0</td>\n",
              "      <td>3944.949818</td>\n",
              "      <td>4.07</td>\n",
              "      <td>4.11</td>\n",
              "      <td>2.53</td>\n",
              "    </tr>\n",
              "  </tbody>\n",
              "</table>\n",
              "</div>\n",
              "    <div class=\"colab-df-buttons\">\n",
              "\n",
              "  <div class=\"colab-df-container\">\n",
              "    <button class=\"colab-df-convert\" onclick=\"convertToInteractive('df-5bae878f-769b-4c17-a1dd-8292e6630423')\"\n",
              "            title=\"Convert this dataframe to an interactive table.\"\n",
              "            style=\"display:none;\">\n",
              "\n",
              "  <svg xmlns=\"http://www.w3.org/2000/svg\" height=\"24px\" viewBox=\"0 -960 960 960\">\n",
              "    <path d=\"M120-120v-720h720v720H120Zm60-500h600v-160H180v160Zm220 220h160v-160H400v160Zm0 220h160v-160H400v160ZM180-400h160v-160H180v160Zm440 0h160v-160H620v160ZM180-180h160v-160H180v160Zm440 0h160v-160H620v160Z\"/>\n",
              "  </svg>\n",
              "    </button>\n",
              "\n",
              "  <style>\n",
              "    .colab-df-container {\n",
              "      display:flex;\n",
              "      gap: 12px;\n",
              "    }\n",
              "\n",
              "    .colab-df-convert {\n",
              "      background-color: #E8F0FE;\n",
              "      border: none;\n",
              "      border-radius: 50%;\n",
              "      cursor: pointer;\n",
              "      display: none;\n",
              "      fill: #1967D2;\n",
              "      height: 32px;\n",
              "      padding: 0 0 0 0;\n",
              "      width: 32px;\n",
              "    }\n",
              "\n",
              "    .colab-df-convert:hover {\n",
              "      background-color: #E2EBFA;\n",
              "      box-shadow: 0px 1px 2px rgba(60, 64, 67, 0.3), 0px 1px 3px 1px rgba(60, 64, 67, 0.15);\n",
              "      fill: #174EA6;\n",
              "    }\n",
              "\n",
              "    .colab-df-buttons div {\n",
              "      margin-bottom: 4px;\n",
              "    }\n",
              "\n",
              "    [theme=dark] .colab-df-convert {\n",
              "      background-color: #3B4455;\n",
              "      fill: #D2E3FC;\n",
              "    }\n",
              "\n",
              "    [theme=dark] .colab-df-convert:hover {\n",
              "      background-color: #434B5C;\n",
              "      box-shadow: 0px 1px 3px 1px rgba(0, 0, 0, 0.15);\n",
              "      filter: drop-shadow(0px 1px 2px rgba(0, 0, 0, 0.3));\n",
              "      fill: #FFFFFF;\n",
              "    }\n",
              "  </style>\n",
              "\n",
              "    <script>\n",
              "      const buttonEl =\n",
              "        document.querySelector('#df-5bae878f-769b-4c17-a1dd-8292e6630423 button.colab-df-convert');\n",
              "      buttonEl.style.display =\n",
              "        google.colab.kernel.accessAllowed ? 'block' : 'none';\n",
              "\n",
              "      async function convertToInteractive(key) {\n",
              "        const element = document.querySelector('#df-5bae878f-769b-4c17-a1dd-8292e6630423');\n",
              "        const dataTable =\n",
              "          await google.colab.kernel.invokeFunction('convertToInteractive',\n",
              "                                                    [key], {});\n",
              "        if (!dataTable) return;\n",
              "\n",
              "        const docLinkHtml = 'Like what you see? Visit the ' +\n",
              "          '<a target=\"_blank\" href=https://colab.research.google.com/notebooks/data_table.ipynb>data table notebook</a>'\n",
              "          + ' to learn more about interactive tables.';\n",
              "        element.innerHTML = '';\n",
              "        dataTable['output_type'] = 'display_data';\n",
              "        await google.colab.output.renderOutput(dataTable, element);\n",
              "        const docLink = document.createElement('div');\n",
              "        docLink.innerHTML = docLinkHtml;\n",
              "        element.appendChild(docLink);\n",
              "      }\n",
              "    </script>\n",
              "  </div>\n",
              "\n",
              "\n",
              "    <div id=\"df-521c1d17-c3fb-4da1-bec0-4e62df3ce42e\">\n",
              "      <button class=\"colab-df-quickchart\" onclick=\"quickchart('df-521c1d17-c3fb-4da1-bec0-4e62df3ce42e')\"\n",
              "                title=\"Suggest charts\"\n",
              "                style=\"display:none;\">\n",
              "\n",
              "<svg xmlns=\"http://www.w3.org/2000/svg\" height=\"24px\"viewBox=\"0 0 24 24\"\n",
              "     width=\"24px\">\n",
              "    <g>\n",
              "        <path d=\"M19 3H5c-1.1 0-2 .9-2 2v14c0 1.1.9 2 2 2h14c1.1 0 2-.9 2-2V5c0-1.1-.9-2-2-2zM9 17H7v-7h2v7zm4 0h-2V7h2v10zm4 0h-2v-4h2v4z\"/>\n",
              "    </g>\n",
              "</svg>\n",
              "      </button>\n",
              "\n",
              "<style>\n",
              "  .colab-df-quickchart {\n",
              "      --bg-color: #E8F0FE;\n",
              "      --fill-color: #1967D2;\n",
              "      --hover-bg-color: #E2EBFA;\n",
              "      --hover-fill-color: #174EA6;\n",
              "      --disabled-fill-color: #AAA;\n",
              "      --disabled-bg-color: #DDD;\n",
              "  }\n",
              "\n",
              "  [theme=dark] .colab-df-quickchart {\n",
              "      --bg-color: #3B4455;\n",
              "      --fill-color: #D2E3FC;\n",
              "      --hover-bg-color: #434B5C;\n",
              "      --hover-fill-color: #FFFFFF;\n",
              "      --disabled-bg-color: #3B4455;\n",
              "      --disabled-fill-color: #666;\n",
              "  }\n",
              "\n",
              "  .colab-df-quickchart {\n",
              "    background-color: var(--bg-color);\n",
              "    border: none;\n",
              "    border-radius: 50%;\n",
              "    cursor: pointer;\n",
              "    display: none;\n",
              "    fill: var(--fill-color);\n",
              "    height: 32px;\n",
              "    padding: 0;\n",
              "    width: 32px;\n",
              "  }\n",
              "\n",
              "  .colab-df-quickchart:hover {\n",
              "    background-color: var(--hover-bg-color);\n",
              "    box-shadow: 0 1px 2px rgba(60, 64, 67, 0.3), 0 1px 3px 1px rgba(60, 64, 67, 0.15);\n",
              "    fill: var(--button-hover-fill-color);\n",
              "  }\n",
              "\n",
              "  .colab-df-quickchart-complete:disabled,\n",
              "  .colab-df-quickchart-complete:disabled:hover {\n",
              "    background-color: var(--disabled-bg-color);\n",
              "    fill: var(--disabled-fill-color);\n",
              "    box-shadow: none;\n",
              "  }\n",
              "\n",
              "  .colab-df-spinner {\n",
              "    border: 2px solid var(--fill-color);\n",
              "    border-color: transparent;\n",
              "    border-bottom-color: var(--fill-color);\n",
              "    animation:\n",
              "      spin 1s steps(1) infinite;\n",
              "  }\n",
              "\n",
              "  @keyframes spin {\n",
              "    0% {\n",
              "      border-color: transparent;\n",
              "      border-bottom-color: var(--fill-color);\n",
              "      border-left-color: var(--fill-color);\n",
              "    }\n",
              "    20% {\n",
              "      border-color: transparent;\n",
              "      border-left-color: var(--fill-color);\n",
              "      border-top-color: var(--fill-color);\n",
              "    }\n",
              "    30% {\n",
              "      border-color: transparent;\n",
              "      border-left-color: var(--fill-color);\n",
              "      border-top-color: var(--fill-color);\n",
              "      border-right-color: var(--fill-color);\n",
              "    }\n",
              "    40% {\n",
              "      border-color: transparent;\n",
              "      border-right-color: var(--fill-color);\n",
              "      border-top-color: var(--fill-color);\n",
              "    }\n",
              "    60% {\n",
              "      border-color: transparent;\n",
              "      border-right-color: var(--fill-color);\n",
              "    }\n",
              "    80% {\n",
              "      border-color: transparent;\n",
              "      border-right-color: var(--fill-color);\n",
              "      border-bottom-color: var(--fill-color);\n",
              "    }\n",
              "    90% {\n",
              "      border-color: transparent;\n",
              "      border-bottom-color: var(--fill-color);\n",
              "    }\n",
              "  }\n",
              "</style>\n",
              "\n",
              "      <script>\n",
              "        async function quickchart(key) {\n",
              "          const quickchartButtonEl =\n",
              "            document.querySelector('#' + key + ' button');\n",
              "          quickchartButtonEl.disabled = true;  // To prevent multiple clicks.\n",
              "          quickchartButtonEl.classList.add('colab-df-spinner');\n",
              "          try {\n",
              "            const charts = await google.colab.kernel.invokeFunction(\n",
              "                'suggestCharts', [key], {});\n",
              "          } catch (error) {\n",
              "            console.error('Error during call to suggestCharts:', error);\n",
              "          }\n",
              "          quickchartButtonEl.classList.remove('colab-df-spinner');\n",
              "          quickchartButtonEl.classList.add('colab-df-quickchart-complete');\n",
              "        }\n",
              "        (() => {\n",
              "          let quickchartButtonEl =\n",
              "            document.querySelector('#df-521c1d17-c3fb-4da1-bec0-4e62df3ce42e button');\n",
              "          quickchartButtonEl.style.display =\n",
              "            google.colab.kernel.accessAllowed ? 'block' : 'none';\n",
              "        })();\n",
              "      </script>\n",
              "    </div>\n",
              "\n",
              "    </div>\n",
              "  </div>\n"
            ],
            "application/vnd.google.colaboratory.intrinsic+json": {
              "type": "dataframe",
              "variable_name": "df",
              "summary": "{\n  \"name\": \"df\",\n  \"rows\": 50000,\n  \"fields\": [\n    {\n      \"column\": \"carat\",\n      \"properties\": {\n        \"dtype\": \"number\",\n        \"std\": 0.4751729878991273,\n        \"min\": 0.2,\n        \"max\": 5.01,\n        \"num_unique_values\": 272,\n        \"samples\": [\n          0.63,\n          1.54,\n          1.5\n        ],\n        \"semantic_type\": \"\",\n        \"description\": \"\"\n      }\n    },\n    {\n      \"column\": \"cut\",\n      \"properties\": {\n        \"dtype\": \"category\",\n        \"num_unique_values\": 5,\n        \"samples\": [\n          \"Premium\",\n          \"Fair\",\n          \"Good\"\n        ],\n        \"semantic_type\": \"\",\n        \"description\": \"\"\n      }\n    },\n    {\n      \"column\": \"color\",\n      \"properties\": {\n        \"dtype\": \"category\",\n        \"num_unique_values\": 7,\n        \"samples\": [\n          \"E\",\n          \"I\",\n          \"G\"\n        ],\n        \"semantic_type\": \"\",\n        \"description\": \"\"\n      }\n    },\n    {\n      \"column\": \"clarity\",\n      \"properties\": {\n        \"dtype\": \"category\",\n        \"num_unique_values\": 8,\n        \"samples\": [\n          \"SI1\",\n          \"VVS1\",\n          \"SI2\"\n        ],\n        \"semantic_type\": \"\",\n        \"description\": \"\"\n      }\n    },\n    {\n      \"column\": \"depth\",\n      \"properties\": {\n        \"dtype\": \"number\",\n        \"std\": 1.4310875319819645,\n        \"min\": 43.0,\n        \"max\": 79.0,\n        \"num_unique_values\": 181,\n        \"samples\": [\n          61.0,\n          59.2,\n          70.2\n        ],\n        \"semantic_type\": \"\",\n        \"description\": \"\"\n      }\n    },\n    {\n      \"column\": \"table\",\n      \"properties\": {\n        \"dtype\": \"number\",\n        \"std\": 2.232091739999323,\n        \"min\": 43.0,\n        \"max\": 95.0,\n        \"num_unique_values\": 126,\n        \"samples\": [\n          58.5,\n          68.0,\n          63.3\n        ],\n        \"semantic_type\": \"\",\n        \"description\": \"\"\n      }\n    },\n    {\n      \"column\": \"price\",\n      \"properties\": {\n        \"dtype\": \"number\",\n        \"std\": 3997.8729311649463,\n        \"min\": 326.0,\n        \"max\": 18823.0,\n        \"num_unique_values\": 11297,\n        \"samples\": [\n          6910.0,\n          14182.0,\n          2714.0\n        ],\n        \"semantic_type\": \"\",\n        \"description\": \"\"\n      }\n    },\n    {\n      \"column\": \"x\",\n      \"properties\": {\n        \"dtype\": \"number\",\n        \"std\": 1.1230773250858357,\n        \"min\": 0.0,\n        \"max\": 10.74,\n        \"num_unique_values\": 553,\n        \"samples\": [\n          5.02,\n          5.53,\n          9.51\n        ],\n        \"semantic_type\": \"\",\n        \"description\": \"\"\n      }\n    },\n    {\n      \"column\": \"y\",\n      \"properties\": {\n        \"dtype\": \"number\",\n        \"std\": 1.1455791612679045,\n        \"min\": 0.0,\n        \"max\": 58.9,\n        \"num_unique_values\": 551,\n        \"samples\": [\n          5.33,\n          5.58,\n          4.57\n        ],\n        \"semantic_type\": \"\",\n        \"description\": \"\"\n      }\n    },\n    {\n      \"column\": \"z\",\n      \"properties\": {\n        \"dtype\": \"number\",\n        \"std\": 0.7070647096794844,\n        \"min\": 0.0,\n        \"max\": 31.8,\n        \"num_unique_values\": 371,\n        \"samples\": [\n          5.48,\n          2.69,\n          2.7\n        ],\n        \"semantic_type\": \"\",\n        \"description\": \"\"\n      }\n    }\n  ]\n}"
            }
          },
          "metadata": {},
          "execution_count": 17
        }
      ]
    },
    {
      "cell_type": "markdown",
      "source": [
        "###  4. Filter rows where `cut` is \"Ideal\" and `color` is \"E\"."
      ],
      "metadata": {
        "id": "sgjNEYCSBGT5"
      }
    },
    {
      "cell_type": "code",
      "source": [
        "filter_df = df[(df['cut'] == 'Ideal') & (df['color'] == 'E')]\n",
        "filter_df"
      ],
      "metadata": {
        "colab": {
          "base_uri": "https://localhost:8080/",
          "height": 423
        },
        "id": "lt52YJvOCjOu",
        "outputId": "0202c4f8-a515-4fad-c529-07d9a19435a3"
      },
      "execution_count": null,
      "outputs": [
        {
          "output_type": "execute_result",
          "data": {
            "text/plain": [
              "       carat    cut color clarity  depth  table   price     x     y     z\n",
              "0       0.23  Ideal     E     SI2   61.5   55.0   326.0  3.95  3.98  2.43\n",
              "76      0.26  Ideal     E    VVS2   62.9   58.0   554.0  4.02  4.06  2.54\n",
              "82      0.70  Ideal     E     SI1   62.5   57.0  2757.0  5.70  5.72  3.57\n",
              "100     0.59  Ideal     E    VVS2   62.0   55.0  2761.0  5.38  5.43  3.35\n",
              "102     0.74  Ideal     E     SI2   62.2   56.0  2761.0  5.80  5.84  3.62\n",
              "...      ...    ...   ...     ...    ...    ...     ...   ...   ...   ...\n",
              "49940   0.70  Ideal     E     SI1   61.7   55.0  2745.0  5.71  5.74  3.53\n",
              "49942   0.51  Ideal     E    VVS1   61.9   54.0  2745.0  5.17  5.11  3.18\n",
              "49954   0.56  Ideal     E    VVS1   62.1   56.0  2750.0  5.28  5.29  3.28\n",
              "49978   0.77  Ideal     E     SI2   62.1   56.0  2753.0  5.84  5.86  3.63\n",
              "49987   0.71  Ideal     E     SI1   61.9   56.0  2756.0  5.71  5.73  3.54\n",
              "\n",
              "[3628 rows x 10 columns]"
            ],
            "text/html": [
              "\n",
              "  <div id=\"df-5696a5a8-b86c-420a-ac74-bfb57bb5c7df\" class=\"colab-df-container\">\n",
              "    <div>\n",
              "<style scoped>\n",
              "    .dataframe tbody tr th:only-of-type {\n",
              "        vertical-align: middle;\n",
              "    }\n",
              "\n",
              "    .dataframe tbody tr th {\n",
              "        vertical-align: top;\n",
              "    }\n",
              "\n",
              "    .dataframe thead th {\n",
              "        text-align: right;\n",
              "    }\n",
              "</style>\n",
              "<table border=\"1\" class=\"dataframe\">\n",
              "  <thead>\n",
              "    <tr style=\"text-align: right;\">\n",
              "      <th></th>\n",
              "      <th>carat</th>\n",
              "      <th>cut</th>\n",
              "      <th>color</th>\n",
              "      <th>clarity</th>\n",
              "      <th>depth</th>\n",
              "      <th>table</th>\n",
              "      <th>price</th>\n",
              "      <th>x</th>\n",
              "      <th>y</th>\n",
              "      <th>z</th>\n",
              "    </tr>\n",
              "  </thead>\n",
              "  <tbody>\n",
              "    <tr>\n",
              "      <th>0</th>\n",
              "      <td>0.23</td>\n",
              "      <td>Ideal</td>\n",
              "      <td>E</td>\n",
              "      <td>SI2</td>\n",
              "      <td>61.5</td>\n",
              "      <td>55.0</td>\n",
              "      <td>326.0</td>\n",
              "      <td>3.95</td>\n",
              "      <td>3.98</td>\n",
              "      <td>2.43</td>\n",
              "    </tr>\n",
              "    <tr>\n",
              "      <th>76</th>\n",
              "      <td>0.26</td>\n",
              "      <td>Ideal</td>\n",
              "      <td>E</td>\n",
              "      <td>VVS2</td>\n",
              "      <td>62.9</td>\n",
              "      <td>58.0</td>\n",
              "      <td>554.0</td>\n",
              "      <td>4.02</td>\n",
              "      <td>4.06</td>\n",
              "      <td>2.54</td>\n",
              "    </tr>\n",
              "    <tr>\n",
              "      <th>82</th>\n",
              "      <td>0.70</td>\n",
              "      <td>Ideal</td>\n",
              "      <td>E</td>\n",
              "      <td>SI1</td>\n",
              "      <td>62.5</td>\n",
              "      <td>57.0</td>\n",
              "      <td>2757.0</td>\n",
              "      <td>5.70</td>\n",
              "      <td>5.72</td>\n",
              "      <td>3.57</td>\n",
              "    </tr>\n",
              "    <tr>\n",
              "      <th>100</th>\n",
              "      <td>0.59</td>\n",
              "      <td>Ideal</td>\n",
              "      <td>E</td>\n",
              "      <td>VVS2</td>\n",
              "      <td>62.0</td>\n",
              "      <td>55.0</td>\n",
              "      <td>2761.0</td>\n",
              "      <td>5.38</td>\n",
              "      <td>5.43</td>\n",
              "      <td>3.35</td>\n",
              "    </tr>\n",
              "    <tr>\n",
              "      <th>102</th>\n",
              "      <td>0.74</td>\n",
              "      <td>Ideal</td>\n",
              "      <td>E</td>\n",
              "      <td>SI2</td>\n",
              "      <td>62.2</td>\n",
              "      <td>56.0</td>\n",
              "      <td>2761.0</td>\n",
              "      <td>5.80</td>\n",
              "      <td>5.84</td>\n",
              "      <td>3.62</td>\n",
              "    </tr>\n",
              "    <tr>\n",
              "      <th>...</th>\n",
              "      <td>...</td>\n",
              "      <td>...</td>\n",
              "      <td>...</td>\n",
              "      <td>...</td>\n",
              "      <td>...</td>\n",
              "      <td>...</td>\n",
              "      <td>...</td>\n",
              "      <td>...</td>\n",
              "      <td>...</td>\n",
              "      <td>...</td>\n",
              "    </tr>\n",
              "    <tr>\n",
              "      <th>49940</th>\n",
              "      <td>0.70</td>\n",
              "      <td>Ideal</td>\n",
              "      <td>E</td>\n",
              "      <td>SI1</td>\n",
              "      <td>61.7</td>\n",
              "      <td>55.0</td>\n",
              "      <td>2745.0</td>\n",
              "      <td>5.71</td>\n",
              "      <td>5.74</td>\n",
              "      <td>3.53</td>\n",
              "    </tr>\n",
              "    <tr>\n",
              "      <th>49942</th>\n",
              "      <td>0.51</td>\n",
              "      <td>Ideal</td>\n",
              "      <td>E</td>\n",
              "      <td>VVS1</td>\n",
              "      <td>61.9</td>\n",
              "      <td>54.0</td>\n",
              "      <td>2745.0</td>\n",
              "      <td>5.17</td>\n",
              "      <td>5.11</td>\n",
              "      <td>3.18</td>\n",
              "    </tr>\n",
              "    <tr>\n",
              "      <th>49954</th>\n",
              "      <td>0.56</td>\n",
              "      <td>Ideal</td>\n",
              "      <td>E</td>\n",
              "      <td>VVS1</td>\n",
              "      <td>62.1</td>\n",
              "      <td>56.0</td>\n",
              "      <td>2750.0</td>\n",
              "      <td>5.28</td>\n",
              "      <td>5.29</td>\n",
              "      <td>3.28</td>\n",
              "    </tr>\n",
              "    <tr>\n",
              "      <th>49978</th>\n",
              "      <td>0.77</td>\n",
              "      <td>Ideal</td>\n",
              "      <td>E</td>\n",
              "      <td>SI2</td>\n",
              "      <td>62.1</td>\n",
              "      <td>56.0</td>\n",
              "      <td>2753.0</td>\n",
              "      <td>5.84</td>\n",
              "      <td>5.86</td>\n",
              "      <td>3.63</td>\n",
              "    </tr>\n",
              "    <tr>\n",
              "      <th>49987</th>\n",
              "      <td>0.71</td>\n",
              "      <td>Ideal</td>\n",
              "      <td>E</td>\n",
              "      <td>SI1</td>\n",
              "      <td>61.9</td>\n",
              "      <td>56.0</td>\n",
              "      <td>2756.0</td>\n",
              "      <td>5.71</td>\n",
              "      <td>5.73</td>\n",
              "      <td>3.54</td>\n",
              "    </tr>\n",
              "  </tbody>\n",
              "</table>\n",
              "<p>3628 rows × 10 columns</p>\n",
              "</div>\n",
              "    <div class=\"colab-df-buttons\">\n",
              "\n",
              "  <div class=\"colab-df-container\">\n",
              "    <button class=\"colab-df-convert\" onclick=\"convertToInteractive('df-5696a5a8-b86c-420a-ac74-bfb57bb5c7df')\"\n",
              "            title=\"Convert this dataframe to an interactive table.\"\n",
              "            style=\"display:none;\">\n",
              "\n",
              "  <svg xmlns=\"http://www.w3.org/2000/svg\" height=\"24px\" viewBox=\"0 -960 960 960\">\n",
              "    <path d=\"M120-120v-720h720v720H120Zm60-500h600v-160H180v160Zm220 220h160v-160H400v160Zm0 220h160v-160H400v160ZM180-400h160v-160H180v160Zm440 0h160v-160H620v160ZM180-180h160v-160H180v160Zm440 0h160v-160H620v160Z\"/>\n",
              "  </svg>\n",
              "    </button>\n",
              "\n",
              "  <style>\n",
              "    .colab-df-container {\n",
              "      display:flex;\n",
              "      gap: 12px;\n",
              "    }\n",
              "\n",
              "    .colab-df-convert {\n",
              "      background-color: #E8F0FE;\n",
              "      border: none;\n",
              "      border-radius: 50%;\n",
              "      cursor: pointer;\n",
              "      display: none;\n",
              "      fill: #1967D2;\n",
              "      height: 32px;\n",
              "      padding: 0 0 0 0;\n",
              "      width: 32px;\n",
              "    }\n",
              "\n",
              "    .colab-df-convert:hover {\n",
              "      background-color: #E2EBFA;\n",
              "      box-shadow: 0px 1px 2px rgba(60, 64, 67, 0.3), 0px 1px 3px 1px rgba(60, 64, 67, 0.15);\n",
              "      fill: #174EA6;\n",
              "    }\n",
              "\n",
              "    .colab-df-buttons div {\n",
              "      margin-bottom: 4px;\n",
              "    }\n",
              "\n",
              "    [theme=dark] .colab-df-convert {\n",
              "      background-color: #3B4455;\n",
              "      fill: #D2E3FC;\n",
              "    }\n",
              "\n",
              "    [theme=dark] .colab-df-convert:hover {\n",
              "      background-color: #434B5C;\n",
              "      box-shadow: 0px 1px 3px 1px rgba(0, 0, 0, 0.15);\n",
              "      filter: drop-shadow(0px 1px 2px rgba(0, 0, 0, 0.3));\n",
              "      fill: #FFFFFF;\n",
              "    }\n",
              "  </style>\n",
              "\n",
              "    <script>\n",
              "      const buttonEl =\n",
              "        document.querySelector('#df-5696a5a8-b86c-420a-ac74-bfb57bb5c7df button.colab-df-convert');\n",
              "      buttonEl.style.display =\n",
              "        google.colab.kernel.accessAllowed ? 'block' : 'none';\n",
              "\n",
              "      async function convertToInteractive(key) {\n",
              "        const element = document.querySelector('#df-5696a5a8-b86c-420a-ac74-bfb57bb5c7df');\n",
              "        const dataTable =\n",
              "          await google.colab.kernel.invokeFunction('convertToInteractive',\n",
              "                                                    [key], {});\n",
              "        if (!dataTable) return;\n",
              "\n",
              "        const docLinkHtml = 'Like what you see? Visit the ' +\n",
              "          '<a target=\"_blank\" href=https://colab.research.google.com/notebooks/data_table.ipynb>data table notebook</a>'\n",
              "          + ' to learn more about interactive tables.';\n",
              "        element.innerHTML = '';\n",
              "        dataTable['output_type'] = 'display_data';\n",
              "        await google.colab.output.renderOutput(dataTable, element);\n",
              "        const docLink = document.createElement('div');\n",
              "        docLink.innerHTML = docLinkHtml;\n",
              "        element.appendChild(docLink);\n",
              "      }\n",
              "    </script>\n",
              "  </div>\n",
              "\n",
              "\n",
              "    <div id=\"df-54bc20e5-50fb-42a1-bf35-471de413c050\">\n",
              "      <button class=\"colab-df-quickchart\" onclick=\"quickchart('df-54bc20e5-50fb-42a1-bf35-471de413c050')\"\n",
              "                title=\"Suggest charts\"\n",
              "                style=\"display:none;\">\n",
              "\n",
              "<svg xmlns=\"http://www.w3.org/2000/svg\" height=\"24px\"viewBox=\"0 0 24 24\"\n",
              "     width=\"24px\">\n",
              "    <g>\n",
              "        <path d=\"M19 3H5c-1.1 0-2 .9-2 2v14c0 1.1.9 2 2 2h14c1.1 0 2-.9 2-2V5c0-1.1-.9-2-2-2zM9 17H7v-7h2v7zm4 0h-2V7h2v10zm4 0h-2v-4h2v4z\"/>\n",
              "    </g>\n",
              "</svg>\n",
              "      </button>\n",
              "\n",
              "<style>\n",
              "  .colab-df-quickchart {\n",
              "      --bg-color: #E8F0FE;\n",
              "      --fill-color: #1967D2;\n",
              "      --hover-bg-color: #E2EBFA;\n",
              "      --hover-fill-color: #174EA6;\n",
              "      --disabled-fill-color: #AAA;\n",
              "      --disabled-bg-color: #DDD;\n",
              "  }\n",
              "\n",
              "  [theme=dark] .colab-df-quickchart {\n",
              "      --bg-color: #3B4455;\n",
              "      --fill-color: #D2E3FC;\n",
              "      --hover-bg-color: #434B5C;\n",
              "      --hover-fill-color: #FFFFFF;\n",
              "      --disabled-bg-color: #3B4455;\n",
              "      --disabled-fill-color: #666;\n",
              "  }\n",
              "\n",
              "  .colab-df-quickchart {\n",
              "    background-color: var(--bg-color);\n",
              "    border: none;\n",
              "    border-radius: 50%;\n",
              "    cursor: pointer;\n",
              "    display: none;\n",
              "    fill: var(--fill-color);\n",
              "    height: 32px;\n",
              "    padding: 0;\n",
              "    width: 32px;\n",
              "  }\n",
              "\n",
              "  .colab-df-quickchart:hover {\n",
              "    background-color: var(--hover-bg-color);\n",
              "    box-shadow: 0 1px 2px rgba(60, 64, 67, 0.3), 0 1px 3px 1px rgba(60, 64, 67, 0.15);\n",
              "    fill: var(--button-hover-fill-color);\n",
              "  }\n",
              "\n",
              "  .colab-df-quickchart-complete:disabled,\n",
              "  .colab-df-quickchart-complete:disabled:hover {\n",
              "    background-color: var(--disabled-bg-color);\n",
              "    fill: var(--disabled-fill-color);\n",
              "    box-shadow: none;\n",
              "  }\n",
              "\n",
              "  .colab-df-spinner {\n",
              "    border: 2px solid var(--fill-color);\n",
              "    border-color: transparent;\n",
              "    border-bottom-color: var(--fill-color);\n",
              "    animation:\n",
              "      spin 1s steps(1) infinite;\n",
              "  }\n",
              "\n",
              "  @keyframes spin {\n",
              "    0% {\n",
              "      border-color: transparent;\n",
              "      border-bottom-color: var(--fill-color);\n",
              "      border-left-color: var(--fill-color);\n",
              "    }\n",
              "    20% {\n",
              "      border-color: transparent;\n",
              "      border-left-color: var(--fill-color);\n",
              "      border-top-color: var(--fill-color);\n",
              "    }\n",
              "    30% {\n",
              "      border-color: transparent;\n",
              "      border-left-color: var(--fill-color);\n",
              "      border-top-color: var(--fill-color);\n",
              "      border-right-color: var(--fill-color);\n",
              "    }\n",
              "    40% {\n",
              "      border-color: transparent;\n",
              "      border-right-color: var(--fill-color);\n",
              "      border-top-color: var(--fill-color);\n",
              "    }\n",
              "    60% {\n",
              "      border-color: transparent;\n",
              "      border-right-color: var(--fill-color);\n",
              "    }\n",
              "    80% {\n",
              "      border-color: transparent;\n",
              "      border-right-color: var(--fill-color);\n",
              "      border-bottom-color: var(--fill-color);\n",
              "    }\n",
              "    90% {\n",
              "      border-color: transparent;\n",
              "      border-bottom-color: var(--fill-color);\n",
              "    }\n",
              "  }\n",
              "</style>\n",
              "\n",
              "      <script>\n",
              "        async function quickchart(key) {\n",
              "          const quickchartButtonEl =\n",
              "            document.querySelector('#' + key + ' button');\n",
              "          quickchartButtonEl.disabled = true;  // To prevent multiple clicks.\n",
              "          quickchartButtonEl.classList.add('colab-df-spinner');\n",
              "          try {\n",
              "            const charts = await google.colab.kernel.invokeFunction(\n",
              "                'suggestCharts', [key], {});\n",
              "          } catch (error) {\n",
              "            console.error('Error during call to suggestCharts:', error);\n",
              "          }\n",
              "          quickchartButtonEl.classList.remove('colab-df-spinner');\n",
              "          quickchartButtonEl.classList.add('colab-df-quickchart-complete');\n",
              "        }\n",
              "        (() => {\n",
              "          let quickchartButtonEl =\n",
              "            document.querySelector('#df-54bc20e5-50fb-42a1-bf35-471de413c050 button');\n",
              "          quickchartButtonEl.style.display =\n",
              "            google.colab.kernel.accessAllowed ? 'block' : 'none';\n",
              "        })();\n",
              "      </script>\n",
              "    </div>\n",
              "\n",
              "  <div id=\"id_b72cc558-33fc-4f28-ad91-cf89b973ea9c\">\n",
              "    <style>\n",
              "      .colab-df-generate {\n",
              "        background-color: #E8F0FE;\n",
              "        border: none;\n",
              "        border-radius: 50%;\n",
              "        cursor: pointer;\n",
              "        display: none;\n",
              "        fill: #1967D2;\n",
              "        height: 32px;\n",
              "        padding: 0 0 0 0;\n",
              "        width: 32px;\n",
              "      }\n",
              "\n",
              "      .colab-df-generate:hover {\n",
              "        background-color: #E2EBFA;\n",
              "        box-shadow: 0px 1px 2px rgba(60, 64, 67, 0.3), 0px 1px 3px 1px rgba(60, 64, 67, 0.15);\n",
              "        fill: #174EA6;\n",
              "      }\n",
              "\n",
              "      [theme=dark] .colab-df-generate {\n",
              "        background-color: #3B4455;\n",
              "        fill: #D2E3FC;\n",
              "      }\n",
              "\n",
              "      [theme=dark] .colab-df-generate:hover {\n",
              "        background-color: #434B5C;\n",
              "        box-shadow: 0px 1px 3px 1px rgba(0, 0, 0, 0.15);\n",
              "        filter: drop-shadow(0px 1px 2px rgba(0, 0, 0, 0.3));\n",
              "        fill: #FFFFFF;\n",
              "      }\n",
              "    </style>\n",
              "    <button class=\"colab-df-generate\" onclick=\"generateWithVariable('filter_df')\"\n",
              "            title=\"Generate code using this dataframe.\"\n",
              "            style=\"display:none;\">\n",
              "\n",
              "  <svg xmlns=\"http://www.w3.org/2000/svg\" height=\"24px\"viewBox=\"0 0 24 24\"\n",
              "       width=\"24px\">\n",
              "    <path d=\"M7,19H8.4L18.45,9,17,7.55,7,17.6ZM5,21V16.75L18.45,3.32a2,2,0,0,1,2.83,0l1.4,1.43a1.91,1.91,0,0,1,.58,1.4,1.91,1.91,0,0,1-.58,1.4L9.25,21ZM18.45,9,17,7.55Zm-12,3A5.31,5.31,0,0,0,4.9,8.1,5.31,5.31,0,0,0,1,6.5,5.31,5.31,0,0,0,4.9,4.9,5.31,5.31,0,0,0,6.5,1,5.31,5.31,0,0,0,8.1,4.9,5.31,5.31,0,0,0,12,6.5,5.46,5.46,0,0,0,6.5,12Z\"/>\n",
              "  </svg>\n",
              "    </button>\n",
              "    <script>\n",
              "      (() => {\n",
              "      const buttonEl =\n",
              "        document.querySelector('#id_b72cc558-33fc-4f28-ad91-cf89b973ea9c button.colab-df-generate');\n",
              "      buttonEl.style.display =\n",
              "        google.colab.kernel.accessAllowed ? 'block' : 'none';\n",
              "\n",
              "      buttonEl.onclick = () => {\n",
              "        google.colab.notebook.generateWithVariable('filter_df');\n",
              "      }\n",
              "      })();\n",
              "    </script>\n",
              "  </div>\n",
              "\n",
              "    </div>\n",
              "  </div>\n"
            ],
            "application/vnd.google.colaboratory.intrinsic+json": {
              "type": "dataframe",
              "variable_name": "filter_df",
              "summary": "{\n  \"name\": \"filter_df\",\n  \"rows\": 3628,\n  \"fields\": [\n    {\n      \"column\": \"carat\",\n      \"properties\": {\n        \"dtype\": \"number\",\n        \"std\": 0.3128340647298602,\n        \"min\": 0.2,\n        \"max\": 2.28,\n        \"num_unique_values\": 143,\n        \"samples\": [\n          1.63,\n          0.62,\n          1.55\n        ],\n        \"semantic_type\": \"\",\n        \"description\": \"\"\n      }\n    },\n    {\n      \"column\": \"cut\",\n      \"properties\": {\n        \"dtype\": \"category\",\n        \"num_unique_values\": 1,\n        \"samples\": [\n          \"Ideal\"\n        ],\n        \"semantic_type\": \"\",\n        \"description\": \"\"\n      }\n    },\n    {\n      \"column\": \"color\",\n      \"properties\": {\n        \"dtype\": \"category\",\n        \"num_unique_values\": 1,\n        \"samples\": [\n          \"E\"\n        ],\n        \"semantic_type\": \"\",\n        \"description\": \"\"\n      }\n    },\n    {\n      \"column\": \"clarity\",\n      \"properties\": {\n        \"dtype\": \"category\",\n        \"num_unique_values\": 8,\n        \"samples\": [\n          \"VVS2\"\n        ],\n        \"semantic_type\": \"\",\n        \"description\": \"\"\n      }\n    },\n    {\n      \"column\": \"depth\",\n      \"properties\": {\n        \"dtype\": \"number\",\n        \"std\": 0.7100266309618767,\n        \"min\": 58.3,\n        \"max\": 65.5,\n        \"num_unique_values\": 51,\n        \"samples\": [\n          63.8\n        ],\n        \"semantic_type\": \"\",\n        \"description\": \"\"\n      }\n    },\n    {\n      \"column\": \"table\",\n      \"properties\": {\n        \"dtype\": \"number\",\n        \"std\": 1.1861850919280255,\n        \"min\": 52.0,\n        \"max\": 62.0,\n        \"num_unique_values\": 37,\n        \"samples\": [\n          54.7\n        ],\n        \"semantic_type\": \"\",\n        \"description\": \"\"\n      }\n    },\n    {\n      \"column\": \"price\",\n      \"properties\": {\n        \"dtype\": \"number\",\n        \"std\": 2946.985288805142,\n        \"min\": 326.0,\n        \"max\": 18729.0,\n        \"num_unique_values\": 1807,\n        \"samples\": [\n          1412.0\n        ],\n        \"semantic_type\": \"\",\n        \"description\": \"\"\n      }\n    },\n    {\n      \"column\": \"x\",\n      \"properties\": {\n        \"dtype\": \"number\",\n        \"std\": 0.8544152151824209,\n        \"min\": 3.76,\n        \"max\": 8.52,\n        \"num_unique_values\": 364,\n        \"samples\": [\n          7.03\n        ],\n        \"semantic_type\": \"\",\n        \"description\": \"\"\n      }\n    },\n    {\n      \"column\": \"y\",\n      \"properties\": {\n        \"dtype\": \"number\",\n        \"std\": 0.9607744210009831,\n        \"min\": 3.73,\n        \"max\": 31.8,\n        \"num_unique_values\": 364,\n        \"samples\": [\n          4.68\n        ],\n        \"semantic_type\": \"\",\n        \"description\": \"\"\n      }\n    },\n    {\n      \"column\": \"z\",\n      \"properties\": {\n        \"dtype\": \"number\",\n        \"std\": 0.5273821446380437,\n        \"min\": 2.33,\n        \"max\": 5.25,\n        \"num_unique_values\": 232,\n        \"samples\": [\n          3.12\n        ],\n        \"semantic_type\": \"\",\n        \"description\": \"\"\n      }\n    }\n  ]\n}"
            }
          },
          "metadata": {},
          "execution_count": 18
        }
      ]
    },
    {
      "cell_type": "markdown",
      "source": [
        "###  5. Group by `cut` and compute the average `price` for each group."
      ],
      "metadata": {
        "id": "5S3pI3YjEwdt"
      }
    },
    {
      "cell_type": "code",
      "source": [
        "df.groupby(['cut'])['price'].mean()\n"
      ],
      "metadata": {
        "id": "A5AJBOmqFDV7",
        "colab": {
          "base_uri": "https://localhost:8080/",
          "height": 272
        },
        "outputId": "fbfc50e1-76b4-4727-adcb-254306d7326c"
      },
      "execution_count": null,
      "outputs": [
        {
          "output_type": "execute_result",
          "data": {
            "text/plain": [
              "cut\n",
              "Fair         4329.705017\n",
              "Good         3961.470266\n",
              "Ideal        3463.090230\n",
              "Premium      4607.664841\n",
              "Very Good    3986.907618\n",
              "Name: price, dtype: float64"
            ],
            "text/html": [
              "<div>\n",
              "<style scoped>\n",
              "    .dataframe tbody tr th:only-of-type {\n",
              "        vertical-align: middle;\n",
              "    }\n",
              "\n",
              "    .dataframe tbody tr th {\n",
              "        vertical-align: top;\n",
              "    }\n",
              "\n",
              "    .dataframe thead th {\n",
              "        text-align: right;\n",
              "    }\n",
              "</style>\n",
              "<table border=\"1\" class=\"dataframe\">\n",
              "  <thead>\n",
              "    <tr style=\"text-align: right;\">\n",
              "      <th></th>\n",
              "      <th>price</th>\n",
              "    </tr>\n",
              "    <tr>\n",
              "      <th>cut</th>\n",
              "      <th></th>\n",
              "    </tr>\n",
              "  </thead>\n",
              "  <tbody>\n",
              "    <tr>\n",
              "      <th>Fair</th>\n",
              "      <td>4329.705017</td>\n",
              "    </tr>\n",
              "    <tr>\n",
              "      <th>Good</th>\n",
              "      <td>3961.470266</td>\n",
              "    </tr>\n",
              "    <tr>\n",
              "      <th>Ideal</th>\n",
              "      <td>3463.090230</td>\n",
              "    </tr>\n",
              "    <tr>\n",
              "      <th>Premium</th>\n",
              "      <td>4607.664841</td>\n",
              "    </tr>\n",
              "    <tr>\n",
              "      <th>Very Good</th>\n",
              "      <td>3986.907618</td>\n",
              "    </tr>\n",
              "  </tbody>\n",
              "</table>\n",
              "</div><br><label><b>dtype:</b> float64</label>"
            ]
          },
          "metadata": {},
          "execution_count": 19
        }
      ]
    },
    {
      "cell_type": "markdown",
      "source": [],
      "metadata": {
        "id": "RZgCd3cMOWQl"
      }
    },
    {
      "cell_type": "markdown",
      "source": [
        "###  6. Sort the data by `carat` in descending order and show the top 5 rows."
      ],
      "metadata": {
        "id": "fKMBh8ryIWNE"
      }
    },
    {
      "cell_type": "code",
      "source": [
        "df.sort_values(by='carat',ascending=False).head(5)\n"
      ],
      "metadata": {
        "colab": {
          "base_uri": "https://localhost:8080/",
          "height": 226
        },
        "id": "Y8hv8b-DI-vm",
        "outputId": "e9a7ff21-1bd5-4dbd-bf59-8296f7194be0"
      },
      "execution_count": null,
      "outputs": [
        {
          "output_type": "execute_result",
          "data": {
            "text/plain": [
              "       carat      cut color clarity  depth  table    price      x      y     z\n",
              "25426   5.01     Fair     J      I1   65.5   59.0  18018.0  10.74  10.54  6.98\n",
              "25624   4.50     Fair     J      I1   65.8   58.0  18531.0  10.23  10.16  6.72\n",
              "25163   4.13     Fair     H      I1   64.8   61.0  17329.0  10.00   9.85  6.43\n",
              "24102   4.01  Premium     I      I1   61.0   61.0  15223.0  10.14  10.10  6.17\n",
              "24103   4.01  Premium     J      I1   62.5   62.0  15223.0  10.02   9.94  6.24"
            ],
            "text/html": [
              "\n",
              "  <div id=\"df-e6e64511-3707-4489-94b4-872b338a1bb9\" class=\"colab-df-container\">\n",
              "    <div>\n",
              "<style scoped>\n",
              "    .dataframe tbody tr th:only-of-type {\n",
              "        vertical-align: middle;\n",
              "    }\n",
              "\n",
              "    .dataframe tbody tr th {\n",
              "        vertical-align: top;\n",
              "    }\n",
              "\n",
              "    .dataframe thead th {\n",
              "        text-align: right;\n",
              "    }\n",
              "</style>\n",
              "<table border=\"1\" class=\"dataframe\">\n",
              "  <thead>\n",
              "    <tr style=\"text-align: right;\">\n",
              "      <th></th>\n",
              "      <th>carat</th>\n",
              "      <th>cut</th>\n",
              "      <th>color</th>\n",
              "      <th>clarity</th>\n",
              "      <th>depth</th>\n",
              "      <th>table</th>\n",
              "      <th>price</th>\n",
              "      <th>x</th>\n",
              "      <th>y</th>\n",
              "      <th>z</th>\n",
              "    </tr>\n",
              "  </thead>\n",
              "  <tbody>\n",
              "    <tr>\n",
              "      <th>25426</th>\n",
              "      <td>5.01</td>\n",
              "      <td>Fair</td>\n",
              "      <td>J</td>\n",
              "      <td>I1</td>\n",
              "      <td>65.5</td>\n",
              "      <td>59.0</td>\n",
              "      <td>18018.0</td>\n",
              "      <td>10.74</td>\n",
              "      <td>10.54</td>\n",
              "      <td>6.98</td>\n",
              "    </tr>\n",
              "    <tr>\n",
              "      <th>25624</th>\n",
              "      <td>4.50</td>\n",
              "      <td>Fair</td>\n",
              "      <td>J</td>\n",
              "      <td>I1</td>\n",
              "      <td>65.8</td>\n",
              "      <td>58.0</td>\n",
              "      <td>18531.0</td>\n",
              "      <td>10.23</td>\n",
              "      <td>10.16</td>\n",
              "      <td>6.72</td>\n",
              "    </tr>\n",
              "    <tr>\n",
              "      <th>25163</th>\n",
              "      <td>4.13</td>\n",
              "      <td>Fair</td>\n",
              "      <td>H</td>\n",
              "      <td>I1</td>\n",
              "      <td>64.8</td>\n",
              "      <td>61.0</td>\n",
              "      <td>17329.0</td>\n",
              "      <td>10.00</td>\n",
              "      <td>9.85</td>\n",
              "      <td>6.43</td>\n",
              "    </tr>\n",
              "    <tr>\n",
              "      <th>24102</th>\n",
              "      <td>4.01</td>\n",
              "      <td>Premium</td>\n",
              "      <td>I</td>\n",
              "      <td>I1</td>\n",
              "      <td>61.0</td>\n",
              "      <td>61.0</td>\n",
              "      <td>15223.0</td>\n",
              "      <td>10.14</td>\n",
              "      <td>10.10</td>\n",
              "      <td>6.17</td>\n",
              "    </tr>\n",
              "    <tr>\n",
              "      <th>24103</th>\n",
              "      <td>4.01</td>\n",
              "      <td>Premium</td>\n",
              "      <td>J</td>\n",
              "      <td>I1</td>\n",
              "      <td>62.5</td>\n",
              "      <td>62.0</td>\n",
              "      <td>15223.0</td>\n",
              "      <td>10.02</td>\n",
              "      <td>9.94</td>\n",
              "      <td>6.24</td>\n",
              "    </tr>\n",
              "  </tbody>\n",
              "</table>\n",
              "</div>\n",
              "    <div class=\"colab-df-buttons\">\n",
              "\n",
              "  <div class=\"colab-df-container\">\n",
              "    <button class=\"colab-df-convert\" onclick=\"convertToInteractive('df-e6e64511-3707-4489-94b4-872b338a1bb9')\"\n",
              "            title=\"Convert this dataframe to an interactive table.\"\n",
              "            style=\"display:none;\">\n",
              "\n",
              "  <svg xmlns=\"http://www.w3.org/2000/svg\" height=\"24px\" viewBox=\"0 -960 960 960\">\n",
              "    <path d=\"M120-120v-720h720v720H120Zm60-500h600v-160H180v160Zm220 220h160v-160H400v160Zm0 220h160v-160H400v160ZM180-400h160v-160H180v160Zm440 0h160v-160H620v160ZM180-180h160v-160H180v160Zm440 0h160v-160H620v160Z\"/>\n",
              "  </svg>\n",
              "    </button>\n",
              "\n",
              "  <style>\n",
              "    .colab-df-container {\n",
              "      display:flex;\n",
              "      gap: 12px;\n",
              "    }\n",
              "\n",
              "    .colab-df-convert {\n",
              "      background-color: #E8F0FE;\n",
              "      border: none;\n",
              "      border-radius: 50%;\n",
              "      cursor: pointer;\n",
              "      display: none;\n",
              "      fill: #1967D2;\n",
              "      height: 32px;\n",
              "      padding: 0 0 0 0;\n",
              "      width: 32px;\n",
              "    }\n",
              "\n",
              "    .colab-df-convert:hover {\n",
              "      background-color: #E2EBFA;\n",
              "      box-shadow: 0px 1px 2px rgba(60, 64, 67, 0.3), 0px 1px 3px 1px rgba(60, 64, 67, 0.15);\n",
              "      fill: #174EA6;\n",
              "    }\n",
              "\n",
              "    .colab-df-buttons div {\n",
              "      margin-bottom: 4px;\n",
              "    }\n",
              "\n",
              "    [theme=dark] .colab-df-convert {\n",
              "      background-color: #3B4455;\n",
              "      fill: #D2E3FC;\n",
              "    }\n",
              "\n",
              "    [theme=dark] .colab-df-convert:hover {\n",
              "      background-color: #434B5C;\n",
              "      box-shadow: 0px 1px 3px 1px rgba(0, 0, 0, 0.15);\n",
              "      filter: drop-shadow(0px 1px 2px rgba(0, 0, 0, 0.3));\n",
              "      fill: #FFFFFF;\n",
              "    }\n",
              "  </style>\n",
              "\n",
              "    <script>\n",
              "      const buttonEl =\n",
              "        document.querySelector('#df-e6e64511-3707-4489-94b4-872b338a1bb9 button.colab-df-convert');\n",
              "      buttonEl.style.display =\n",
              "        google.colab.kernel.accessAllowed ? 'block' : 'none';\n",
              "\n",
              "      async function convertToInteractive(key) {\n",
              "        const element = document.querySelector('#df-e6e64511-3707-4489-94b4-872b338a1bb9');\n",
              "        const dataTable =\n",
              "          await google.colab.kernel.invokeFunction('convertToInteractive',\n",
              "                                                    [key], {});\n",
              "        if (!dataTable) return;\n",
              "\n",
              "        const docLinkHtml = 'Like what you see? Visit the ' +\n",
              "          '<a target=\"_blank\" href=https://colab.research.google.com/notebooks/data_table.ipynb>data table notebook</a>'\n",
              "          + ' to learn more about interactive tables.';\n",
              "        element.innerHTML = '';\n",
              "        dataTable['output_type'] = 'display_data';\n",
              "        await google.colab.output.renderOutput(dataTable, element);\n",
              "        const docLink = document.createElement('div');\n",
              "        docLink.innerHTML = docLinkHtml;\n",
              "        element.appendChild(docLink);\n",
              "      }\n",
              "    </script>\n",
              "  </div>\n",
              "\n",
              "\n",
              "    <div id=\"df-80a49b4a-6777-451c-baae-dbfb663e34ea\">\n",
              "      <button class=\"colab-df-quickchart\" onclick=\"quickchart('df-80a49b4a-6777-451c-baae-dbfb663e34ea')\"\n",
              "                title=\"Suggest charts\"\n",
              "                style=\"display:none;\">\n",
              "\n",
              "<svg xmlns=\"http://www.w3.org/2000/svg\" height=\"24px\"viewBox=\"0 0 24 24\"\n",
              "     width=\"24px\">\n",
              "    <g>\n",
              "        <path d=\"M19 3H5c-1.1 0-2 .9-2 2v14c0 1.1.9 2 2 2h14c1.1 0 2-.9 2-2V5c0-1.1-.9-2-2-2zM9 17H7v-7h2v7zm4 0h-2V7h2v10zm4 0h-2v-4h2v4z\"/>\n",
              "    </g>\n",
              "</svg>\n",
              "      </button>\n",
              "\n",
              "<style>\n",
              "  .colab-df-quickchart {\n",
              "      --bg-color: #E8F0FE;\n",
              "      --fill-color: #1967D2;\n",
              "      --hover-bg-color: #E2EBFA;\n",
              "      --hover-fill-color: #174EA6;\n",
              "      --disabled-fill-color: #AAA;\n",
              "      --disabled-bg-color: #DDD;\n",
              "  }\n",
              "\n",
              "  [theme=dark] .colab-df-quickchart {\n",
              "      --bg-color: #3B4455;\n",
              "      --fill-color: #D2E3FC;\n",
              "      --hover-bg-color: #434B5C;\n",
              "      --hover-fill-color: #FFFFFF;\n",
              "      --disabled-bg-color: #3B4455;\n",
              "      --disabled-fill-color: #666;\n",
              "  }\n",
              "\n",
              "  .colab-df-quickchart {\n",
              "    background-color: var(--bg-color);\n",
              "    border: none;\n",
              "    border-radius: 50%;\n",
              "    cursor: pointer;\n",
              "    display: none;\n",
              "    fill: var(--fill-color);\n",
              "    height: 32px;\n",
              "    padding: 0;\n",
              "    width: 32px;\n",
              "  }\n",
              "\n",
              "  .colab-df-quickchart:hover {\n",
              "    background-color: var(--hover-bg-color);\n",
              "    box-shadow: 0 1px 2px rgba(60, 64, 67, 0.3), 0 1px 3px 1px rgba(60, 64, 67, 0.15);\n",
              "    fill: var(--button-hover-fill-color);\n",
              "  }\n",
              "\n",
              "  .colab-df-quickchart-complete:disabled,\n",
              "  .colab-df-quickchart-complete:disabled:hover {\n",
              "    background-color: var(--disabled-bg-color);\n",
              "    fill: var(--disabled-fill-color);\n",
              "    box-shadow: none;\n",
              "  }\n",
              "\n",
              "  .colab-df-spinner {\n",
              "    border: 2px solid var(--fill-color);\n",
              "    border-color: transparent;\n",
              "    border-bottom-color: var(--fill-color);\n",
              "    animation:\n",
              "      spin 1s steps(1) infinite;\n",
              "  }\n",
              "\n",
              "  @keyframes spin {\n",
              "    0% {\n",
              "      border-color: transparent;\n",
              "      border-bottom-color: var(--fill-color);\n",
              "      border-left-color: var(--fill-color);\n",
              "    }\n",
              "    20% {\n",
              "      border-color: transparent;\n",
              "      border-left-color: var(--fill-color);\n",
              "      border-top-color: var(--fill-color);\n",
              "    }\n",
              "    30% {\n",
              "      border-color: transparent;\n",
              "      border-left-color: var(--fill-color);\n",
              "      border-top-color: var(--fill-color);\n",
              "      border-right-color: var(--fill-color);\n",
              "    }\n",
              "    40% {\n",
              "      border-color: transparent;\n",
              "      border-right-color: var(--fill-color);\n",
              "      border-top-color: var(--fill-color);\n",
              "    }\n",
              "    60% {\n",
              "      border-color: transparent;\n",
              "      border-right-color: var(--fill-color);\n",
              "    }\n",
              "    80% {\n",
              "      border-color: transparent;\n",
              "      border-right-color: var(--fill-color);\n",
              "      border-bottom-color: var(--fill-color);\n",
              "    }\n",
              "    90% {\n",
              "      border-color: transparent;\n",
              "      border-bottom-color: var(--fill-color);\n",
              "    }\n",
              "  }\n",
              "</style>\n",
              "\n",
              "      <script>\n",
              "        async function quickchart(key) {\n",
              "          const quickchartButtonEl =\n",
              "            document.querySelector('#' + key + ' button');\n",
              "          quickchartButtonEl.disabled = true;  // To prevent multiple clicks.\n",
              "          quickchartButtonEl.classList.add('colab-df-spinner');\n",
              "          try {\n",
              "            const charts = await google.colab.kernel.invokeFunction(\n",
              "                'suggestCharts', [key], {});\n",
              "          } catch (error) {\n",
              "            console.error('Error during call to suggestCharts:', error);\n",
              "          }\n",
              "          quickchartButtonEl.classList.remove('colab-df-spinner');\n",
              "          quickchartButtonEl.classList.add('colab-df-quickchart-complete');\n",
              "        }\n",
              "        (() => {\n",
              "          let quickchartButtonEl =\n",
              "            document.querySelector('#df-80a49b4a-6777-451c-baae-dbfb663e34ea button');\n",
              "          quickchartButtonEl.style.display =\n",
              "            google.colab.kernel.accessAllowed ? 'block' : 'none';\n",
              "        })();\n",
              "      </script>\n",
              "    </div>\n",
              "\n",
              "    </div>\n",
              "  </div>\n"
            ],
            "application/vnd.google.colaboratory.intrinsic+json": {
              "type": "dataframe",
              "summary": "{\n  \"name\": \"df\",\n  \"rows\": 5,\n  \"fields\": [\n    {\n      \"column\": \"carat\",\n      \"properties\": {\n        \"dtype\": \"number\",\n        \"std\": 0.42897552377728965,\n        \"min\": 4.01,\n        \"max\": 5.01,\n        \"num_unique_values\": 4,\n        \"samples\": [\n          4.5,\n          4.01,\n          5.01\n        ],\n        \"semantic_type\": \"\",\n        \"description\": \"\"\n      }\n    },\n    {\n      \"column\": \"cut\",\n      \"properties\": {\n        \"dtype\": \"category\",\n        \"num_unique_values\": 2,\n        \"samples\": [\n          \"Premium\",\n          \"Fair\"\n        ],\n        \"semantic_type\": \"\",\n        \"description\": \"\"\n      }\n    },\n    {\n      \"column\": \"color\",\n      \"properties\": {\n        \"dtype\": \"string\",\n        \"num_unique_values\": 3,\n        \"samples\": [\n          \"J\",\n          \"H\"\n        ],\n        \"semantic_type\": \"\",\n        \"description\": \"\"\n      }\n    },\n    {\n      \"column\": \"clarity\",\n      \"properties\": {\n        \"dtype\": \"category\",\n        \"num_unique_values\": 1,\n        \"samples\": [\n          \"I1\"\n        ],\n        \"semantic_type\": \"\",\n        \"description\": \"\"\n      }\n    },\n    {\n      \"column\": \"depth\",\n      \"properties\": {\n        \"dtype\": \"number\",\n        \"std\": 2.0825465180878906,\n        \"min\": 61.0,\n        \"max\": 65.8,\n        \"num_unique_values\": 5,\n        \"samples\": [\n          65.8\n        ],\n        \"semantic_type\": \"\",\n        \"description\": \"\"\n      }\n    },\n    {\n      \"column\": \"table\",\n      \"properties\": {\n        \"dtype\": \"number\",\n        \"std\": 1.6431676725154982,\n        \"min\": 58.0,\n        \"max\": 62.0,\n        \"num_unique_values\": 4,\n        \"samples\": [\n          58.0\n        ],\n        \"semantic_type\": \"\",\n        \"description\": \"\"\n      }\n    },\n    {\n      \"column\": \"price\",\n      \"properties\": {\n        \"dtype\": \"number\",\n        \"std\": 1558.2513276105367,\n        \"min\": 15223.0,\n        \"max\": 18531.0,\n        \"num_unique_values\": 4,\n        \"samples\": [\n          18531.0\n        ],\n        \"semantic_type\": \"\",\n        \"description\": \"\"\n      }\n    },\n    {\n      \"column\": \"x\",\n      \"properties\": {\n        \"dtype\": \"number\",\n        \"std\": 0.30212580161250724,\n        \"min\": 10.0,\n        \"max\": 10.74,\n        \"num_unique_values\": 5,\n        \"samples\": [\n          10.23\n        ],\n        \"semantic_type\": \"\",\n        \"description\": \"\"\n      }\n    },\n    {\n      \"column\": \"y\",\n      \"properties\": {\n        \"dtype\": \"number\",\n        \"std\": 0.2663080922540656,\n        \"min\": 9.85,\n        \"max\": 10.54,\n        \"num_unique_values\": 5,\n        \"samples\": [\n          10.16\n        ],\n        \"semantic_type\": \"\",\n        \"description\": \"\"\n      }\n    },\n    {\n      \"column\": \"z\",\n      \"properties\": {\n        \"dtype\": \"number\",\n        \"std\": 0.33907226368430676,\n        \"min\": 6.17,\n        \"max\": 6.98,\n        \"num_unique_values\": 5,\n        \"samples\": [\n          6.72\n        ],\n        \"semantic_type\": \"\",\n        \"description\": \"\"\n      }\n    }\n  ]\n}"
            }
          },
          "metadata": {},
          "execution_count": 20
        }
      ]
    },
    {
      "cell_type": "markdown",
      "source": [
        "###  7. Convert the `price` column to a NumPy array and find its mean, median, and standard deviation."
      ],
      "metadata": {
        "id": "7eojY1IhKFVw"
      }
    },
    {
      "cell_type": "code",
      "source": [
        "import numpy as np\n",
        "import pandas as pd\n",
        "from google.colab import drive\n",
        "drive.mount('/content/drive')\n",
        "df =pd.read_csv('/content/drive/MyDrive/assignment11.csv')\n",
        "price_array = df['price'].to_numpy()\n",
        "print('mean',np.mean(price_array))\n",
        "print('median',np.median(price_array))\n",
        "print('standard deviation',np.std(price_array))\n",
        "\n"
      ],
      "metadata": {
        "colab": {
          "base_uri": "https://localhost:8080/"
        },
        "id": "FgqrYvGaKJAu",
        "outputId": "385bc517-39f4-43fc-e3d0-90a1068f0c51"
      },
      "execution_count": null,
      "outputs": [
        {
          "output_type": "stream",
          "name": "stdout",
          "text": [
            "Drive already mounted at /content/drive; to attempt to forcibly remount, call drive.mount(\"/content/drive\", force_remount=True).\n",
            "mean 3944.80544\n",
            "median 2410.0\n",
            "standard deviation 3997.8981250585175\n"
          ]
        }
      ]
    },
    {
      "cell_type": "markdown",
      "source": [
        "###  8. Count diamonds with `price > 5000` and `carat > 1` using NumPy conditions.\n"
      ],
      "metadata": {
        "id": "sntOhgB5QGg3"
      }
    },
    {
      "cell_type": "code",
      "source": [
        "df[(df['price']>5000) & ( df['carat']>1)]"
      ],
      "metadata": {
        "colab": {
          "base_uri": "https://localhost:8080/",
          "height": 423
        },
        "id": "Mr6V5YchQLCw",
        "outputId": "5a2fd237-483b-432e-c22d-8e4ae77deef3"
      },
      "execution_count": null,
      "outputs": [
        {
          "output_type": "execute_result",
          "data": {
            "text/plain": [
              "       carat        cut color clarity  depth  table  price     x     y     z\n",
              "10526   1.16      Ideal     E     SI2   62.7   56.0   5001  6.69  6.73  4.21\n",
              "10527   1.16      Ideal     E     SI2   59.9   57.0   5001  6.80  6.82  4.08\n",
              "10531   1.07      Ideal     I     SI1   61.7   56.1   5002  6.57  6.59  4.06\n",
              "10532   1.10      Ideal     H     SI2   62.0   56.5   5002  6.58  6.63  4.09\n",
              "10533   1.20      Ideal     J     SI1   62.1   55.0   5002  6.81  6.84  4.24\n",
              "...      ...        ...   ...     ...    ...    ...    ...   ...   ...   ...\n",
              "25732   2.00  Very Good     H     SI1   62.8   57.0  18803  7.95  8.00  5.01\n",
              "25733   2.07      Ideal     G     SI2   62.5   55.0  18804  8.20  8.13  5.11\n",
              "25734   1.51      Ideal     G      IF   61.7   55.0  18806  7.37  7.41  4.56\n",
              "25735   2.00  Very Good     G     SI1   63.5   56.0  18818  7.90  7.97  5.04\n",
              "25736   2.29    Premium     I     VS2   60.8   60.0  18823  8.50  8.47  5.16\n",
              "\n",
              "[12798 rows x 10 columns]"
            ],
            "text/html": [
              "\n",
              "  <div id=\"df-5ebef117-6fd8-4328-bac2-5b0c0b4b0f72\" class=\"colab-df-container\">\n",
              "    <div>\n",
              "<style scoped>\n",
              "    .dataframe tbody tr th:only-of-type {\n",
              "        vertical-align: middle;\n",
              "    }\n",
              "\n",
              "    .dataframe tbody tr th {\n",
              "        vertical-align: top;\n",
              "    }\n",
              "\n",
              "    .dataframe thead th {\n",
              "        text-align: right;\n",
              "    }\n",
              "</style>\n",
              "<table border=\"1\" class=\"dataframe\">\n",
              "  <thead>\n",
              "    <tr style=\"text-align: right;\">\n",
              "      <th></th>\n",
              "      <th>carat</th>\n",
              "      <th>cut</th>\n",
              "      <th>color</th>\n",
              "      <th>clarity</th>\n",
              "      <th>depth</th>\n",
              "      <th>table</th>\n",
              "      <th>price</th>\n",
              "      <th>x</th>\n",
              "      <th>y</th>\n",
              "      <th>z</th>\n",
              "    </tr>\n",
              "  </thead>\n",
              "  <tbody>\n",
              "    <tr>\n",
              "      <th>10526</th>\n",
              "      <td>1.16</td>\n",
              "      <td>Ideal</td>\n",
              "      <td>E</td>\n",
              "      <td>SI2</td>\n",
              "      <td>62.7</td>\n",
              "      <td>56.0</td>\n",
              "      <td>5001</td>\n",
              "      <td>6.69</td>\n",
              "      <td>6.73</td>\n",
              "      <td>4.21</td>\n",
              "    </tr>\n",
              "    <tr>\n",
              "      <th>10527</th>\n",
              "      <td>1.16</td>\n",
              "      <td>Ideal</td>\n",
              "      <td>E</td>\n",
              "      <td>SI2</td>\n",
              "      <td>59.9</td>\n",
              "      <td>57.0</td>\n",
              "      <td>5001</td>\n",
              "      <td>6.80</td>\n",
              "      <td>6.82</td>\n",
              "      <td>4.08</td>\n",
              "    </tr>\n",
              "    <tr>\n",
              "      <th>10531</th>\n",
              "      <td>1.07</td>\n",
              "      <td>Ideal</td>\n",
              "      <td>I</td>\n",
              "      <td>SI1</td>\n",
              "      <td>61.7</td>\n",
              "      <td>56.1</td>\n",
              "      <td>5002</td>\n",
              "      <td>6.57</td>\n",
              "      <td>6.59</td>\n",
              "      <td>4.06</td>\n",
              "    </tr>\n",
              "    <tr>\n",
              "      <th>10532</th>\n",
              "      <td>1.10</td>\n",
              "      <td>Ideal</td>\n",
              "      <td>H</td>\n",
              "      <td>SI2</td>\n",
              "      <td>62.0</td>\n",
              "      <td>56.5</td>\n",
              "      <td>5002</td>\n",
              "      <td>6.58</td>\n",
              "      <td>6.63</td>\n",
              "      <td>4.09</td>\n",
              "    </tr>\n",
              "    <tr>\n",
              "      <th>10533</th>\n",
              "      <td>1.20</td>\n",
              "      <td>Ideal</td>\n",
              "      <td>J</td>\n",
              "      <td>SI1</td>\n",
              "      <td>62.1</td>\n",
              "      <td>55.0</td>\n",
              "      <td>5002</td>\n",
              "      <td>6.81</td>\n",
              "      <td>6.84</td>\n",
              "      <td>4.24</td>\n",
              "    </tr>\n",
              "    <tr>\n",
              "      <th>...</th>\n",
              "      <td>...</td>\n",
              "      <td>...</td>\n",
              "      <td>...</td>\n",
              "      <td>...</td>\n",
              "      <td>...</td>\n",
              "      <td>...</td>\n",
              "      <td>...</td>\n",
              "      <td>...</td>\n",
              "      <td>...</td>\n",
              "      <td>...</td>\n",
              "    </tr>\n",
              "    <tr>\n",
              "      <th>25732</th>\n",
              "      <td>2.00</td>\n",
              "      <td>Very Good</td>\n",
              "      <td>H</td>\n",
              "      <td>SI1</td>\n",
              "      <td>62.8</td>\n",
              "      <td>57.0</td>\n",
              "      <td>18803</td>\n",
              "      <td>7.95</td>\n",
              "      <td>8.00</td>\n",
              "      <td>5.01</td>\n",
              "    </tr>\n",
              "    <tr>\n",
              "      <th>25733</th>\n",
              "      <td>2.07</td>\n",
              "      <td>Ideal</td>\n",
              "      <td>G</td>\n",
              "      <td>SI2</td>\n",
              "      <td>62.5</td>\n",
              "      <td>55.0</td>\n",
              "      <td>18804</td>\n",
              "      <td>8.20</td>\n",
              "      <td>8.13</td>\n",
              "      <td>5.11</td>\n",
              "    </tr>\n",
              "    <tr>\n",
              "      <th>25734</th>\n",
              "      <td>1.51</td>\n",
              "      <td>Ideal</td>\n",
              "      <td>G</td>\n",
              "      <td>IF</td>\n",
              "      <td>61.7</td>\n",
              "      <td>55.0</td>\n",
              "      <td>18806</td>\n",
              "      <td>7.37</td>\n",
              "      <td>7.41</td>\n",
              "      <td>4.56</td>\n",
              "    </tr>\n",
              "    <tr>\n",
              "      <th>25735</th>\n",
              "      <td>2.00</td>\n",
              "      <td>Very Good</td>\n",
              "      <td>G</td>\n",
              "      <td>SI1</td>\n",
              "      <td>63.5</td>\n",
              "      <td>56.0</td>\n",
              "      <td>18818</td>\n",
              "      <td>7.90</td>\n",
              "      <td>7.97</td>\n",
              "      <td>5.04</td>\n",
              "    </tr>\n",
              "    <tr>\n",
              "      <th>25736</th>\n",
              "      <td>2.29</td>\n",
              "      <td>Premium</td>\n",
              "      <td>I</td>\n",
              "      <td>VS2</td>\n",
              "      <td>60.8</td>\n",
              "      <td>60.0</td>\n",
              "      <td>18823</td>\n",
              "      <td>8.50</td>\n",
              "      <td>8.47</td>\n",
              "      <td>5.16</td>\n",
              "    </tr>\n",
              "  </tbody>\n",
              "</table>\n",
              "<p>12798 rows × 10 columns</p>\n",
              "</div>\n",
              "    <div class=\"colab-df-buttons\">\n",
              "\n",
              "  <div class=\"colab-df-container\">\n",
              "    <button class=\"colab-df-convert\" onclick=\"convertToInteractive('df-5ebef117-6fd8-4328-bac2-5b0c0b4b0f72')\"\n",
              "            title=\"Convert this dataframe to an interactive table.\"\n",
              "            style=\"display:none;\">\n",
              "\n",
              "  <svg xmlns=\"http://www.w3.org/2000/svg\" height=\"24px\" viewBox=\"0 -960 960 960\">\n",
              "    <path d=\"M120-120v-720h720v720H120Zm60-500h600v-160H180v160Zm220 220h160v-160H400v160Zm0 220h160v-160H400v160ZM180-400h160v-160H180v160Zm440 0h160v-160H620v160ZM180-180h160v-160H180v160Zm440 0h160v-160H620v160Z\"/>\n",
              "  </svg>\n",
              "    </button>\n",
              "\n",
              "  <style>\n",
              "    .colab-df-container {\n",
              "      display:flex;\n",
              "      gap: 12px;\n",
              "    }\n",
              "\n",
              "    .colab-df-convert {\n",
              "      background-color: #E8F0FE;\n",
              "      border: none;\n",
              "      border-radius: 50%;\n",
              "      cursor: pointer;\n",
              "      display: none;\n",
              "      fill: #1967D2;\n",
              "      height: 32px;\n",
              "      padding: 0 0 0 0;\n",
              "      width: 32px;\n",
              "    }\n",
              "\n",
              "    .colab-df-convert:hover {\n",
              "      background-color: #E2EBFA;\n",
              "      box-shadow: 0px 1px 2px rgba(60, 64, 67, 0.3), 0px 1px 3px 1px rgba(60, 64, 67, 0.15);\n",
              "      fill: #174EA6;\n",
              "    }\n",
              "\n",
              "    .colab-df-buttons div {\n",
              "      margin-bottom: 4px;\n",
              "    }\n",
              "\n",
              "    [theme=dark] .colab-df-convert {\n",
              "      background-color: #3B4455;\n",
              "      fill: #D2E3FC;\n",
              "    }\n",
              "\n",
              "    [theme=dark] .colab-df-convert:hover {\n",
              "      background-color: #434B5C;\n",
              "      box-shadow: 0px 1px 3px 1px rgba(0, 0, 0, 0.15);\n",
              "      filter: drop-shadow(0px 1px 2px rgba(0, 0, 0, 0.3));\n",
              "      fill: #FFFFFF;\n",
              "    }\n",
              "  </style>\n",
              "\n",
              "    <script>\n",
              "      const buttonEl =\n",
              "        document.querySelector('#df-5ebef117-6fd8-4328-bac2-5b0c0b4b0f72 button.colab-df-convert');\n",
              "      buttonEl.style.display =\n",
              "        google.colab.kernel.accessAllowed ? 'block' : 'none';\n",
              "\n",
              "      async function convertToInteractive(key) {\n",
              "        const element = document.querySelector('#df-5ebef117-6fd8-4328-bac2-5b0c0b4b0f72');\n",
              "        const dataTable =\n",
              "          await google.colab.kernel.invokeFunction('convertToInteractive',\n",
              "                                                    [key], {});\n",
              "        if (!dataTable) return;\n",
              "\n",
              "        const docLinkHtml = 'Like what you see? Visit the ' +\n",
              "          '<a target=\"_blank\" href=https://colab.research.google.com/notebooks/data_table.ipynb>data table notebook</a>'\n",
              "          + ' to learn more about interactive tables.';\n",
              "        element.innerHTML = '';\n",
              "        dataTable['output_type'] = 'display_data';\n",
              "        await google.colab.output.renderOutput(dataTable, element);\n",
              "        const docLink = document.createElement('div');\n",
              "        docLink.innerHTML = docLinkHtml;\n",
              "        element.appendChild(docLink);\n",
              "      }\n",
              "    </script>\n",
              "  </div>\n",
              "\n",
              "\n",
              "    <div id=\"df-8b10e05d-66ea-41f3-88b0-9c1f7c49b1b8\">\n",
              "      <button class=\"colab-df-quickchart\" onclick=\"quickchart('df-8b10e05d-66ea-41f3-88b0-9c1f7c49b1b8')\"\n",
              "                title=\"Suggest charts\"\n",
              "                style=\"display:none;\">\n",
              "\n",
              "<svg xmlns=\"http://www.w3.org/2000/svg\" height=\"24px\"viewBox=\"0 0 24 24\"\n",
              "     width=\"24px\">\n",
              "    <g>\n",
              "        <path d=\"M19 3H5c-1.1 0-2 .9-2 2v14c0 1.1.9 2 2 2h14c1.1 0 2-.9 2-2V5c0-1.1-.9-2-2-2zM9 17H7v-7h2v7zm4 0h-2V7h2v10zm4 0h-2v-4h2v4z\"/>\n",
              "    </g>\n",
              "</svg>\n",
              "      </button>\n",
              "\n",
              "<style>\n",
              "  .colab-df-quickchart {\n",
              "      --bg-color: #E8F0FE;\n",
              "      --fill-color: #1967D2;\n",
              "      --hover-bg-color: #E2EBFA;\n",
              "      --hover-fill-color: #174EA6;\n",
              "      --disabled-fill-color: #AAA;\n",
              "      --disabled-bg-color: #DDD;\n",
              "  }\n",
              "\n",
              "  [theme=dark] .colab-df-quickchart {\n",
              "      --bg-color: #3B4455;\n",
              "      --fill-color: #D2E3FC;\n",
              "      --hover-bg-color: #434B5C;\n",
              "      --hover-fill-color: #FFFFFF;\n",
              "      --disabled-bg-color: #3B4455;\n",
              "      --disabled-fill-color: #666;\n",
              "  }\n",
              "\n",
              "  .colab-df-quickchart {\n",
              "    background-color: var(--bg-color);\n",
              "    border: none;\n",
              "    border-radius: 50%;\n",
              "    cursor: pointer;\n",
              "    display: none;\n",
              "    fill: var(--fill-color);\n",
              "    height: 32px;\n",
              "    padding: 0;\n",
              "    width: 32px;\n",
              "  }\n",
              "\n",
              "  .colab-df-quickchart:hover {\n",
              "    background-color: var(--hover-bg-color);\n",
              "    box-shadow: 0 1px 2px rgba(60, 64, 67, 0.3), 0 1px 3px 1px rgba(60, 64, 67, 0.15);\n",
              "    fill: var(--button-hover-fill-color);\n",
              "  }\n",
              "\n",
              "  .colab-df-quickchart-complete:disabled,\n",
              "  .colab-df-quickchart-complete:disabled:hover {\n",
              "    background-color: var(--disabled-bg-color);\n",
              "    fill: var(--disabled-fill-color);\n",
              "    box-shadow: none;\n",
              "  }\n",
              "\n",
              "  .colab-df-spinner {\n",
              "    border: 2px solid var(--fill-color);\n",
              "    border-color: transparent;\n",
              "    border-bottom-color: var(--fill-color);\n",
              "    animation:\n",
              "      spin 1s steps(1) infinite;\n",
              "  }\n",
              "\n",
              "  @keyframes spin {\n",
              "    0% {\n",
              "      border-color: transparent;\n",
              "      border-bottom-color: var(--fill-color);\n",
              "      border-left-color: var(--fill-color);\n",
              "    }\n",
              "    20% {\n",
              "      border-color: transparent;\n",
              "      border-left-color: var(--fill-color);\n",
              "      border-top-color: var(--fill-color);\n",
              "    }\n",
              "    30% {\n",
              "      border-color: transparent;\n",
              "      border-left-color: var(--fill-color);\n",
              "      border-top-color: var(--fill-color);\n",
              "      border-right-color: var(--fill-color);\n",
              "    }\n",
              "    40% {\n",
              "      border-color: transparent;\n",
              "      border-right-color: var(--fill-color);\n",
              "      border-top-color: var(--fill-color);\n",
              "    }\n",
              "    60% {\n",
              "      border-color: transparent;\n",
              "      border-right-color: var(--fill-color);\n",
              "    }\n",
              "    80% {\n",
              "      border-color: transparent;\n",
              "      border-right-color: var(--fill-color);\n",
              "      border-bottom-color: var(--fill-color);\n",
              "    }\n",
              "    90% {\n",
              "      border-color: transparent;\n",
              "      border-bottom-color: var(--fill-color);\n",
              "    }\n",
              "  }\n",
              "</style>\n",
              "\n",
              "      <script>\n",
              "        async function quickchart(key) {\n",
              "          const quickchartButtonEl =\n",
              "            document.querySelector('#' + key + ' button');\n",
              "          quickchartButtonEl.disabled = true;  // To prevent multiple clicks.\n",
              "          quickchartButtonEl.classList.add('colab-df-spinner');\n",
              "          try {\n",
              "            const charts = await google.colab.kernel.invokeFunction(\n",
              "                'suggestCharts', [key], {});\n",
              "          } catch (error) {\n",
              "            console.error('Error during call to suggestCharts:', error);\n",
              "          }\n",
              "          quickchartButtonEl.classList.remove('colab-df-spinner');\n",
              "          quickchartButtonEl.classList.add('colab-df-quickchart-complete');\n",
              "        }\n",
              "        (() => {\n",
              "          let quickchartButtonEl =\n",
              "            document.querySelector('#df-8b10e05d-66ea-41f3-88b0-9c1f7c49b1b8 button');\n",
              "          quickchartButtonEl.style.display =\n",
              "            google.colab.kernel.accessAllowed ? 'block' : 'none';\n",
              "        })();\n",
              "      </script>\n",
              "    </div>\n",
              "\n",
              "    </div>\n",
              "  </div>\n"
            ],
            "application/vnd.google.colaboratory.intrinsic+json": {
              "type": "dataframe",
              "summary": "{\n  \"name\": \"df[(df['price']>5000) & ( df['carat']>1)]\",\n  \"rows\": 12798,\n  \"fields\": [\n    {\n      \"column\": \"carat\",\n      \"properties\": {\n        \"dtype\": \"number\",\n        \"std\": 0.38382434765581713,\n        \"min\": 1.01,\n        \"max\": 5.01,\n        \"num_unique_values\": 191,\n        \"samples\": [\n          3.5,\n          1.53,\n          2.41\n        ],\n        \"semantic_type\": \"\",\n        \"description\": \"\"\n      }\n    },\n    {\n      \"column\": \"cut\",\n      \"properties\": {\n        \"dtype\": \"category\",\n        \"num_unique_values\": 5,\n        \"samples\": [\n          \"Very Good\",\n          \"Fair\",\n          \"Premium\"\n        ],\n        \"semantic_type\": \"\",\n        \"description\": \"\"\n      }\n    },\n    {\n      \"column\": \"color\",\n      \"properties\": {\n        \"dtype\": \"category\",\n        \"num_unique_values\": 7,\n        \"samples\": [\n          \"E\",\n          \"I\",\n          \"D\"\n        ],\n        \"semantic_type\": \"\",\n        \"description\": \"\"\n      }\n    },\n    {\n      \"column\": \"clarity\",\n      \"properties\": {\n        \"dtype\": \"category\",\n        \"num_unique_values\": 8,\n        \"samples\": [\n          \"SI1\",\n          \"VVS2\",\n          \"SI2\"\n        ],\n        \"semantic_type\": \"\",\n        \"description\": \"\"\n      }\n    },\n    {\n      \"column\": \"depth\",\n      \"properties\": {\n        \"dtype\": \"number\",\n        \"std\": 1.4428201454421226,\n        \"min\": 50.8,\n        \"max\": 70.6,\n        \"num_unique_values\": 142,\n        \"samples\": [\n          68.3,\n          60.4,\n          58.3\n        ],\n        \"semantic_type\": \"\",\n        \"description\": \"\"\n      }\n    },\n    {\n      \"column\": \"table\",\n      \"properties\": {\n        \"dtype\": \"number\",\n        \"std\": 2.118448529653645,\n        \"min\": 51.0,\n        \"max\": 95.0,\n        \"num_unique_values\": 85,\n        \"samples\": [\n          58.8,\n          56.0,\n          59.9\n        ],\n        \"semantic_type\": \"\",\n        \"description\": \"\"\n      }\n    },\n    {\n      \"column\": \"price\",\n      \"properties\": {\n        \"dtype\": \"number\",\n        \"std\": 3741,\n        \"min\": 5001,\n        \"max\": 18823,\n        \"num_unique_values\": 6797,\n        \"samples\": [\n          8991,\n          6019,\n          7828\n        ],\n        \"semantic_type\": \"\",\n        \"description\": \"\"\n      }\n    },\n    {\n      \"column\": \"x\",\n      \"properties\": {\n        \"dtype\": \"number\",\n        \"std\": 0.6246845207315055,\n        \"min\": 0.0,\n        \"max\": 10.74,\n        \"num_unique_values\": 319,\n        \"samples\": [\n          6.25,\n          8.76,\n          6.61\n        ],\n        \"semantic_type\": \"\",\n        \"description\": \"\"\n      }\n    },\n    {\n      \"column\": \"y\",\n      \"properties\": {\n        \"dtype\": \"number\",\n        \"std\": 0.7675205854062038,\n        \"min\": 0.0,\n        \"max\": 58.9,\n        \"num_unique_values\": 315,\n        \"samples\": [\n          8.09,\n          6.66,\n          7.72\n        ],\n        \"semantic_type\": \"\",\n        \"description\": \"\"\n      }\n    },\n    {\n      \"column\": \"z\",\n      \"properties\": {\n        \"dtype\": \"number\",\n        \"std\": 0.40069799646188115,\n        \"min\": 0.0,\n        \"max\": 8.06,\n        \"num_unique_values\": 221,\n        \"samples\": [\n          5.25,\n          5.28,\n          4.57\n        ],\n        \"semantic_type\": \"\",\n        \"description\": \"\"\n      }\n    }\n  ]\n}"
            }
          },
          "metadata": {},
          "execution_count": 77
        }
      ]
    },
    {
      "cell_type": "markdown",
      "source": [
        "###  9. Create a new column `price_updated` by increasing `price` by 10% using NumPy."
      ],
      "metadata": {
        "id": "eb59F6ngkYcI"
      }
    },
    {
      "cell_type": "code",
      "source": [
        "df = pd.read_csv('/content/drive/MyDrive/assignment11.csv')\n",
        "df['price_updated'] = df['price'] - (df['price'] * 0.1)\n",
        "df"
      ],
      "metadata": {
        "colab": {
          "base_uri": "https://localhost:8080/",
          "height": 461
        },
        "id": "dy81RWhikxxJ",
        "outputId": "0d81b6b8-da32-4405-a252-4c61c6dbea8f"
      },
      "execution_count": null,
      "outputs": [
        {
          "output_type": "execute_result",
          "data": {
            "text/plain": [
              "       carat        cut color clarity  depth  table  price     x     y     z  \\\n",
              "0       0.23      Ideal     E     SI2   61.5   55.0    326  3.95  3.98  2.43   \n",
              "1       0.21    Premium     E     SI1   59.8   61.0    326  3.89  3.84  2.31   \n",
              "2       0.23       Good     E     VS1   56.9   65.0    327  4.05  4.07  2.31   \n",
              "3       0.29    Premium     I     VS2   62.4   58.0    334  4.20  4.23  2.63   \n",
              "4       0.31       Good     J     SI2   63.3   58.0    335  4.34  4.35  2.75   \n",
              "...      ...        ...   ...     ...    ...    ...    ...   ...   ...   ...   \n",
              "49995   0.72      Ideal     D     SI1   60.8   57.0   2757  5.75  5.76  3.50   \n",
              "49996   0.72       Good     D     SI1   63.1   55.0   2757  5.69  5.75  3.61   \n",
              "49997   0.70  Very Good     D     SI1   62.8   60.0   2757  5.66  5.68  3.56   \n",
              "49998   0.86    Premium     H     SI2   61.0   58.0   2757  6.15  6.12  3.74   \n",
              "49999   0.75      Ideal     D     SI2   62.2   55.0   2757  5.83  5.87  3.64   \n",
              "\n",
              "       price_updated  \n",
              "0              293.4  \n",
              "1              293.4  \n",
              "2              294.3  \n",
              "3              300.6  \n",
              "4              301.5  \n",
              "...              ...  \n",
              "49995         2481.3  \n",
              "49996         2481.3  \n",
              "49997         2481.3  \n",
              "49998         2481.3  \n",
              "49999         2481.3  \n",
              "\n",
              "[50000 rows x 11 columns]"
            ],
            "text/html": [
              "\n",
              "  <div id=\"df-80ed97a8-ffd7-4f60-b4a3-5f201f5e9189\" class=\"colab-df-container\">\n",
              "    <div>\n",
              "<style scoped>\n",
              "    .dataframe tbody tr th:only-of-type {\n",
              "        vertical-align: middle;\n",
              "    }\n",
              "\n",
              "    .dataframe tbody tr th {\n",
              "        vertical-align: top;\n",
              "    }\n",
              "\n",
              "    .dataframe thead th {\n",
              "        text-align: right;\n",
              "    }\n",
              "</style>\n",
              "<table border=\"1\" class=\"dataframe\">\n",
              "  <thead>\n",
              "    <tr style=\"text-align: right;\">\n",
              "      <th></th>\n",
              "      <th>carat</th>\n",
              "      <th>cut</th>\n",
              "      <th>color</th>\n",
              "      <th>clarity</th>\n",
              "      <th>depth</th>\n",
              "      <th>table</th>\n",
              "      <th>price</th>\n",
              "      <th>x</th>\n",
              "      <th>y</th>\n",
              "      <th>z</th>\n",
              "      <th>price_updated</th>\n",
              "    </tr>\n",
              "  </thead>\n",
              "  <tbody>\n",
              "    <tr>\n",
              "      <th>0</th>\n",
              "      <td>0.23</td>\n",
              "      <td>Ideal</td>\n",
              "      <td>E</td>\n",
              "      <td>SI2</td>\n",
              "      <td>61.5</td>\n",
              "      <td>55.0</td>\n",
              "      <td>326</td>\n",
              "      <td>3.95</td>\n",
              "      <td>3.98</td>\n",
              "      <td>2.43</td>\n",
              "      <td>293.4</td>\n",
              "    </tr>\n",
              "    <tr>\n",
              "      <th>1</th>\n",
              "      <td>0.21</td>\n",
              "      <td>Premium</td>\n",
              "      <td>E</td>\n",
              "      <td>SI1</td>\n",
              "      <td>59.8</td>\n",
              "      <td>61.0</td>\n",
              "      <td>326</td>\n",
              "      <td>3.89</td>\n",
              "      <td>3.84</td>\n",
              "      <td>2.31</td>\n",
              "      <td>293.4</td>\n",
              "    </tr>\n",
              "    <tr>\n",
              "      <th>2</th>\n",
              "      <td>0.23</td>\n",
              "      <td>Good</td>\n",
              "      <td>E</td>\n",
              "      <td>VS1</td>\n",
              "      <td>56.9</td>\n",
              "      <td>65.0</td>\n",
              "      <td>327</td>\n",
              "      <td>4.05</td>\n",
              "      <td>4.07</td>\n",
              "      <td>2.31</td>\n",
              "      <td>294.3</td>\n",
              "    </tr>\n",
              "    <tr>\n",
              "      <th>3</th>\n",
              "      <td>0.29</td>\n",
              "      <td>Premium</td>\n",
              "      <td>I</td>\n",
              "      <td>VS2</td>\n",
              "      <td>62.4</td>\n",
              "      <td>58.0</td>\n",
              "      <td>334</td>\n",
              "      <td>4.20</td>\n",
              "      <td>4.23</td>\n",
              "      <td>2.63</td>\n",
              "      <td>300.6</td>\n",
              "    </tr>\n",
              "    <tr>\n",
              "      <th>4</th>\n",
              "      <td>0.31</td>\n",
              "      <td>Good</td>\n",
              "      <td>J</td>\n",
              "      <td>SI2</td>\n",
              "      <td>63.3</td>\n",
              "      <td>58.0</td>\n",
              "      <td>335</td>\n",
              "      <td>4.34</td>\n",
              "      <td>4.35</td>\n",
              "      <td>2.75</td>\n",
              "      <td>301.5</td>\n",
              "    </tr>\n",
              "    <tr>\n",
              "      <th>...</th>\n",
              "      <td>...</td>\n",
              "      <td>...</td>\n",
              "      <td>...</td>\n",
              "      <td>...</td>\n",
              "      <td>...</td>\n",
              "      <td>...</td>\n",
              "      <td>...</td>\n",
              "      <td>...</td>\n",
              "      <td>...</td>\n",
              "      <td>...</td>\n",
              "      <td>...</td>\n",
              "    </tr>\n",
              "    <tr>\n",
              "      <th>49995</th>\n",
              "      <td>0.72</td>\n",
              "      <td>Ideal</td>\n",
              "      <td>D</td>\n",
              "      <td>SI1</td>\n",
              "      <td>60.8</td>\n",
              "      <td>57.0</td>\n",
              "      <td>2757</td>\n",
              "      <td>5.75</td>\n",
              "      <td>5.76</td>\n",
              "      <td>3.50</td>\n",
              "      <td>2481.3</td>\n",
              "    </tr>\n",
              "    <tr>\n",
              "      <th>49996</th>\n",
              "      <td>0.72</td>\n",
              "      <td>Good</td>\n",
              "      <td>D</td>\n",
              "      <td>SI1</td>\n",
              "      <td>63.1</td>\n",
              "      <td>55.0</td>\n",
              "      <td>2757</td>\n",
              "      <td>5.69</td>\n",
              "      <td>5.75</td>\n",
              "      <td>3.61</td>\n",
              "      <td>2481.3</td>\n",
              "    </tr>\n",
              "    <tr>\n",
              "      <th>49997</th>\n",
              "      <td>0.70</td>\n",
              "      <td>Very Good</td>\n",
              "      <td>D</td>\n",
              "      <td>SI1</td>\n",
              "      <td>62.8</td>\n",
              "      <td>60.0</td>\n",
              "      <td>2757</td>\n",
              "      <td>5.66</td>\n",
              "      <td>5.68</td>\n",
              "      <td>3.56</td>\n",
              "      <td>2481.3</td>\n",
              "    </tr>\n",
              "    <tr>\n",
              "      <th>49998</th>\n",
              "      <td>0.86</td>\n",
              "      <td>Premium</td>\n",
              "      <td>H</td>\n",
              "      <td>SI2</td>\n",
              "      <td>61.0</td>\n",
              "      <td>58.0</td>\n",
              "      <td>2757</td>\n",
              "      <td>6.15</td>\n",
              "      <td>6.12</td>\n",
              "      <td>3.74</td>\n",
              "      <td>2481.3</td>\n",
              "    </tr>\n",
              "    <tr>\n",
              "      <th>49999</th>\n",
              "      <td>0.75</td>\n",
              "      <td>Ideal</td>\n",
              "      <td>D</td>\n",
              "      <td>SI2</td>\n",
              "      <td>62.2</td>\n",
              "      <td>55.0</td>\n",
              "      <td>2757</td>\n",
              "      <td>5.83</td>\n",
              "      <td>5.87</td>\n",
              "      <td>3.64</td>\n",
              "      <td>2481.3</td>\n",
              "    </tr>\n",
              "  </tbody>\n",
              "</table>\n",
              "<p>50000 rows × 11 columns</p>\n",
              "</div>\n",
              "    <div class=\"colab-df-buttons\">\n",
              "\n",
              "  <div class=\"colab-df-container\">\n",
              "    <button class=\"colab-df-convert\" onclick=\"convertToInteractive('df-80ed97a8-ffd7-4f60-b4a3-5f201f5e9189')\"\n",
              "            title=\"Convert this dataframe to an interactive table.\"\n",
              "            style=\"display:none;\">\n",
              "\n",
              "  <svg xmlns=\"http://www.w3.org/2000/svg\" height=\"24px\" viewBox=\"0 -960 960 960\">\n",
              "    <path d=\"M120-120v-720h720v720H120Zm60-500h600v-160H180v160Zm220 220h160v-160H400v160Zm0 220h160v-160H400v160ZM180-400h160v-160H180v160Zm440 0h160v-160H620v160ZM180-180h160v-160H180v160Zm440 0h160v-160H620v160Z\"/>\n",
              "  </svg>\n",
              "    </button>\n",
              "\n",
              "  <style>\n",
              "    .colab-df-container {\n",
              "      display:flex;\n",
              "      gap: 12px;\n",
              "    }\n",
              "\n",
              "    .colab-df-convert {\n",
              "      background-color: #E8F0FE;\n",
              "      border: none;\n",
              "      border-radius: 50%;\n",
              "      cursor: pointer;\n",
              "      display: none;\n",
              "      fill: #1967D2;\n",
              "      height: 32px;\n",
              "      padding: 0 0 0 0;\n",
              "      width: 32px;\n",
              "    }\n",
              "\n",
              "    .colab-df-convert:hover {\n",
              "      background-color: #E2EBFA;\n",
              "      box-shadow: 0px 1px 2px rgba(60, 64, 67, 0.3), 0px 1px 3px 1px rgba(60, 64, 67, 0.15);\n",
              "      fill: #174EA6;\n",
              "    }\n",
              "\n",
              "    .colab-df-buttons div {\n",
              "      margin-bottom: 4px;\n",
              "    }\n",
              "\n",
              "    [theme=dark] .colab-df-convert {\n",
              "      background-color: #3B4455;\n",
              "      fill: #D2E3FC;\n",
              "    }\n",
              "\n",
              "    [theme=dark] .colab-df-convert:hover {\n",
              "      background-color: #434B5C;\n",
              "      box-shadow: 0px 1px 3px 1px rgba(0, 0, 0, 0.15);\n",
              "      filter: drop-shadow(0px 1px 2px rgba(0, 0, 0, 0.3));\n",
              "      fill: #FFFFFF;\n",
              "    }\n",
              "  </style>\n",
              "\n",
              "    <script>\n",
              "      const buttonEl =\n",
              "        document.querySelector('#df-80ed97a8-ffd7-4f60-b4a3-5f201f5e9189 button.colab-df-convert');\n",
              "      buttonEl.style.display =\n",
              "        google.colab.kernel.accessAllowed ? 'block' : 'none';\n",
              "\n",
              "      async function convertToInteractive(key) {\n",
              "        const element = document.querySelector('#df-80ed97a8-ffd7-4f60-b4a3-5f201f5e9189');\n",
              "        const dataTable =\n",
              "          await google.colab.kernel.invokeFunction('convertToInteractive',\n",
              "                                                    [key], {});\n",
              "        if (!dataTable) return;\n",
              "\n",
              "        const docLinkHtml = 'Like what you see? Visit the ' +\n",
              "          '<a target=\"_blank\" href=https://colab.research.google.com/notebooks/data_table.ipynb>data table notebook</a>'\n",
              "          + ' to learn more about interactive tables.';\n",
              "        element.innerHTML = '';\n",
              "        dataTable['output_type'] = 'display_data';\n",
              "        await google.colab.output.renderOutput(dataTable, element);\n",
              "        const docLink = document.createElement('div');\n",
              "        docLink.innerHTML = docLinkHtml;\n",
              "        element.appendChild(docLink);\n",
              "      }\n",
              "    </script>\n",
              "  </div>\n",
              "\n",
              "\n",
              "    <div id=\"df-b3d7831c-363b-498f-9fc9-83116ff563aa\">\n",
              "      <button class=\"colab-df-quickchart\" onclick=\"quickchart('df-b3d7831c-363b-498f-9fc9-83116ff563aa')\"\n",
              "                title=\"Suggest charts\"\n",
              "                style=\"display:none;\">\n",
              "\n",
              "<svg xmlns=\"http://www.w3.org/2000/svg\" height=\"24px\"viewBox=\"0 0 24 24\"\n",
              "     width=\"24px\">\n",
              "    <g>\n",
              "        <path d=\"M19 3H5c-1.1 0-2 .9-2 2v14c0 1.1.9 2 2 2h14c1.1 0 2-.9 2-2V5c0-1.1-.9-2-2-2zM9 17H7v-7h2v7zm4 0h-2V7h2v10zm4 0h-2v-4h2v4z\"/>\n",
              "    </g>\n",
              "</svg>\n",
              "      </button>\n",
              "\n",
              "<style>\n",
              "  .colab-df-quickchart {\n",
              "      --bg-color: #E8F0FE;\n",
              "      --fill-color: #1967D2;\n",
              "      --hover-bg-color: #E2EBFA;\n",
              "      --hover-fill-color: #174EA6;\n",
              "      --disabled-fill-color: #AAA;\n",
              "      --disabled-bg-color: #DDD;\n",
              "  }\n",
              "\n",
              "  [theme=dark] .colab-df-quickchart {\n",
              "      --bg-color: #3B4455;\n",
              "      --fill-color: #D2E3FC;\n",
              "      --hover-bg-color: #434B5C;\n",
              "      --hover-fill-color: #FFFFFF;\n",
              "      --disabled-bg-color: #3B4455;\n",
              "      --disabled-fill-color: #666;\n",
              "  }\n",
              "\n",
              "  .colab-df-quickchart {\n",
              "    background-color: var(--bg-color);\n",
              "    border: none;\n",
              "    border-radius: 50%;\n",
              "    cursor: pointer;\n",
              "    display: none;\n",
              "    fill: var(--fill-color);\n",
              "    height: 32px;\n",
              "    padding: 0;\n",
              "    width: 32px;\n",
              "  }\n",
              "\n",
              "  .colab-df-quickchart:hover {\n",
              "    background-color: var(--hover-bg-color);\n",
              "    box-shadow: 0 1px 2px rgba(60, 64, 67, 0.3), 0 1px 3px 1px rgba(60, 64, 67, 0.15);\n",
              "    fill: var(--button-hover-fill-color);\n",
              "  }\n",
              "\n",
              "  .colab-df-quickchart-complete:disabled,\n",
              "  .colab-df-quickchart-complete:disabled:hover {\n",
              "    background-color: var(--disabled-bg-color);\n",
              "    fill: var(--disabled-fill-color);\n",
              "    box-shadow: none;\n",
              "  }\n",
              "\n",
              "  .colab-df-spinner {\n",
              "    border: 2px solid var(--fill-color);\n",
              "    border-color: transparent;\n",
              "    border-bottom-color: var(--fill-color);\n",
              "    animation:\n",
              "      spin 1s steps(1) infinite;\n",
              "  }\n",
              "\n",
              "  @keyframes spin {\n",
              "    0% {\n",
              "      border-color: transparent;\n",
              "      border-bottom-color: var(--fill-color);\n",
              "      border-left-color: var(--fill-color);\n",
              "    }\n",
              "    20% {\n",
              "      border-color: transparent;\n",
              "      border-left-color: var(--fill-color);\n",
              "      border-top-color: var(--fill-color);\n",
              "    }\n",
              "    30% {\n",
              "      border-color: transparent;\n",
              "      border-left-color: var(--fill-color);\n",
              "      border-top-color: var(--fill-color);\n",
              "      border-right-color: var(--fill-color);\n",
              "    }\n",
              "    40% {\n",
              "      border-color: transparent;\n",
              "      border-right-color: var(--fill-color);\n",
              "      border-top-color: var(--fill-color);\n",
              "    }\n",
              "    60% {\n",
              "      border-color: transparent;\n",
              "      border-right-color: var(--fill-color);\n",
              "    }\n",
              "    80% {\n",
              "      border-color: transparent;\n",
              "      border-right-color: var(--fill-color);\n",
              "      border-bottom-color: var(--fill-color);\n",
              "    }\n",
              "    90% {\n",
              "      border-color: transparent;\n",
              "      border-bottom-color: var(--fill-color);\n",
              "    }\n",
              "  }\n",
              "</style>\n",
              "\n",
              "      <script>\n",
              "        async function quickchart(key) {\n",
              "          const quickchartButtonEl =\n",
              "            document.querySelector('#' + key + ' button');\n",
              "          quickchartButtonEl.disabled = true;  // To prevent multiple clicks.\n",
              "          quickchartButtonEl.classList.add('colab-df-spinner');\n",
              "          try {\n",
              "            const charts = await google.colab.kernel.invokeFunction(\n",
              "                'suggestCharts', [key], {});\n",
              "          } catch (error) {\n",
              "            console.error('Error during call to suggestCharts:', error);\n",
              "          }\n",
              "          quickchartButtonEl.classList.remove('colab-df-spinner');\n",
              "          quickchartButtonEl.classList.add('colab-df-quickchart-complete');\n",
              "        }\n",
              "        (() => {\n",
              "          let quickchartButtonEl =\n",
              "            document.querySelector('#df-b3d7831c-363b-498f-9fc9-83116ff563aa button');\n",
              "          quickchartButtonEl.style.display =\n",
              "            google.colab.kernel.accessAllowed ? 'block' : 'none';\n",
              "        })();\n",
              "      </script>\n",
              "    </div>\n",
              "\n",
              "  <div id=\"id_cc456651-9586-4585-9793-a7b3f8c9e28f\">\n",
              "    <style>\n",
              "      .colab-df-generate {\n",
              "        background-color: #E8F0FE;\n",
              "        border: none;\n",
              "        border-radius: 50%;\n",
              "        cursor: pointer;\n",
              "        display: none;\n",
              "        fill: #1967D2;\n",
              "        height: 32px;\n",
              "        padding: 0 0 0 0;\n",
              "        width: 32px;\n",
              "      }\n",
              "\n",
              "      .colab-df-generate:hover {\n",
              "        background-color: #E2EBFA;\n",
              "        box-shadow: 0px 1px 2px rgba(60, 64, 67, 0.3), 0px 1px 3px 1px rgba(60, 64, 67, 0.15);\n",
              "        fill: #174EA6;\n",
              "      }\n",
              "\n",
              "      [theme=dark] .colab-df-generate {\n",
              "        background-color: #3B4455;\n",
              "        fill: #D2E3FC;\n",
              "      }\n",
              "\n",
              "      [theme=dark] .colab-df-generate:hover {\n",
              "        background-color: #434B5C;\n",
              "        box-shadow: 0px 1px 3px 1px rgba(0, 0, 0, 0.15);\n",
              "        filter: drop-shadow(0px 1px 2px rgba(0, 0, 0, 0.3));\n",
              "        fill: #FFFFFF;\n",
              "      }\n",
              "    </style>\n",
              "    <button class=\"colab-df-generate\" onclick=\"generateWithVariable('df')\"\n",
              "            title=\"Generate code using this dataframe.\"\n",
              "            style=\"display:none;\">\n",
              "\n",
              "  <svg xmlns=\"http://www.w3.org/2000/svg\" height=\"24px\"viewBox=\"0 0 24 24\"\n",
              "       width=\"24px\">\n",
              "    <path d=\"M7,19H8.4L18.45,9,17,7.55,7,17.6ZM5,21V16.75L18.45,3.32a2,2,0,0,1,2.83,0l1.4,1.43a1.91,1.91,0,0,1,.58,1.4,1.91,1.91,0,0,1-.58,1.4L9.25,21ZM18.45,9,17,7.55Zm-12,3A5.31,5.31,0,0,0,4.9,8.1,5.31,5.31,0,0,0,1,6.5,5.31,5.31,0,0,0,4.9,4.9,5.31,5.31,0,0,0,6.5,1,5.31,5.31,0,0,0,8.1,4.9,5.31,5.31,0,0,0,12,6.5,5.46,5.46,0,0,0,6.5,12Z\"/>\n",
              "  </svg>\n",
              "    </button>\n",
              "    <script>\n",
              "      (() => {\n",
              "      const buttonEl =\n",
              "        document.querySelector('#id_cc456651-9586-4585-9793-a7b3f8c9e28f button.colab-df-generate');\n",
              "      buttonEl.style.display =\n",
              "        google.colab.kernel.accessAllowed ? 'block' : 'none';\n",
              "\n",
              "      buttonEl.onclick = () => {\n",
              "        google.colab.notebook.generateWithVariable('df');\n",
              "      }\n",
              "      })();\n",
              "    </script>\n",
              "  </div>\n",
              "\n",
              "    </div>\n",
              "  </div>\n"
            ],
            "application/vnd.google.colaboratory.intrinsic+json": {
              "type": "dataframe",
              "variable_name": "df",
              "summary": "{\n  \"name\": \"df\",\n  \"rows\": 50000,\n  \"fields\": [\n    {\n      \"column\": \"carat\",\n      \"properties\": {\n        \"dtype\": \"number\",\n        \"std\": 0.4751729878991273,\n        \"min\": 0.2,\n        \"max\": 5.01,\n        \"num_unique_values\": 272,\n        \"samples\": [\n          0.63,\n          1.54,\n          1.5\n        ],\n        \"semantic_type\": \"\",\n        \"description\": \"\"\n      }\n    },\n    {\n      \"column\": \"cut\",\n      \"properties\": {\n        \"dtype\": \"category\",\n        \"num_unique_values\": 5,\n        \"samples\": [\n          \"Premium\",\n          \"Fair\",\n          \"Good\"\n        ],\n        \"semantic_type\": \"\",\n        \"description\": \"\"\n      }\n    },\n    {\n      \"column\": \"color\",\n      \"properties\": {\n        \"dtype\": \"category\",\n        \"num_unique_values\": 7,\n        \"samples\": [\n          \"E\",\n          \"I\",\n          \"G\"\n        ],\n        \"semantic_type\": \"\",\n        \"description\": \"\"\n      }\n    },\n    {\n      \"column\": \"clarity\",\n      \"properties\": {\n        \"dtype\": \"category\",\n        \"num_unique_values\": 8,\n        \"samples\": [\n          \"SI1\",\n          \"VVS1\",\n          \"SI2\"\n        ],\n        \"semantic_type\": \"\",\n        \"description\": \"\"\n      }\n    },\n    {\n      \"column\": \"depth\",\n      \"properties\": {\n        \"dtype\": \"number\",\n        \"std\": 1.4310875319819645,\n        \"min\": 43.0,\n        \"max\": 79.0,\n        \"num_unique_values\": 181,\n        \"samples\": [\n          61.0,\n          59.2,\n          70.2\n        ],\n        \"semantic_type\": \"\",\n        \"description\": \"\"\n      }\n    },\n    {\n      \"column\": \"table\",\n      \"properties\": {\n        \"dtype\": \"number\",\n        \"std\": 2.232091739999323,\n        \"min\": 43.0,\n        \"max\": 95.0,\n        \"num_unique_values\": 126,\n        \"samples\": [\n          58.5,\n          68.0,\n          63.3\n        ],\n        \"semantic_type\": \"\",\n        \"description\": \"\"\n      }\n    },\n    {\n      \"column\": \"price\",\n      \"properties\": {\n        \"dtype\": \"number\",\n        \"std\": 3997,\n        \"min\": 326,\n        \"max\": 18823,\n        \"num_unique_values\": 11297,\n        \"samples\": [\n          6910,\n          14182,\n          2714\n        ],\n        \"semantic_type\": \"\",\n        \"description\": \"\"\n      }\n    },\n    {\n      \"column\": \"x\",\n      \"properties\": {\n        \"dtype\": \"number\",\n        \"std\": 1.1230773250858357,\n        \"min\": 0.0,\n        \"max\": 10.74,\n        \"num_unique_values\": 553,\n        \"samples\": [\n          5.02,\n          5.53,\n          9.51\n        ],\n        \"semantic_type\": \"\",\n        \"description\": \"\"\n      }\n    },\n    {\n      \"column\": \"y\",\n      \"properties\": {\n        \"dtype\": \"number\",\n        \"std\": 1.1455791612679045,\n        \"min\": 0.0,\n        \"max\": 58.9,\n        \"num_unique_values\": 551,\n        \"samples\": [\n          5.33,\n          5.58,\n          4.57\n        ],\n        \"semantic_type\": \"\",\n        \"description\": \"\"\n      }\n    },\n    {\n      \"column\": \"z\",\n      \"properties\": {\n        \"dtype\": \"number\",\n        \"std\": 0.7070647096794844,\n        \"min\": 0.0,\n        \"max\": 31.8,\n        \"num_unique_values\": 371,\n        \"samples\": [\n          5.48,\n          2.69,\n          2.7\n        ],\n        \"semantic_type\": \"\",\n        \"description\": \"\"\n      }\n    },\n    {\n      \"column\": \"price_updated\",\n      \"properties\": {\n        \"dtype\": \"number\",\n        \"std\": 3598.1442941755968,\n        \"min\": 293.4,\n        \"max\": 16940.7,\n        \"num_unique_values\": 11297,\n        \"samples\": [\n          6219.0,\n          12763.8,\n          2442.6\n        ],\n        \"semantic_type\": \"\",\n        \"description\": \"\"\n      }\n    }\n  ]\n}"
            }
          },
          "metadata": {},
          "execution_count": 80
        }
      ]
    },
    {
      "cell_type": "markdown",
      "source": [
        "###  10. Create a `volume` column as `x*y*z` and find the average `price` where `volume > 50`."
      ],
      "metadata": {
        "id": "8uhrRoZWmqiS"
      }
    },
    {
      "cell_type": "code",
      "source": [],
      "metadata": {
        "id": "DYYT1fjWUiOu"
      },
      "execution_count": null,
      "outputs": []
    },
    {
      "cell_type": "code",
      "source": [
        "df = pd.read_csv('/content/drive/MyDrive/assignment11.csv')\n",
        "df['volume'] = df['x'] * df['y'] * df['z']\n",
        "avg_price = df[df['volume'] > 50]['price'].mean()\n",
        "print(df.head())\n",
        "print(f\"average price:{avg_price}\")\n",
        "df"
      ],
      "metadata": {
        "colab": {
          "base_uri": "https://localhost:8080/",
          "height": 715
        },
        "id": "gQemADEDmuVP",
        "outputId": "61bf0508-6ffe-4739-fbe2-0741d6f9eefd"
      },
      "execution_count": null,
      "outputs": [
        {
          "output_type": "stream",
          "name": "stdout",
          "text": [
            "   carat      cut color clarity  depth  table  price     x     y     z  \\\n",
            "0   0.23    Ideal     E     SI2   61.5   55.0    326  3.95  3.98  2.43   \n",
            "1   0.21  Premium     E     SI1   59.8   61.0    326  3.89  3.84  2.31   \n",
            "2   0.23     Good     E     VS1   56.9   65.0    327  4.05  4.07  2.31   \n",
            "3   0.29  Premium     I     VS2   62.4   58.0    334  4.20  4.23  2.63   \n",
            "4   0.31     Good     J     SI2   63.3   58.0    335  4.34  4.35  2.75   \n",
            "\n",
            "      volume  \n",
            "0  38.202030  \n",
            "1  34.505856  \n",
            "2  38.076885  \n",
            "3  46.724580  \n",
            "4  51.917250  \n",
            "average price:4195.133420860057\n"
          ]
        },
        {
          "output_type": "execute_result",
          "data": {
            "text/plain": [
              "       carat        cut color clarity  depth  table  price     x     y     z  \\\n",
              "0       0.23      Ideal     E     SI2   61.5   55.0    326  3.95  3.98  2.43   \n",
              "1       0.21    Premium     E     SI1   59.8   61.0    326  3.89  3.84  2.31   \n",
              "2       0.23       Good     E     VS1   56.9   65.0    327  4.05  4.07  2.31   \n",
              "3       0.29    Premium     I     VS2   62.4   58.0    334  4.20  4.23  2.63   \n",
              "4       0.31       Good     J     SI2   63.3   58.0    335  4.34  4.35  2.75   \n",
              "...      ...        ...   ...     ...    ...    ...    ...   ...   ...   ...   \n",
              "49995   0.72      Ideal     D     SI1   60.8   57.0   2757  5.75  5.76  3.50   \n",
              "49996   0.72       Good     D     SI1   63.1   55.0   2757  5.69  5.75  3.61   \n",
              "49997   0.70  Very Good     D     SI1   62.8   60.0   2757  5.66  5.68  3.56   \n",
              "49998   0.86    Premium     H     SI2   61.0   58.0   2757  6.15  6.12  3.74   \n",
              "49999   0.75      Ideal     D     SI2   62.2   55.0   2757  5.83  5.87  3.64   \n",
              "\n",
              "           volume  \n",
              "0       38.202030  \n",
              "1       34.505856  \n",
              "2       38.076885  \n",
              "3       46.724580  \n",
              "4       51.917250  \n",
              "...           ...  \n",
              "49995  115.920000  \n",
              "49996  118.110175  \n",
              "49997  114.449728  \n",
              "49998  140.766120  \n",
              "49999  124.568444  \n",
              "\n",
              "[50000 rows x 11 columns]"
            ],
            "text/html": [
              "\n",
              "  <div id=\"df-55fa212e-42fe-4a3b-ab84-79e35b7e1ce1\" class=\"colab-df-container\">\n",
              "    <div>\n",
              "<style scoped>\n",
              "    .dataframe tbody tr th:only-of-type {\n",
              "        vertical-align: middle;\n",
              "    }\n",
              "\n",
              "    .dataframe tbody tr th {\n",
              "        vertical-align: top;\n",
              "    }\n",
              "\n",
              "    .dataframe thead th {\n",
              "        text-align: right;\n",
              "    }\n",
              "</style>\n",
              "<table border=\"1\" class=\"dataframe\">\n",
              "  <thead>\n",
              "    <tr style=\"text-align: right;\">\n",
              "      <th></th>\n",
              "      <th>carat</th>\n",
              "      <th>cut</th>\n",
              "      <th>color</th>\n",
              "      <th>clarity</th>\n",
              "      <th>depth</th>\n",
              "      <th>table</th>\n",
              "      <th>price</th>\n",
              "      <th>x</th>\n",
              "      <th>y</th>\n",
              "      <th>z</th>\n",
              "      <th>volume</th>\n",
              "    </tr>\n",
              "  </thead>\n",
              "  <tbody>\n",
              "    <tr>\n",
              "      <th>0</th>\n",
              "      <td>0.23</td>\n",
              "      <td>Ideal</td>\n",
              "      <td>E</td>\n",
              "      <td>SI2</td>\n",
              "      <td>61.5</td>\n",
              "      <td>55.0</td>\n",
              "      <td>326</td>\n",
              "      <td>3.95</td>\n",
              "      <td>3.98</td>\n",
              "      <td>2.43</td>\n",
              "      <td>38.202030</td>\n",
              "    </tr>\n",
              "    <tr>\n",
              "      <th>1</th>\n",
              "      <td>0.21</td>\n",
              "      <td>Premium</td>\n",
              "      <td>E</td>\n",
              "      <td>SI1</td>\n",
              "      <td>59.8</td>\n",
              "      <td>61.0</td>\n",
              "      <td>326</td>\n",
              "      <td>3.89</td>\n",
              "      <td>3.84</td>\n",
              "      <td>2.31</td>\n",
              "      <td>34.505856</td>\n",
              "    </tr>\n",
              "    <tr>\n",
              "      <th>2</th>\n",
              "      <td>0.23</td>\n",
              "      <td>Good</td>\n",
              "      <td>E</td>\n",
              "      <td>VS1</td>\n",
              "      <td>56.9</td>\n",
              "      <td>65.0</td>\n",
              "      <td>327</td>\n",
              "      <td>4.05</td>\n",
              "      <td>4.07</td>\n",
              "      <td>2.31</td>\n",
              "      <td>38.076885</td>\n",
              "    </tr>\n",
              "    <tr>\n",
              "      <th>3</th>\n",
              "      <td>0.29</td>\n",
              "      <td>Premium</td>\n",
              "      <td>I</td>\n",
              "      <td>VS2</td>\n",
              "      <td>62.4</td>\n",
              "      <td>58.0</td>\n",
              "      <td>334</td>\n",
              "      <td>4.20</td>\n",
              "      <td>4.23</td>\n",
              "      <td>2.63</td>\n",
              "      <td>46.724580</td>\n",
              "    </tr>\n",
              "    <tr>\n",
              "      <th>4</th>\n",
              "      <td>0.31</td>\n",
              "      <td>Good</td>\n",
              "      <td>J</td>\n",
              "      <td>SI2</td>\n",
              "      <td>63.3</td>\n",
              "      <td>58.0</td>\n",
              "      <td>335</td>\n",
              "      <td>4.34</td>\n",
              "      <td>4.35</td>\n",
              "      <td>2.75</td>\n",
              "      <td>51.917250</td>\n",
              "    </tr>\n",
              "    <tr>\n",
              "      <th>...</th>\n",
              "      <td>...</td>\n",
              "      <td>...</td>\n",
              "      <td>...</td>\n",
              "      <td>...</td>\n",
              "      <td>...</td>\n",
              "      <td>...</td>\n",
              "      <td>...</td>\n",
              "      <td>...</td>\n",
              "      <td>...</td>\n",
              "      <td>...</td>\n",
              "      <td>...</td>\n",
              "    </tr>\n",
              "    <tr>\n",
              "      <th>49995</th>\n",
              "      <td>0.72</td>\n",
              "      <td>Ideal</td>\n",
              "      <td>D</td>\n",
              "      <td>SI1</td>\n",
              "      <td>60.8</td>\n",
              "      <td>57.0</td>\n",
              "      <td>2757</td>\n",
              "      <td>5.75</td>\n",
              "      <td>5.76</td>\n",
              "      <td>3.50</td>\n",
              "      <td>115.920000</td>\n",
              "    </tr>\n",
              "    <tr>\n",
              "      <th>49996</th>\n",
              "      <td>0.72</td>\n",
              "      <td>Good</td>\n",
              "      <td>D</td>\n",
              "      <td>SI1</td>\n",
              "      <td>63.1</td>\n",
              "      <td>55.0</td>\n",
              "      <td>2757</td>\n",
              "      <td>5.69</td>\n",
              "      <td>5.75</td>\n",
              "      <td>3.61</td>\n",
              "      <td>118.110175</td>\n",
              "    </tr>\n",
              "    <tr>\n",
              "      <th>49997</th>\n",
              "      <td>0.70</td>\n",
              "      <td>Very Good</td>\n",
              "      <td>D</td>\n",
              "      <td>SI1</td>\n",
              "      <td>62.8</td>\n",
              "      <td>60.0</td>\n",
              "      <td>2757</td>\n",
              "      <td>5.66</td>\n",
              "      <td>5.68</td>\n",
              "      <td>3.56</td>\n",
              "      <td>114.449728</td>\n",
              "    </tr>\n",
              "    <tr>\n",
              "      <th>49998</th>\n",
              "      <td>0.86</td>\n",
              "      <td>Premium</td>\n",
              "      <td>H</td>\n",
              "      <td>SI2</td>\n",
              "      <td>61.0</td>\n",
              "      <td>58.0</td>\n",
              "      <td>2757</td>\n",
              "      <td>6.15</td>\n",
              "      <td>6.12</td>\n",
              "      <td>3.74</td>\n",
              "      <td>140.766120</td>\n",
              "    </tr>\n",
              "    <tr>\n",
              "      <th>49999</th>\n",
              "      <td>0.75</td>\n",
              "      <td>Ideal</td>\n",
              "      <td>D</td>\n",
              "      <td>SI2</td>\n",
              "      <td>62.2</td>\n",
              "      <td>55.0</td>\n",
              "      <td>2757</td>\n",
              "      <td>5.83</td>\n",
              "      <td>5.87</td>\n",
              "      <td>3.64</td>\n",
              "      <td>124.568444</td>\n",
              "    </tr>\n",
              "  </tbody>\n",
              "</table>\n",
              "<p>50000 rows × 11 columns</p>\n",
              "</div>\n",
              "    <div class=\"colab-df-buttons\">\n",
              "\n",
              "  <div class=\"colab-df-container\">\n",
              "    <button class=\"colab-df-convert\" onclick=\"convertToInteractive('df-55fa212e-42fe-4a3b-ab84-79e35b7e1ce1')\"\n",
              "            title=\"Convert this dataframe to an interactive table.\"\n",
              "            style=\"display:none;\">\n",
              "\n",
              "  <svg xmlns=\"http://www.w3.org/2000/svg\" height=\"24px\" viewBox=\"0 -960 960 960\">\n",
              "    <path d=\"M120-120v-720h720v720H120Zm60-500h600v-160H180v160Zm220 220h160v-160H400v160Zm0 220h160v-160H400v160ZM180-400h160v-160H180v160Zm440 0h160v-160H620v160ZM180-180h160v-160H180v160Zm440 0h160v-160H620v160Z\"/>\n",
              "  </svg>\n",
              "    </button>\n",
              "\n",
              "  <style>\n",
              "    .colab-df-container {\n",
              "      display:flex;\n",
              "      gap: 12px;\n",
              "    }\n",
              "\n",
              "    .colab-df-convert {\n",
              "      background-color: #E8F0FE;\n",
              "      border: none;\n",
              "      border-radius: 50%;\n",
              "      cursor: pointer;\n",
              "      display: none;\n",
              "      fill: #1967D2;\n",
              "      height: 32px;\n",
              "      padding: 0 0 0 0;\n",
              "      width: 32px;\n",
              "    }\n",
              "\n",
              "    .colab-df-convert:hover {\n",
              "      background-color: #E2EBFA;\n",
              "      box-shadow: 0px 1px 2px rgba(60, 64, 67, 0.3), 0px 1px 3px 1px rgba(60, 64, 67, 0.15);\n",
              "      fill: #174EA6;\n",
              "    }\n",
              "\n",
              "    .colab-df-buttons div {\n",
              "      margin-bottom: 4px;\n",
              "    }\n",
              "\n",
              "    [theme=dark] .colab-df-convert {\n",
              "      background-color: #3B4455;\n",
              "      fill: #D2E3FC;\n",
              "    }\n",
              "\n",
              "    [theme=dark] .colab-df-convert:hover {\n",
              "      background-color: #434B5C;\n",
              "      box-shadow: 0px 1px 3px 1px rgba(0, 0, 0, 0.15);\n",
              "      filter: drop-shadow(0px 1px 2px rgba(0, 0, 0, 0.3));\n",
              "      fill: #FFFFFF;\n",
              "    }\n",
              "  </style>\n",
              "\n",
              "    <script>\n",
              "      const buttonEl =\n",
              "        document.querySelector('#df-55fa212e-42fe-4a3b-ab84-79e35b7e1ce1 button.colab-df-convert');\n",
              "      buttonEl.style.display =\n",
              "        google.colab.kernel.accessAllowed ? 'block' : 'none';\n",
              "\n",
              "      async function convertToInteractive(key) {\n",
              "        const element = document.querySelector('#df-55fa212e-42fe-4a3b-ab84-79e35b7e1ce1');\n",
              "        const dataTable =\n",
              "          await google.colab.kernel.invokeFunction('convertToInteractive',\n",
              "                                                    [key], {});\n",
              "        if (!dataTable) return;\n",
              "\n",
              "        const docLinkHtml = 'Like what you see? Visit the ' +\n",
              "          '<a target=\"_blank\" href=https://colab.research.google.com/notebooks/data_table.ipynb>data table notebook</a>'\n",
              "          + ' to learn more about interactive tables.';\n",
              "        element.innerHTML = '';\n",
              "        dataTable['output_type'] = 'display_data';\n",
              "        await google.colab.output.renderOutput(dataTable, element);\n",
              "        const docLink = document.createElement('div');\n",
              "        docLink.innerHTML = docLinkHtml;\n",
              "        element.appendChild(docLink);\n",
              "      }\n",
              "    </script>\n",
              "  </div>\n",
              "\n",
              "\n",
              "    <div id=\"df-c0894a0d-0249-4cde-b850-a8719a4a692d\">\n",
              "      <button class=\"colab-df-quickchart\" onclick=\"quickchart('df-c0894a0d-0249-4cde-b850-a8719a4a692d')\"\n",
              "                title=\"Suggest charts\"\n",
              "                style=\"display:none;\">\n",
              "\n",
              "<svg xmlns=\"http://www.w3.org/2000/svg\" height=\"24px\"viewBox=\"0 0 24 24\"\n",
              "     width=\"24px\">\n",
              "    <g>\n",
              "        <path d=\"M19 3H5c-1.1 0-2 .9-2 2v14c0 1.1.9 2 2 2h14c1.1 0 2-.9 2-2V5c0-1.1-.9-2-2-2zM9 17H7v-7h2v7zm4 0h-2V7h2v10zm4 0h-2v-4h2v4z\"/>\n",
              "    </g>\n",
              "</svg>\n",
              "      </button>\n",
              "\n",
              "<style>\n",
              "  .colab-df-quickchart {\n",
              "      --bg-color: #E8F0FE;\n",
              "      --fill-color: #1967D2;\n",
              "      --hover-bg-color: #E2EBFA;\n",
              "      --hover-fill-color: #174EA6;\n",
              "      --disabled-fill-color: #AAA;\n",
              "      --disabled-bg-color: #DDD;\n",
              "  }\n",
              "\n",
              "  [theme=dark] .colab-df-quickchart {\n",
              "      --bg-color: #3B4455;\n",
              "      --fill-color: #D2E3FC;\n",
              "      --hover-bg-color: #434B5C;\n",
              "      --hover-fill-color: #FFFFFF;\n",
              "      --disabled-bg-color: #3B4455;\n",
              "      --disabled-fill-color: #666;\n",
              "  }\n",
              "\n",
              "  .colab-df-quickchart {\n",
              "    background-color: var(--bg-color);\n",
              "    border: none;\n",
              "    border-radius: 50%;\n",
              "    cursor: pointer;\n",
              "    display: none;\n",
              "    fill: var(--fill-color);\n",
              "    height: 32px;\n",
              "    padding: 0;\n",
              "    width: 32px;\n",
              "  }\n",
              "\n",
              "  .colab-df-quickchart:hover {\n",
              "    background-color: var(--hover-bg-color);\n",
              "    box-shadow: 0 1px 2px rgba(60, 64, 67, 0.3), 0 1px 3px 1px rgba(60, 64, 67, 0.15);\n",
              "    fill: var(--button-hover-fill-color);\n",
              "  }\n",
              "\n",
              "  .colab-df-quickchart-complete:disabled,\n",
              "  .colab-df-quickchart-complete:disabled:hover {\n",
              "    background-color: var(--disabled-bg-color);\n",
              "    fill: var(--disabled-fill-color);\n",
              "    box-shadow: none;\n",
              "  }\n",
              "\n",
              "  .colab-df-spinner {\n",
              "    border: 2px solid var(--fill-color);\n",
              "    border-color: transparent;\n",
              "    border-bottom-color: var(--fill-color);\n",
              "    animation:\n",
              "      spin 1s steps(1) infinite;\n",
              "  }\n",
              "\n",
              "  @keyframes spin {\n",
              "    0% {\n",
              "      border-color: transparent;\n",
              "      border-bottom-color: var(--fill-color);\n",
              "      border-left-color: var(--fill-color);\n",
              "    }\n",
              "    20% {\n",
              "      border-color: transparent;\n",
              "      border-left-color: var(--fill-color);\n",
              "      border-top-color: var(--fill-color);\n",
              "    }\n",
              "    30% {\n",
              "      border-color: transparent;\n",
              "      border-left-color: var(--fill-color);\n",
              "      border-top-color: var(--fill-color);\n",
              "      border-right-color: var(--fill-color);\n",
              "    }\n",
              "    40% {\n",
              "      border-color: transparent;\n",
              "      border-right-color: var(--fill-color);\n",
              "      border-top-color: var(--fill-color);\n",
              "    }\n",
              "    60% {\n",
              "      border-color: transparent;\n",
              "      border-right-color: var(--fill-color);\n",
              "    }\n",
              "    80% {\n",
              "      border-color: transparent;\n",
              "      border-right-color: var(--fill-color);\n",
              "      border-bottom-color: var(--fill-color);\n",
              "    }\n",
              "    90% {\n",
              "      border-color: transparent;\n",
              "      border-bottom-color: var(--fill-color);\n",
              "    }\n",
              "  }\n",
              "</style>\n",
              "\n",
              "      <script>\n",
              "        async function quickchart(key) {\n",
              "          const quickchartButtonEl =\n",
              "            document.querySelector('#' + key + ' button');\n",
              "          quickchartButtonEl.disabled = true;  // To prevent multiple clicks.\n",
              "          quickchartButtonEl.classList.add('colab-df-spinner');\n",
              "          try {\n",
              "            const charts = await google.colab.kernel.invokeFunction(\n",
              "                'suggestCharts', [key], {});\n",
              "          } catch (error) {\n",
              "            console.error('Error during call to suggestCharts:', error);\n",
              "          }\n",
              "          quickchartButtonEl.classList.remove('colab-df-spinner');\n",
              "          quickchartButtonEl.classList.add('colab-df-quickchart-complete');\n",
              "        }\n",
              "        (() => {\n",
              "          let quickchartButtonEl =\n",
              "            document.querySelector('#df-c0894a0d-0249-4cde-b850-a8719a4a692d button');\n",
              "          quickchartButtonEl.style.display =\n",
              "            google.colab.kernel.accessAllowed ? 'block' : 'none';\n",
              "        })();\n",
              "      </script>\n",
              "    </div>\n",
              "\n",
              "  <div id=\"id_b267467b-f18b-414e-a7f9-2819982c2425\">\n",
              "    <style>\n",
              "      .colab-df-generate {\n",
              "        background-color: #E8F0FE;\n",
              "        border: none;\n",
              "        border-radius: 50%;\n",
              "        cursor: pointer;\n",
              "        display: none;\n",
              "        fill: #1967D2;\n",
              "        height: 32px;\n",
              "        padding: 0 0 0 0;\n",
              "        width: 32px;\n",
              "      }\n",
              "\n",
              "      .colab-df-generate:hover {\n",
              "        background-color: #E2EBFA;\n",
              "        box-shadow: 0px 1px 2px rgba(60, 64, 67, 0.3), 0px 1px 3px 1px rgba(60, 64, 67, 0.15);\n",
              "        fill: #174EA6;\n",
              "      }\n",
              "\n",
              "      [theme=dark] .colab-df-generate {\n",
              "        background-color: #3B4455;\n",
              "        fill: #D2E3FC;\n",
              "      }\n",
              "\n",
              "      [theme=dark] .colab-df-generate:hover {\n",
              "        background-color: #434B5C;\n",
              "        box-shadow: 0px 1px 3px 1px rgba(0, 0, 0, 0.15);\n",
              "        filter: drop-shadow(0px 1px 2px rgba(0, 0, 0, 0.3));\n",
              "        fill: #FFFFFF;\n",
              "      }\n",
              "    </style>\n",
              "    <button class=\"colab-df-generate\" onclick=\"generateWithVariable('df')\"\n",
              "            title=\"Generate code using this dataframe.\"\n",
              "            style=\"display:none;\">\n",
              "\n",
              "  <svg xmlns=\"http://www.w3.org/2000/svg\" height=\"24px\"viewBox=\"0 0 24 24\"\n",
              "       width=\"24px\">\n",
              "    <path d=\"M7,19H8.4L18.45,9,17,7.55,7,17.6ZM5,21V16.75L18.45,3.32a2,2,0,0,1,2.83,0l1.4,1.43a1.91,1.91,0,0,1,.58,1.4,1.91,1.91,0,0,1-.58,1.4L9.25,21ZM18.45,9,17,7.55Zm-12,3A5.31,5.31,0,0,0,4.9,8.1,5.31,5.31,0,0,0,1,6.5,5.31,5.31,0,0,0,4.9,4.9,5.31,5.31,0,0,0,6.5,1,5.31,5.31,0,0,0,8.1,4.9,5.31,5.31,0,0,0,12,6.5,5.46,5.46,0,0,0,6.5,12Z\"/>\n",
              "  </svg>\n",
              "    </button>\n",
              "    <script>\n",
              "      (() => {\n",
              "      const buttonEl =\n",
              "        document.querySelector('#id_b267467b-f18b-414e-a7f9-2819982c2425 button.colab-df-generate');\n",
              "      buttonEl.style.display =\n",
              "        google.colab.kernel.accessAllowed ? 'block' : 'none';\n",
              "\n",
              "      buttonEl.onclick = () => {\n",
              "        google.colab.notebook.generateWithVariable('df');\n",
              "      }\n",
              "      })();\n",
              "    </script>\n",
              "  </div>\n",
              "\n",
              "    </div>\n",
              "  </div>\n"
            ],
            "application/vnd.google.colaboratory.intrinsic+json": {
              "type": "dataframe",
              "variable_name": "df",
              "summary": "{\n  \"name\": \"df\",\n  \"rows\": 50000,\n  \"fields\": [\n    {\n      \"column\": \"carat\",\n      \"properties\": {\n        \"dtype\": \"number\",\n        \"std\": 0.4751729878991273,\n        \"min\": 0.2,\n        \"max\": 5.01,\n        \"num_unique_values\": 272,\n        \"samples\": [\n          0.63,\n          1.54,\n          1.5\n        ],\n        \"semantic_type\": \"\",\n        \"description\": \"\"\n      }\n    },\n    {\n      \"column\": \"cut\",\n      \"properties\": {\n        \"dtype\": \"category\",\n        \"num_unique_values\": 5,\n        \"samples\": [\n          \"Premium\",\n          \"Fair\",\n          \"Good\"\n        ],\n        \"semantic_type\": \"\",\n        \"description\": \"\"\n      }\n    },\n    {\n      \"column\": \"color\",\n      \"properties\": {\n        \"dtype\": \"category\",\n        \"num_unique_values\": 7,\n        \"samples\": [\n          \"E\",\n          \"I\",\n          \"G\"\n        ],\n        \"semantic_type\": \"\",\n        \"description\": \"\"\n      }\n    },\n    {\n      \"column\": \"clarity\",\n      \"properties\": {\n        \"dtype\": \"category\",\n        \"num_unique_values\": 8,\n        \"samples\": [\n          \"SI1\",\n          \"VVS1\",\n          \"SI2\"\n        ],\n        \"semantic_type\": \"\",\n        \"description\": \"\"\n      }\n    },\n    {\n      \"column\": \"depth\",\n      \"properties\": {\n        \"dtype\": \"number\",\n        \"std\": 1.4310875319819645,\n        \"min\": 43.0,\n        \"max\": 79.0,\n        \"num_unique_values\": 181,\n        \"samples\": [\n          61.0,\n          59.2,\n          70.2\n        ],\n        \"semantic_type\": \"\",\n        \"description\": \"\"\n      }\n    },\n    {\n      \"column\": \"table\",\n      \"properties\": {\n        \"dtype\": \"number\",\n        \"std\": 2.232091739999323,\n        \"min\": 43.0,\n        \"max\": 95.0,\n        \"num_unique_values\": 126,\n        \"samples\": [\n          58.5,\n          68.0,\n          63.3\n        ],\n        \"semantic_type\": \"\",\n        \"description\": \"\"\n      }\n    },\n    {\n      \"column\": \"price\",\n      \"properties\": {\n        \"dtype\": \"number\",\n        \"std\": 3997,\n        \"min\": 326,\n        \"max\": 18823,\n        \"num_unique_values\": 11297,\n        \"samples\": [\n          6910,\n          14182,\n          2714\n        ],\n        \"semantic_type\": \"\",\n        \"description\": \"\"\n      }\n    },\n    {\n      \"column\": \"x\",\n      \"properties\": {\n        \"dtype\": \"number\",\n        \"std\": 1.1230773250858357,\n        \"min\": 0.0,\n        \"max\": 10.74,\n        \"num_unique_values\": 553,\n        \"samples\": [\n          5.02,\n          5.53,\n          9.51\n        ],\n        \"semantic_type\": \"\",\n        \"description\": \"\"\n      }\n    },\n    {\n      \"column\": \"y\",\n      \"properties\": {\n        \"dtype\": \"number\",\n        \"std\": 1.1455791612679045,\n        \"min\": 0.0,\n        \"max\": 58.9,\n        \"num_unique_values\": 551,\n        \"samples\": [\n          5.33,\n          5.58,\n          4.57\n        ],\n        \"semantic_type\": \"\",\n        \"description\": \"\"\n      }\n    },\n    {\n      \"column\": \"z\",\n      \"properties\": {\n        \"dtype\": \"number\",\n        \"std\": 0.7070647096794844,\n        \"min\": 0.0,\n        \"max\": 31.8,\n        \"num_unique_values\": 371,\n        \"samples\": [\n          5.48,\n          2.69,\n          2.7\n        ],\n        \"semantic_type\": \"\",\n        \"description\": \"\"\n      }\n    },\n    {\n      \"column\": \"volume\",\n      \"properties\": {\n        \"dtype\": \"number\",\n        \"std\": 78.55865059768159,\n        \"min\": 0.0,\n        \"max\": 3840.5980600000003,\n        \"num_unique_values\": 27237,\n        \"samples\": [\n          261.35025,\n          70.889668,\n          167.726148\n        ],\n        \"semantic_type\": \"\",\n        \"description\": \"\"\n      }\n    }\n  ]\n}"
            }
          },
          "metadata": {},
          "execution_count": 90
        }
      ]
    },
    {
      "cell_type": "markdown",
      "source": [
        "## **Assignment.11**"
      ],
      "metadata": {
        "id": "r7WKpwBhoNSK"
      }
    },
    {
      "cell_type": "markdown",
      "source": [
        "### 1. Calculate the number of days with missing temperature data (Max, Min, or Mean)."
      ],
      "metadata": {
        "id": "oGoQA7Doos27"
      }
    },
    {
      "cell_type": "code",
      "source": [
        "import pandas as pd\n",
        "import numpy as np"
      ],
      "metadata": {
        "id": "mnr70MSiotji"
      },
      "execution_count": null,
      "outputs": []
    }
  ]
}